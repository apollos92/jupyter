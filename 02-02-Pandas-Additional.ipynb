{
 "cells": [
  {
   "cell_type": "markdown",
   "metadata": {},
   "source": [
    "# Pandas / Python 추가 설명 "
   ]
  },
  {
   "cell_type": "markdown",
   "metadata": {},
   "source": [
    "## MultiIndex\n",
    "\n",
    "- Index Label: n-Tuple\n",
    "- 계층적(Hierarchical) 구조 간주 가능\n"
   ]
  },
  {
   "cell_type": "code",
   "execution_count": 1,
   "metadata": {},
   "outputs": [],
   "source": [
    "import pandas as pd\n",
    "import numpy as np\n",
    "import matplotlib.pyplot as plt"
   ]
  },
  {
   "cell_type": "code",
   "execution_count": 2,
   "metadata": {},
   "outputs": [
    {
     "data": {
      "text/html": [
       "<div>\n",
       "<style>\n",
       "    .dataframe thead tr:only-child th {\n",
       "        text-align: right;\n",
       "    }\n",
       "\n",
       "    .dataframe thead th {\n",
       "        text-align: left;\n",
       "    }\n",
       "\n",
       "    .dataframe tbody tr th {\n",
       "        vertical-align: top;\n",
       "    }\n",
       "</style>\n",
       "<table border=\"1\" class=\"dataframe\">\n",
       "  <thead>\n",
       "    <tr style=\"text-align: right;\">\n",
       "      <th></th>\n",
       "      <th></th>\n",
       "      <th>A</th>\n",
       "      <th>B</th>\n",
       "      <th>C</th>\n",
       "      <th>D</th>\n",
       "    </tr>\n",
       "    <tr>\n",
       "      <th>loc_wide</th>\n",
       "      <th>loc_mid</th>\n",
       "      <th></th>\n",
       "      <th></th>\n",
       "      <th></th>\n",
       "      <th></th>\n",
       "    </tr>\n",
       "  </thead>\n",
       "  <tbody>\n",
       "    <tr>\n",
       "      <th rowspan=\"4\" valign=\"top\">서울</th>\n",
       "      <th>종로구</th>\n",
       "      <td>1.443038</td>\n",
       "      <td>-0.807395</td>\n",
       "      <td>0.429408</td>\n",
       "      <td>0.568598</td>\n",
       "    </tr>\n",
       "    <tr>\n",
       "      <th>중구</th>\n",
       "      <td>-1.551394</td>\n",
       "      <td>-0.033334</td>\n",
       "      <td>-2.304304</td>\n",
       "      <td>1.999278</td>\n",
       "    </tr>\n",
       "    <tr>\n",
       "      <th>강동구</th>\n",
       "      <td>0.677651</td>\n",
       "      <td>-2.629746</td>\n",
       "      <td>0.830142</td>\n",
       "      <td>-0.650174</td>\n",
       "    </tr>\n",
       "    <tr>\n",
       "      <th>강남구</th>\n",
       "      <td>0.718280</td>\n",
       "      <td>-0.844303</td>\n",
       "      <td>-1.644878</td>\n",
       "      <td>-0.204476</td>\n",
       "    </tr>\n",
       "    <tr>\n",
       "      <th rowspan=\"3\" valign=\"top\">경기</th>\n",
       "      <th>안양시</th>\n",
       "      <td>0.019149</td>\n",
       "      <td>0.964109</td>\n",
       "      <td>-0.336355</td>\n",
       "      <td>-1.237866</td>\n",
       "    </tr>\n",
       "    <tr>\n",
       "      <th>성남시</th>\n",
       "      <td>-0.316764</td>\n",
       "      <td>-0.286946</td>\n",
       "      <td>-0.256938</td>\n",
       "      <td>0.059980</td>\n",
       "    </tr>\n",
       "    <tr>\n",
       "      <th>가평군</th>\n",
       "      <td>-0.193901</td>\n",
       "      <td>-1.247648</td>\n",
       "      <td>0.638637</td>\n",
       "      <td>0.223801</td>\n",
       "    </tr>\n",
       "  </tbody>\n",
       "</table>\n",
       "</div>"
      ],
      "text/plain": [
       "                         A         B         C         D\n",
       "loc_wide loc_mid                                        \n",
       "서울       종로구      1.443038 -0.807395  0.429408  0.568598\n",
       "         중구      -1.551394 -0.033334 -2.304304  1.999278\n",
       "         강동구      0.677651 -2.629746  0.830142 -0.650174\n",
       "         강남구      0.718280 -0.844303 -1.644878 -0.204476\n",
       "경기       안양시      0.019149  0.964109 -0.336355 -1.237866\n",
       "         성남시     -0.316764 -0.286946 -0.256938  0.059980\n",
       "         가평군     -0.193901 -1.247648  0.638637  0.223801"
      ]
     },
     "execution_count": 2,
     "metadata": {},
     "output_type": "execute_result"
    }
   ],
   "source": [
    "loc_arr = list(zip(*[['서울','서울', '서울', '서울', '경기', '경기', '경기'],\n",
    "                      ['종로구', '중구', '강동구', '강남구', '안양시', '성남시', '가평군']]))\n",
    "\n",
    "loc_index = pd.MultiIndex.from_tuples(loc_arr, names=['loc_wide', 'loc_mid'])\n",
    "df_loc = pd.DataFrame(np.random.randn(len(loc_arr), 4), index=loc_index, columns=list('ABCD'))\n",
    "df_loc"
   ]
  },
  {
   "cell_type": "code",
   "execution_count": 3,
   "metadata": {},
   "outputs": [
    {
     "data": {
      "text/html": [
       "<div>\n",
       "<style>\n",
       "    .dataframe thead tr:only-child th {\n",
       "        text-align: right;\n",
       "    }\n",
       "\n",
       "    .dataframe thead th {\n",
       "        text-align: left;\n",
       "    }\n",
       "\n",
       "    .dataframe tbody tr th {\n",
       "        vertical-align: top;\n",
       "    }\n",
       "</style>\n",
       "<table border=\"1\" class=\"dataframe\">\n",
       "  <thead>\n",
       "    <tr style=\"text-align: right;\">\n",
       "      <th></th>\n",
       "      <th>A</th>\n",
       "      <th>B</th>\n",
       "      <th>C</th>\n",
       "      <th>D</th>\n",
       "    </tr>\n",
       "    <tr>\n",
       "      <th>loc_mid</th>\n",
       "      <th></th>\n",
       "      <th></th>\n",
       "      <th></th>\n",
       "      <th></th>\n",
       "    </tr>\n",
       "  </thead>\n",
       "  <tbody>\n",
       "    <tr>\n",
       "      <th>종로구</th>\n",
       "      <td>1.443038</td>\n",
       "      <td>-0.807395</td>\n",
       "      <td>0.429408</td>\n",
       "      <td>0.568598</td>\n",
       "    </tr>\n",
       "    <tr>\n",
       "      <th>중구</th>\n",
       "      <td>-1.551394</td>\n",
       "      <td>-0.033334</td>\n",
       "      <td>-2.304304</td>\n",
       "      <td>1.999278</td>\n",
       "    </tr>\n",
       "    <tr>\n",
       "      <th>강동구</th>\n",
       "      <td>0.677651</td>\n",
       "      <td>-2.629746</td>\n",
       "      <td>0.830142</td>\n",
       "      <td>-0.650174</td>\n",
       "    </tr>\n",
       "    <tr>\n",
       "      <th>강남구</th>\n",
       "      <td>0.718280</td>\n",
       "      <td>-0.844303</td>\n",
       "      <td>-1.644878</td>\n",
       "      <td>-0.204476</td>\n",
       "    </tr>\n",
       "  </tbody>\n",
       "</table>\n",
       "</div>"
      ],
      "text/plain": [
       "                A         B         C         D\n",
       "loc_mid                                        \n",
       "종로구      1.443038 -0.807395  0.429408  0.568598\n",
       "중구      -1.551394 -0.033334 -2.304304  1.999278\n",
       "강동구      0.677651 -2.629746  0.830142 -0.650174\n",
       "강남구      0.718280 -0.844303 -1.644878 -0.204476"
      ]
     },
     "execution_count": 3,
     "metadata": {},
     "output_type": "execute_result"
    }
   ],
   "source": [
    "df_loc.loc['서울']"
   ]
  },
  {
   "cell_type": "code",
   "execution_count": 4,
   "metadata": {},
   "outputs": [
    {
     "data": {
      "text/plain": [
       "array([ True,  True, False], dtype=bool)"
      ]
     },
     "execution_count": 4,
     "metadata": {},
     "output_type": "execute_result"
    }
   ],
   "source": [
    "df_kyunggi = df_loc.loc['경기']\n",
    "df_kyunggi.index.str.endswith('시')"
   ]
  },
  {
   "cell_type": "code",
   "execution_count": 5,
   "metadata": {},
   "outputs": [
    {
     "data": {
      "text/html": [
       "<div>\n",
       "<style>\n",
       "    .dataframe thead tr:only-child th {\n",
       "        text-align: right;\n",
       "    }\n",
       "\n",
       "    .dataframe thead th {\n",
       "        text-align: left;\n",
       "    }\n",
       "\n",
       "    .dataframe tbody tr th {\n",
       "        vertical-align: top;\n",
       "    }\n",
       "</style>\n",
       "<table border=\"1\" class=\"dataframe\">\n",
       "  <thead>\n",
       "    <tr style=\"text-align: right;\">\n",
       "      <th></th>\n",
       "      <th>A</th>\n",
       "      <th>B</th>\n",
       "      <th>C</th>\n",
       "      <th>D</th>\n",
       "    </tr>\n",
       "    <tr>\n",
       "      <th>loc_mid</th>\n",
       "      <th></th>\n",
       "      <th></th>\n",
       "      <th></th>\n",
       "      <th></th>\n",
       "    </tr>\n",
       "  </thead>\n",
       "  <tbody>\n",
       "    <tr>\n",
       "      <th>안양시</th>\n",
       "      <td>0.019149</td>\n",
       "      <td>0.964109</td>\n",
       "      <td>-0.336355</td>\n",
       "      <td>-1.237866</td>\n",
       "    </tr>\n",
       "    <tr>\n",
       "      <th>성남시</th>\n",
       "      <td>-0.316764</td>\n",
       "      <td>-0.286946</td>\n",
       "      <td>-0.256938</td>\n",
       "      <td>0.059980</td>\n",
       "    </tr>\n",
       "  </tbody>\n",
       "</table>\n",
       "</div>"
      ],
      "text/plain": [
       "                A         B         C         D\n",
       "loc_mid                                        \n",
       "안양시      0.019149  0.964109 -0.336355 -1.237866\n",
       "성남시     -0.316764 -0.286946 -0.256938  0.059980"
      ]
     },
     "execution_count": 5,
     "metadata": {},
     "output_type": "execute_result"
    }
   ],
   "source": [
    "df_kyunggi = df_loc.loc['경기']\n",
    "df_kyunggi[df_kyunggi.index.str.endswith('시')]\n"
   ]
  },
  {
   "cell_type": "markdown",
   "metadata": {},
   "source": [
    "## Time Series"
   ]
  },
  {
   "cell_type": "code",
   "execution_count": 6,
   "metadata": {},
   "outputs": [
    {
     "data": {
      "text/plain": [
       "2017-01-01 00:00:00    0.802577\n",
       "2017-01-01 01:00:00    0.909392\n",
       "2017-01-01 02:00:00    2.335054\n",
       "2017-01-01 03:00:00   -0.170556\n",
       "2017-01-01 04:00:00   -0.443956\n",
       "Freq: H, dtype: float64"
      ]
     },
     "execution_count": 6,
     "metadata": {},
     "output_type": "execute_result"
    }
   ],
   "source": [
    "rng = pd.date_range('2017-01-01 00', periods=5, freq='H')\n",
    "ts = pd.Series(np.random.randn(len(rng)), index=rng)\n",
    "ts"
   ]
  },
  {
   "cell_type": "markdown",
   "metadata": {},
   "source": [
    "### Time Offset Alias\n",
    "\n",
    "Alias | Description\n",
    "---|---\n",
    "B | business day frequency\n",
    "C | custom business day frequency (experimental)\n",
    "D | calendar day frequency\n",
    "W | weekly frequency\n",
    "M | month end frequency\n",
    "SM | semi-month end frequency (15th and end of month)\n",
    "BM | business month end frequency\n",
    "CBM | custom business month end frequency\n",
    "MS | month start frequency\n",
    "SMS | semi-month start frequency (1st and 15th)\n",
    "BMS | business month start frequency\n",
    "CBMS | custom business month start frequency\n",
    "Q | quarter end frequency\n",
    "BQ | business quarter endfrequency\n",
    "QS | quarter start frequency\n",
    "BQS | business quarter start frequency\n",
    "A | year end frequency\n",
    "BA | business year end frequency\n",
    "AS | year start frequency\n",
    "BAS | business year start frequency\n",
    "BH | business hour frequency\n",
    "H | hourly frequency\n",
    "T, min | minutely frequency\n",
    "S | secondly frequency\n",
    "L, ms | milliseconds\n",
    "U, us | microseconds\n",
    "N | nanoseconds"
   ]
  },
  {
   "cell_type": "markdown",
   "metadata": {},
   "source": [
    "- 월 주기 `M` : 각 주기 마지막 시점 기준으로 timestamp 기록됨"
   ]
  },
  {
   "cell_type": "code",
   "execution_count": 7,
   "metadata": {},
   "outputs": [
    {
     "data": {
      "text/plain": [
       "2016-01-31    2.803418\n",
       "2016-02-29   -0.056898\n",
       "2016-03-31   -0.379156\n",
       "2016-04-30   -1.388276\n",
       "2016-05-31    0.959279\n",
       "Freq: M, dtype: float64"
      ]
     },
     "execution_count": 7,
     "metadata": {},
     "output_type": "execute_result"
    }
   ],
   "source": [
    "rng = pd.date_range('2016-01-01 00', periods=5, freq='M')\n",
    "ts = pd.Series(np.random.randn(len(rng)), index=rng)\n",
    "ts"
   ]
  },
  {
   "cell_type": "code",
   "execution_count": 8,
   "metadata": {},
   "outputs": [
    {
     "data": {
      "text/plain": [
       "2016-01-01    2.803418\n",
       "2016-02-01   -0.056898\n",
       "2016-03-01   -0.379156\n",
       "2016-04-01   -1.388276\n",
       "2016-05-01    0.959279\n",
       "Freq: MS, dtype: float64"
      ]
     },
     "execution_count": 8,
     "metadata": {},
     "output_type": "execute_result"
    }
   ],
   "source": [
    "ps = ts.to_period()\n",
    "ps.to_timestamp()"
   ]
  },
  {
   "cell_type": "code",
   "execution_count": 9,
   "metadata": {},
   "outputs": [
    {
     "data": {
      "text/plain": [
       "2016-01-01    0.273257\n",
       "2016-02-01   -0.793216\n",
       "2016-03-01   -1.821601\n",
       "2016-04-01   -0.980874\n",
       "2016-05-01   -1.010886\n",
       "Freq: MS, dtype: float64"
      ]
     },
     "execution_count": 9,
     "metadata": {},
     "output_type": "execute_result"
    }
   ],
   "source": [
    "rng = pd.date_range('2016-01-01 00', periods=5, freq='MS')\n",
    "ts = pd.Series(np.random.randn(len(rng)), index=rng)\n",
    "ts\n",
    "#ps = ts.to_period()\n",
    "#ps.to_timestamp()"
   ]
  },
  {
   "cell_type": "code",
   "execution_count": 10,
   "metadata": {},
   "outputs": [
    {
     "data": {
      "text/plain": [
       "2016-01-01    0.273257\n",
       "2016-02-01   -0.793216\n",
       "2016-03-01   -1.821601\n",
       "2016-04-01   -0.980874\n",
       "2016-05-01   -1.010886\n",
       "Freq: MS, dtype: float64"
      ]
     },
     "execution_count": 10,
     "metadata": {},
     "output_type": "execute_result"
    }
   ],
   "source": [
    "ps = ts.to_period()\n",
    "ps.to_timestamp()"
   ]
  },
  {
   "cell_type": "markdown",
   "metadata": {
    "collapsed": true
   },
   "source": [
    "## Python "
   ]
  },
  {
   "cell_type": "markdown",
   "metadata": {},
   "source": [
    "### List Comprehension"
   ]
  },
  {
   "cell_type": "markdown",
   "metadata": {},
   "source": [
    "- 아래와 같은 Sequence를 List Comprehension 형태로 표현 가능\n",
    "  - $ S = \\{ x^2 \\mid x \\in \\{ 0 ... 9 \\} \\}$"
   ]
  },
  {
   "cell_type": "code",
   "execution_count": 11,
   "metadata": {},
   "outputs": [
    {
     "data": {
      "text/plain": [
       "[0, 1, 4, 9, 16, 25, 36, 49, 64, 81]"
      ]
     },
     "execution_count": 11,
     "metadata": {},
     "output_type": "execute_result"
    }
   ],
   "source": [
    "[x**2 for x in range(0,10)]"
   ]
  },
  {
   "cell_type": "markdown",
   "metadata": {},
   "source": [
    "- 예: 2~49 소수 구하기: 소수가 아닌 `noprimes`를 생성하고, 거기에 포함되지 않는 수를 소수 `prime`으로 채택"
   ]
  },
  {
   "cell_type": "code",
   "execution_count": 12,
   "metadata": {},
   "outputs": [
    {
     "data": {
      "text/plain": [
       "[2, 3, 5, 7, 11, 13, 17, 19, 23, 29, 31, 37, 41, 43, 47]"
      ]
     },
     "execution_count": 12,
     "metadata": {},
     "output_type": "execute_result"
    }
   ],
   "source": [
    "noprimes = {j for i in range(2,8) for j in range(i*2, 50, i)} ## 중복 방지 위해 Set 형으로\n",
    "primes = [x for x in range(2,50) if x not in noprimes] \n",
    "primes"
   ]
  },
  {
   "cell_type": "markdown",
   "metadata": {},
   "source": [
    "- 위의 식을 다음과 같이 묶을수도 있으나, 가독성이 좋지 않다고 판단되면 나누는 것이 좋음"
   ]
  },
  {
   "cell_type": "code",
   "execution_count": 13,
   "metadata": {},
   "outputs": [
    {
     "data": {
      "text/plain": [
       "[2, 3, 5, 7, 11, 13, 17, 19, 23, 29, 31, 37, 41, 43, 47]"
      ]
     },
     "execution_count": 13,
     "metadata": {},
     "output_type": "execute_result"
    }
   ],
   "source": [
    "primes = [x for x in range(2,50) if x not in {j for i in range(2,8) for j in range(i*2, 50, i)}] \n",
    "primes"
   ]
  },
  {
   "cell_type": "markdown",
   "metadata": {},
   "source": [
    "- 다음과 같이 `tuple` `list`를 만드는데 활용"
   ]
  },
  {
   "cell_type": "code",
   "execution_count": 14,
   "metadata": {},
   "outputs": [
    {
     "data": {
      "text/plain": [
       "[('THE', 'the', 3),\n",
       " ('QUICK', 'quick', 5),\n",
       " ('BROWN', 'brown', 5),\n",
       " ('FOX', 'fox', 3),\n",
       " ('JUMPS', 'jumps', 5),\n",
       " ('OVER', 'over', 4),\n",
       " ('THE', 'the', 3),\n",
       " ('LAZY', 'lazy', 4),\n",
       " ('DOG', 'dog', 3)]"
      ]
     },
     "execution_count": 14,
     "metadata": {},
     "output_type": "execute_result"
    }
   ],
   "source": [
    "words = 'The quick brown fox jumps over the lazy dog'.split()\n",
    "stuff = [(w.upper(), w.lower(), len(w)) for w in words]\n",
    "stuff"
   ]
  },
  {
   "cell_type": "markdown",
   "metadata": {},
   "source": [
    "- 위와 같은 방법을 사용하거나, `map()` 함수와 `lambda` 함수를 이용할 수 있음\n",
    "\n",
    "> 단, `map()`의 결과는 iterable이므로, 리스트로 활용하려면 `list()` 로 변환"
   ]
  },
  {
   "cell_type": "code",
   "execution_count": 15,
   "metadata": {},
   "outputs": [
    {
     "data": {
      "text/plain": [
       "[('THE', 'the', 3),\n",
       " ('QUICK', 'quick', 5),\n",
       " ('BROWN', 'brown', 5),\n",
       " ('FOX', 'fox', 3),\n",
       " ('JUMPS', 'jumps', 5),\n",
       " ('OVER', 'over', 4),\n",
       " ('THE', 'the', 3),\n",
       " ('LAZY', 'lazy', 4),\n",
       " ('DOG', 'dog', 3)]"
      ]
     },
     "execution_count": 15,
     "metadata": {},
     "output_type": "execute_result"
    }
   ],
   "source": [
    "stuff = list(map(lambda w: (w.upper(), w.lower(), len(w)), words)) \n",
    "stuff"
   ]
  },
  {
   "cell_type": "markdown",
   "metadata": {},
   "source": [
    "### Packing / Unpacking Arguments\n",
    "\n",
    "#### Arguments Packing\n",
    "\n",
    "> `*`, `**` 사용 Argument\n",
    "\n",
    "- `*` : unnamed args - 전체는 tuple로 묶임\n",
    "- `**` : named args - 전체는 map으로 묶임\n",
    "- named args는 unnamed args 앞에 와야 함!"
   ]
  },
  {
   "cell_type": "code",
   "execution_count": 16,
   "metadata": {},
   "outputs": [
    {
     "name": "stdout",
     "output_type": "stream",
     "text": [
      "<class 'tuple'> <class 'dict'>\n",
      "args: (1, 'a', 27)\n",
      "kwargs: {'x': 1, 'y': 'abc'}\n"
     ]
    }
   ],
   "source": [
    "def func(*args, **kwargs):\n",
    "    print(type(args), type(kwargs))\n",
    "    print(\"args: %s\" % str(args))\n",
    "    print(\"kwargs: %s\" % kwargs)\n",
    "\n",
    "func(1,\"a\", 27, x=1, y=\"abc\")"
   ]
  },
  {
   "cell_type": "markdown",
   "metadata": {},
   "source": [
    "#### Unpacking\n",
    "\n",
    "> Argument로 들어갈 iterable을 `*` (unnamed args), `**` (named args)로 변환"
   ]
  },
  {
   "cell_type": "code",
   "execution_count": 17,
   "metadata": {},
   "outputs": [
    {
     "name": "stdout",
     "output_type": "stream",
     "text": [
      "<class 'tuple'> <class 'dict'>\n",
      "args: ({'The': 3, 'quick': 5, 'brown': 5, 'fox': 3, 'jumps': 5, 'over': 4, 'the': 3, 'lazy': 4, 'dog': 3},)\n",
      "kwargs: {}\n"
     ]
    }
   ],
   "source": [
    "words = 'The quick brown fox jumps over the lazy dog'.split()\n",
    "term_len = {x:len(x) for x in words}\n",
    "func(term_len)"
   ]
  },
  {
   "cell_type": "code",
   "execution_count": 18,
   "metadata": {},
   "outputs": [
    {
     "name": "stdout",
     "output_type": "stream",
     "text": [
      "<class 'tuple'> <class 'dict'>\n",
      "args: ('The', 'quick', 'brown', 'fox', 'jumps', 'over', 'the', 'lazy', 'dog')\n",
      "kwargs: {}\n"
     ]
    }
   ],
   "source": [
    "func(*term_len)"
   ]
  },
  {
   "cell_type": "code",
   "execution_count": 19,
   "metadata": {},
   "outputs": [
    {
     "name": "stdout",
     "output_type": "stream",
     "text": [
      "<class 'tuple'> <class 'dict'>\n",
      "args: ()\n",
      "kwargs: {'The': 3, 'quick': 5, 'brown': 5, 'fox': 3, 'jumps': 5, 'over': 4, 'the': 3, 'lazy': 4, 'dog': 3}\n"
     ]
    }
   ],
   "source": [
    "func(**term_len)"
   ]
  },
  {
   "cell_type": "code",
   "execution_count": 20,
   "metadata": {},
   "outputs": [
    {
     "name": "stdout",
     "output_type": "stream",
     "text": [
      "<class 'map'>\n",
      "<class 'tuple'> <class 'dict'>\n",
      "args: (('THE', 'the', 3), ('QUICK', 'quick', 5), ('BROWN', 'brown', 5), ('FOX', 'fox', 3), ('JUMPS', 'jumps', 5), ('OVER', 'over', 4), ('THE', 'the', 3), ('LAZY', 'lazy', 4), ('DOG', 'dog', 3))\n",
      "kwargs: {}\n"
     ]
    }
   ],
   "source": [
    "stuff = map(lambda w: (w.upper(), w.lower(), len(w)), words)\n",
    "print(map)\n",
    "func(*stuff)"
   ]
  }
 ],
 "metadata": {
  "kernelspec": {
   "display_name": "Python3 (tensorflow)",
   "language": "python",
   "name": "tensorflow"
  },
  "language_info": {
   "codemirror_mode": {
    "name": "ipython",
    "version": 3
   },
   "file_extension": ".py",
   "mimetype": "text/x-python",
   "name": "python",
   "nbconvert_exporter": "python",
   "pygments_lexer": "ipython3",
   "version": "3.6.1"
  }
 },
 "nbformat": 4,
 "nbformat_minor": 2
}
