{
 "cells": [
  {
   "cell_type": "code",
   "execution_count": 1,
   "metadata": {},
   "outputs": [
    {
     "ename": "ImportError",
     "evalue": "No module named 'matplotlib'",
     "output_type": "error",
     "traceback": [
      "\u001b[0;31m---------------------------------------------------------------------------\u001b[0m",
      "\u001b[0;31mImportError\u001b[0m                               Traceback (most recent call last)",
      "\u001b[0;32m<ipython-input-1-bf65a6123d0f>\u001b[0m in \u001b[0;36m<module>\u001b[0;34m()\u001b[0m\n\u001b[1;32m      1\u001b[0m \u001b[0;32mimport\u001b[0m \u001b[0mpandas\u001b[0m \u001b[0;32mas\u001b[0m \u001b[0mpd\u001b[0m\u001b[0;34m\u001b[0m\u001b[0m\n\u001b[1;32m      2\u001b[0m \u001b[0;32mimport\u001b[0m \u001b[0mnumpy\u001b[0m \u001b[0;32mas\u001b[0m \u001b[0mnp\u001b[0m\u001b[0;34m\u001b[0m\u001b[0m\n\u001b[0;32m----> 3\u001b[0;31m \u001b[0;32mimport\u001b[0m \u001b[0mmatplotlib\u001b[0m\u001b[0;34m.\u001b[0m\u001b[0mpyplot\u001b[0m \u001b[0;32mas\u001b[0m \u001b[0mplt\u001b[0m\u001b[0;34m\u001b[0m\u001b[0m\n\u001b[0m",
      "\u001b[0;31mImportError\u001b[0m: No module named 'matplotlib'"
     ]
    }
   ],
   "source": [
    "import pandas as pd\n",
    "import numpy as np\n",
    "import matplotlib.pyplot as plt"
   ]
  },
  {
   "cell_type": "markdown",
   "metadata": {},
   "source": [
    "## Object Creation\n",
    "\n",
    "### `Series`"
   ]
  },
  {
   "cell_type": "code",
   "execution_count": 2,
   "metadata": {
    "collapsed": true
   },
   "outputs": [],
   "source": [
    "s = pd.Series([1, 3, 5, np.nan, 6, 8])"
   ]
  },
  {
   "cell_type": "markdown",
   "metadata": {},
   "source": [
    "> `np.nan`: Not An Number. 결측치 (missing value) 를 나타낼 때 주로 쓰임"
   ]
  },
  {
   "cell_type": "code",
   "execution_count": 4,
   "metadata": {},
   "outputs": [
    {
     "data": {
      "text/plain": [
       "0    1.0\n",
       "1    3.0\n",
       "2    5.0\n",
       "3    NaN\n",
       "4    6.0\n",
       "5    8.0\n",
       "dtype: float64"
      ]
     },
     "execution_count": 4,
     "metadata": {},
     "output_type": "execute_result"
    }
   ],
   "source": [
    "s"
   ]
  },
  {
   "cell_type": "markdown",
   "metadata": {},
   "source": [
    "### `DataFrame`"
   ]
  },
  {
   "cell_type": "code",
   "execution_count": 7,
   "metadata": {},
   "outputs": [
    {
     "data": {
      "text/plain": [
       "DatetimeIndex(['2013-01-01', '2013-01-02', '2013-01-03', '2013-01-04',\n",
       "               '2013-01-05', '2013-01-06'],\n",
       "              dtype='datetime64[ns]', freq='D')"
      ]
     },
     "execution_count": 7,
     "metadata": {},
     "output_type": "execute_result"
    }
   ],
   "source": [
    "dates = pd.date_range('20130101', '20130106') # 원 페이지 코드 오류: 시작, 끝, 선택적으로 주기(=step)값 인수임\n",
    "dates"
   ]
  },
  {
   "cell_type": "code",
   "execution_count": 8,
   "metadata": {
    "collapsed": true
   },
   "outputs": [],
   "source": [
    "df = pd.DataFrame(np.random.randn(6,4), index=dates, columns=list('ABCD'))"
   ]
  },
  {
   "cell_type": "code",
   "execution_count": 9,
   "metadata": {},
   "outputs": [
    {
     "data": {
      "text/html": [
       "<div>\n",
       "<style>\n",
       "    .dataframe thead tr:only-child th {\n",
       "        text-align: right;\n",
       "    }\n",
       "\n",
       "    .dataframe thead th {\n",
       "        text-align: left;\n",
       "    }\n",
       "\n",
       "    .dataframe tbody tr th {\n",
       "        vertical-align: top;\n",
       "    }\n",
       "</style>\n",
       "<table border=\"1\" class=\"dataframe\">\n",
       "  <thead>\n",
       "    <tr style=\"text-align: right;\">\n",
       "      <th></th>\n",
       "      <th>A</th>\n",
       "      <th>B</th>\n",
       "      <th>C</th>\n",
       "      <th>D</th>\n",
       "    </tr>\n",
       "  </thead>\n",
       "  <tbody>\n",
       "    <tr>\n",
       "      <th>2013-01-01</th>\n",
       "      <td>-0.732504</td>\n",
       "      <td>-0.477730</td>\n",
       "      <td>1.125425</td>\n",
       "      <td>1.110776</td>\n",
       "    </tr>\n",
       "    <tr>\n",
       "      <th>2013-01-02</th>\n",
       "      <td>1.114156</td>\n",
       "      <td>-1.569409</td>\n",
       "      <td>0.643545</td>\n",
       "      <td>-0.482571</td>\n",
       "    </tr>\n",
       "    <tr>\n",
       "      <th>2013-01-03</th>\n",
       "      <td>0.134919</td>\n",
       "      <td>-0.035634</td>\n",
       "      <td>0.517091</td>\n",
       "      <td>-0.791114</td>\n",
       "    </tr>\n",
       "    <tr>\n",
       "      <th>2013-01-04</th>\n",
       "      <td>-0.842252</td>\n",
       "      <td>-2.124258</td>\n",
       "      <td>0.600832</td>\n",
       "      <td>1.834915</td>\n",
       "    </tr>\n",
       "    <tr>\n",
       "      <th>2013-01-05</th>\n",
       "      <td>0.343848</td>\n",
       "      <td>0.496475</td>\n",
       "      <td>-1.021254</td>\n",
       "      <td>-0.350403</td>\n",
       "    </tr>\n",
       "    <tr>\n",
       "      <th>2013-01-06</th>\n",
       "      <td>-1.017200</td>\n",
       "      <td>1.282888</td>\n",
       "      <td>-1.913240</td>\n",
       "      <td>1.366801</td>\n",
       "    </tr>\n",
       "  </tbody>\n",
       "</table>\n",
       "</div>"
      ],
      "text/plain": [
       "                   A         B         C         D\n",
       "2013-01-01 -0.732504 -0.477730  1.125425  1.110776\n",
       "2013-01-02  1.114156 -1.569409  0.643545 -0.482571\n",
       "2013-01-03  0.134919 -0.035634  0.517091 -0.791114\n",
       "2013-01-04 -0.842252 -2.124258  0.600832  1.834915\n",
       "2013-01-05  0.343848  0.496475 -1.021254 -0.350403\n",
       "2013-01-06 -1.017200  1.282888 -1.913240  1.366801"
      ]
     },
     "execution_count": 9,
     "metadata": {},
     "output_type": "execute_result"
    }
   ],
   "source": [
    "df"
   ]
  },
  {
   "cell_type": "code",
   "execution_count": 10,
   "metadata": {},
   "outputs": [
    {
     "data": {
      "text/html": [
       "<div>\n",
       "<style>\n",
       "    .dataframe thead tr:only-child th {\n",
       "        text-align: right;\n",
       "    }\n",
       "\n",
       "    .dataframe thead th {\n",
       "        text-align: left;\n",
       "    }\n",
       "\n",
       "    .dataframe tbody tr th {\n",
       "        vertical-align: top;\n",
       "    }\n",
       "</style>\n",
       "<table border=\"1\" class=\"dataframe\">\n",
       "  <thead>\n",
       "    <tr style=\"text-align: right;\">\n",
       "      <th></th>\n",
       "      <th>A</th>\n",
       "      <th>B</th>\n",
       "      <th>C</th>\n",
       "      <th>D</th>\n",
       "    </tr>\n",
       "  </thead>\n",
       "  <tbody>\n",
       "    <tr>\n",
       "      <th>2013-01-01</th>\n",
       "      <td>-0.732504</td>\n",
       "      <td>-0.477730</td>\n",
       "      <td>1.125425</td>\n",
       "      <td>1.110776</td>\n",
       "    </tr>\n",
       "    <tr>\n",
       "      <th>2013-01-02</th>\n",
       "      <td>1.114156</td>\n",
       "      <td>-1.569409</td>\n",
       "      <td>0.643545</td>\n",
       "      <td>-0.482571</td>\n",
       "    </tr>\n",
       "  </tbody>\n",
       "</table>\n",
       "</div>"
      ],
      "text/plain": [
       "                   A         B         C         D\n",
       "2013-01-01 -0.732504 -0.477730  1.125425  1.110776\n",
       "2013-01-02  1.114156 -1.569409  0.643545 -0.482571"
      ]
     },
     "execution_count": 10,
     "metadata": {},
     "output_type": "execute_result"
    }
   ],
   "source": [
    "df.head(2)"
   ]
  },
  {
   "cell_type": "code",
   "execution_count": 11,
   "metadata": {},
   "outputs": [
    {
     "data": {
      "text/html": [
       "<div>\n",
       "<style>\n",
       "    .dataframe thead tr:only-child th {\n",
       "        text-align: right;\n",
       "    }\n",
       "\n",
       "    .dataframe thead th {\n",
       "        text-align: left;\n",
       "    }\n",
       "\n",
       "    .dataframe tbody tr th {\n",
       "        vertical-align: top;\n",
       "    }\n",
       "</style>\n",
       "<table border=\"1\" class=\"dataframe\">\n",
       "  <thead>\n",
       "    <tr style=\"text-align: right;\">\n",
       "      <th></th>\n",
       "      <th>A</th>\n",
       "      <th>B</th>\n",
       "      <th>C</th>\n",
       "      <th>D</th>\n",
       "    </tr>\n",
       "  </thead>\n",
       "  <tbody>\n",
       "    <tr>\n",
       "      <th>2013-01-05</th>\n",
       "      <td>0.343848</td>\n",
       "      <td>0.496475</td>\n",
       "      <td>-1.021254</td>\n",
       "      <td>-0.350403</td>\n",
       "    </tr>\n",
       "    <tr>\n",
       "      <th>2013-01-06</th>\n",
       "      <td>-1.017200</td>\n",
       "      <td>1.282888</td>\n",
       "      <td>-1.913240</td>\n",
       "      <td>1.366801</td>\n",
       "    </tr>\n",
       "  </tbody>\n",
       "</table>\n",
       "</div>"
      ],
      "text/plain": [
       "                   A         B         C         D\n",
       "2013-01-05  0.343848  0.496475 -1.021254 -0.350403\n",
       "2013-01-06 -1.017200  1.282888 -1.913240  1.366801"
      ]
     },
     "execution_count": 11,
     "metadata": {},
     "output_type": "execute_result"
    }
   ],
   "source": [
    "df.tail(2)"
   ]
  },
  {
   "cell_type": "code",
   "execution_count": 12,
   "metadata": {
    "collapsed": true
   },
   "outputs": [],
   "source": [
    "df2 = pd.DataFrame({ 'A' : 1.,\n",
    "                         'B' : pd.Timestamp('20130102'),\n",
    "                         'C' : pd.Series(1,index=list(range(4)),dtype='float32'),\n",
    "                         'D' : np.array([3] * 4,dtype='int32'),\n",
    "                         'E' : pd.Categorical([\"test\",\"train\",\"test\",\"train\"]),\n",
    "                         'F' : 'foo' })"
   ]
  },
  {
   "cell_type": "code",
   "execution_count": 13,
   "metadata": {},
   "outputs": [
    {
     "data": {
      "text/html": [
       "<div>\n",
       "<style>\n",
       "    .dataframe thead tr:only-child th {\n",
       "        text-align: right;\n",
       "    }\n",
       "\n",
       "    .dataframe thead th {\n",
       "        text-align: left;\n",
       "    }\n",
       "\n",
       "    .dataframe tbody tr th {\n",
       "        vertical-align: top;\n",
       "    }\n",
       "</style>\n",
       "<table border=\"1\" class=\"dataframe\">\n",
       "  <thead>\n",
       "    <tr style=\"text-align: right;\">\n",
       "      <th></th>\n",
       "      <th>A</th>\n",
       "      <th>B</th>\n",
       "      <th>C</th>\n",
       "      <th>D</th>\n",
       "      <th>E</th>\n",
       "      <th>F</th>\n",
       "    </tr>\n",
       "  </thead>\n",
       "  <tbody>\n",
       "    <tr>\n",
       "      <th>0</th>\n",
       "      <td>1.0</td>\n",
       "      <td>2013-01-02</td>\n",
       "      <td>1.0</td>\n",
       "      <td>3</td>\n",
       "      <td>test</td>\n",
       "      <td>foo</td>\n",
       "    </tr>\n",
       "    <tr>\n",
       "      <th>1</th>\n",
       "      <td>1.0</td>\n",
       "      <td>2013-01-02</td>\n",
       "      <td>1.0</td>\n",
       "      <td>3</td>\n",
       "      <td>train</td>\n",
       "      <td>foo</td>\n",
       "    </tr>\n",
       "    <tr>\n",
       "      <th>2</th>\n",
       "      <td>1.0</td>\n",
       "      <td>2013-01-02</td>\n",
       "      <td>1.0</td>\n",
       "      <td>3</td>\n",
       "      <td>test</td>\n",
       "      <td>foo</td>\n",
       "    </tr>\n",
       "    <tr>\n",
       "      <th>3</th>\n",
       "      <td>1.0</td>\n",
       "      <td>2013-01-02</td>\n",
       "      <td>1.0</td>\n",
       "      <td>3</td>\n",
       "      <td>train</td>\n",
       "      <td>foo</td>\n",
       "    </tr>\n",
       "  </tbody>\n",
       "</table>\n",
       "</div>"
      ],
      "text/plain": [
       "     A          B    C  D      E    F\n",
       "0  1.0 2013-01-02  1.0  3   test  foo\n",
       "1  1.0 2013-01-02  1.0  3  train  foo\n",
       "2  1.0 2013-01-02  1.0  3   test  foo\n",
       "3  1.0 2013-01-02  1.0  3  train  foo"
      ]
     },
     "execution_count": 13,
     "metadata": {},
     "output_type": "execute_result"
    }
   ],
   "source": [
    "df2"
   ]
  },
  {
   "cell_type": "code",
   "execution_count": 18,
   "metadata": {},
   "outputs": [
    {
     "data": {
      "text/plain": [
       "A           float64\n",
       "B    datetime64[ns]\n",
       "C           float32\n",
       "D             int32\n",
       "E          category\n",
       "F            object\n",
       "dtype: object"
      ]
     },
     "execution_count": 18,
     "metadata": {},
     "output_type": "execute_result"
    }
   ],
   "source": [
    "df2.dtypes"
   ]
  },
  {
   "cell_type": "code",
   "execution_count": 17,
   "metadata": {},
   "outputs": [
    {
     "data": {
      "text/plain": [
       "mappingproxy({'T': <property at 0x7fe1fc3c60e8>,\n",
       "              '_AXIS_ALIASES': {'rows': 0},\n",
       "              '_AXIS_IALIASES': {0: 'rows'},\n",
       "              '_AXIS_LEN': 2,\n",
       "              '_AXIS_NAMES': {0: 'index', 1: 'columns'},\n",
       "              '_AXIS_NUMBERS': {'columns': 1, 'index': 0},\n",
       "              '_AXIS_ORDERS': ['index', 'columns'],\n",
       "              '_AXIS_REVERSED': True,\n",
       "              '_AXIS_SLICEMAP': None,\n",
       "              '__add__': <function pandas.core.ops._arith_method_FRAME.<locals>.f>,\n",
       "              '__and__': <function pandas.core.ops._arith_method_FRAME.<locals>.f>,\n",
       "              '__div__': <function pandas.core.ops._arith_method_FRAME.<locals>.f>,\n",
       "              '__doc__': \" Two-dimensional size-mutable, potentially heterogeneous tabular data\\n    structure with labeled axes (rows and columns). Arithmetic operations\\n    align on both row and column labels. Can be thought of as a dict-like\\n    container for Series objects. The primary pandas data structure\\n\\n    Parameters\\n    ----------\\n    data : numpy ndarray (structured or homogeneous), dict, or DataFrame\\n        Dict can contain Series, arrays, constants, or list-like objects\\n    index : Index or array-like\\n        Index to use for resulting frame. Will default to np.arange(n) if\\n        no indexing information part of input data and no index provided\\n    columns : Index or array-like\\n        Column labels to use for resulting frame. Will default to\\n        np.arange(n) if no column labels are provided\\n    dtype : dtype, default None\\n        Data type to force, otherwise infer\\n    copy : boolean, default False\\n        Copy data from inputs. Only affects DataFrame / 2d ndarray input\\n\\n    Examples\\n    --------\\n    >>> d = {'col1': ts1, 'col2': ts2}\\n    >>> df = DataFrame(data=d, index=index)\\n    >>> df2 = DataFrame(np.random.randn(10, 5))\\n    >>> df3 = DataFrame(np.random.randn(10, 5),\\n    ...                 columns=['a', 'b', 'c', 'd', 'e'])\\n\\n    See also\\n    --------\\n    DataFrame.from_records : constructor from tuples, also record arrays\\n    DataFrame.from_dict : from dicts of Series, arrays, or dicts\\n    DataFrame.from_items : from sequence of (key, value) pairs\\n    pandas.read_csv, pandas.read_table, pandas.read_clipboard\\n    \",\n",
       "              '__eq__': <function pandas.core.ops._comp_method_FRAME.<locals>.f>,\n",
       "              '__floordiv__': <function pandas.core.ops._arith_method_FRAME.<locals>.f>,\n",
       "              '__ge__': <function pandas.core.ops._comp_method_FRAME.<locals>.f>,\n",
       "              '__getitem__': <function pandas.core.frame.DataFrame.__getitem__>,\n",
       "              '__gt__': <function pandas.core.ops._comp_method_FRAME.<locals>.f>,\n",
       "              '__iadd__': <function pandas.core.ops.add_special_arithmetic_methods.<locals>._wrap_inplace_method.<locals>.f>,\n",
       "              '__imul__': <function pandas.core.ops.add_special_arithmetic_methods.<locals>._wrap_inplace_method.<locals>.f>,\n",
       "              '__init__': <function pandas.core.frame.DataFrame.__init__>,\n",
       "              '__ipow__': <function pandas.core.ops.add_special_arithmetic_methods.<locals>._wrap_inplace_method.<locals>.f>,\n",
       "              '__isub__': <function pandas.core.ops.add_special_arithmetic_methods.<locals>._wrap_inplace_method.<locals>.f>,\n",
       "              '__itruediv__': <function pandas.core.ops.add_special_arithmetic_methods.<locals>._wrap_inplace_method.<locals>.f>,\n",
       "              '__le__': <function pandas.core.ops._comp_method_FRAME.<locals>.f>,\n",
       "              '__len__': <function pandas.core.frame.DataFrame.__len__>,\n",
       "              '__lt__': <function pandas.core.ops._comp_method_FRAME.<locals>.f>,\n",
       "              '__mod__': <function pandas.core.ops._arith_method_FRAME.<locals>.f>,\n",
       "              '__module__': 'pandas.core.frame',\n",
       "              '__mul__': <function pandas.core.ops._arith_method_FRAME.<locals>.f>,\n",
       "              '__ne__': <function pandas.core.ops._comp_method_FRAME.<locals>.f>,\n",
       "              '__or__': <function pandas.core.ops._arith_method_FRAME.<locals>.f>,\n",
       "              '__pow__': <function pandas.core.ops._arith_method_FRAME.<locals>.f>,\n",
       "              '__radd__': <function pandas.core.ops._arith_method_FRAME.<locals>.f>,\n",
       "              '__rand__': <function pandas.core.ops._arith_method_FRAME.<locals>.f>,\n",
       "              '__rdiv__': <function pandas.core.ops._arith_method_FRAME.<locals>.f>,\n",
       "              '__rfloordiv__': <function pandas.core.ops._arith_method_FRAME.<locals>.f>,\n",
       "              '__rmod__': <function pandas.core.ops._arith_method_FRAME.<locals>.f>,\n",
       "              '__rmul__': <function pandas.core.ops._arith_method_FRAME.<locals>.f>,\n",
       "              '__ror__': <function pandas.core.ops._arith_method_FRAME.<locals>.f>,\n",
       "              '__rpow__': <function pandas.core.ops._arith_method_FRAME.<locals>.f>,\n",
       "              '__rsub__': <function pandas.core.ops._arith_method_FRAME.<locals>.f>,\n",
       "              '__rtruediv__': <function pandas.core.ops._arith_method_FRAME.<locals>.f>,\n",
       "              '__rxor__': <function pandas.core.ops._arith_method_FRAME.<locals>.f>,\n",
       "              '__setitem__': <function pandas.core.frame.DataFrame.__setitem__>,\n",
       "              '__sub__': <function pandas.core.ops._arith_method_FRAME.<locals>.f>,\n",
       "              '__truediv__': <function pandas.core.ops._arith_method_FRAME.<locals>.f>,\n",
       "              '__unicode__': <function pandas.core.frame.DataFrame.__unicode__>,\n",
       "              '__xor__': <function pandas.core.ops._arith_method_FRAME.<locals>.f>,\n",
       "              '_agg_doc': \"\\nExamples\\n--------\\n\\n>>> df = pd.DataFrame(np.random.randn(10, 3), columns=['A', 'B', 'C'],\\n...                   index=pd.date_range('1/1/2000', periods=10))\\n>>> df.iloc[3:7] = np.nan\\n\\nAggregate these functions across all columns\\n\\n>>> df.agg(['sum', 'min'])\\n            A         B         C\\nsum -0.182253 -0.614014 -2.909534\\nmin -1.916563 -1.460076 -1.568297\\n\\nDifferent aggregations per column\\n\\n>>> df.agg({'A' : ['sum', 'min'], 'B' : ['min', 'max']})\\n            A         B\\nmax       NaN  1.514318\\nmin -1.916563 -1.460076\\nsum -0.182253       NaN\\n\\nSee also\\n--------\\npandas.DataFrame.apply\\npandas.DataFrame.transform\\npandas.DataFrame.groupby.aggregate\\npandas.DataFrame.resample.aggregate\\npandas.DataFrame.rolling.aggregate\\n\\n\",\n",
       "              '_apply_broadcast': <function pandas.core.frame.DataFrame._apply_broadcast>,\n",
       "              '_apply_empty_result': <function pandas.core.frame.DataFrame._apply_empty_result>,\n",
       "              '_apply_raw': <function pandas.core.frame.DataFrame._apply_raw>,\n",
       "              '_apply_standard': <function pandas.core.frame.DataFrame._apply_standard>,\n",
       "              '_box_col_values': <function pandas.core.frame.DataFrame._box_col_values>,\n",
       "              '_box_item_values': <function pandas.core.frame.DataFrame._box_item_values>,\n",
       "              '_combine_const': <function pandas.core.frame.DataFrame._combine_const>,\n",
       "              '_combine_frame': <function pandas.core.frame.DataFrame._combine_frame>,\n",
       "              '_combine_match_columns': <function pandas.core.frame.DataFrame._combine_match_columns>,\n",
       "              '_combine_match_index': <function pandas.core.frame.DataFrame._combine_match_index>,\n",
       "              '_combine_series': <function pandas.core.frame.DataFrame._combine_series>,\n",
       "              '_combine_series_infer': <function pandas.core.frame.DataFrame._combine_series_infer>,\n",
       "              '_compare_frame': <function pandas.core.frame.DataFrame._compare_frame>,\n",
       "              '_compare_frame_evaluate': <function pandas.core.frame.DataFrame._compare_frame_evaluate>,\n",
       "              '_constructor': <property at 0x7fe1fcfc5db8>,\n",
       "              '_constructor_expanddim': <property at 0x7fe1fc3f9818>,\n",
       "              '_constructor_sliced': pandas.core.series.Series,\n",
       "              '_count_level': <function pandas.core.frame.DataFrame._count_level>,\n",
       "              '_ensure_valid_index': <function pandas.core.frame.DataFrame._ensure_valid_index>,\n",
       "              '_flex_compare_frame': <function pandas.core.frame.DataFrame._flex_compare_frame>,\n",
       "              '_from_arrays': <classmethod at 0x7fe1fcf4e320>,\n",
       "              '_get_agg_axis': <function pandas.core.frame.DataFrame._get_agg_axis>,\n",
       "              '_getitem_array': <function pandas.core.frame.DataFrame._getitem_array>,\n",
       "              '_getitem_column': <function pandas.core.frame.DataFrame._getitem_column>,\n",
       "              '_getitem_frame': <function pandas.core.frame.DataFrame._getitem_frame>,\n",
       "              '_getitem_multilevel': <function pandas.core.frame.DataFrame._getitem_multilevel>,\n",
       "              '_getitem_slice': <function pandas.core.frame.DataFrame._getitem_slice>,\n",
       "              '_gotitem': <function pandas.core.frame.DataFrame._gotitem>,\n",
       "              '_info_axis_name': 'columns',\n",
       "              '_info_axis_number': 1,\n",
       "              '_info_repr': <function pandas.core.frame.DataFrame._info_repr>,\n",
       "              '_init_dict': <function pandas.core.frame.DataFrame._init_dict>,\n",
       "              '_init_ndarray': <function pandas.core.frame.DataFrame._init_ndarray>,\n",
       "              '_ix': None,\n",
       "              '_ixs': <function pandas.core.frame.DataFrame._ixs>,\n",
       "              '_join_compat': <function pandas.core.frame.DataFrame._join_compat>,\n",
       "              '_reduce': <function pandas.core.frame.DataFrame._reduce>,\n",
       "              '_reindex_axes': <function pandas.core.frame.DataFrame._reindex_axes>,\n",
       "              '_reindex_columns': <function pandas.core.frame.DataFrame._reindex_columns>,\n",
       "              '_reindex_index': <function pandas.core.frame.DataFrame._reindex_index>,\n",
       "              '_reindex_multi': <function pandas.core.frame.DataFrame._reindex_multi>,\n",
       "              '_repr_fits_horizontal_': <function pandas.core.frame.DataFrame._repr_fits_horizontal_>,\n",
       "              '_repr_fits_vertical_': <function pandas.core.frame.DataFrame._repr_fits_vertical_>,\n",
       "              '_repr_html_': <function pandas.core.frame.DataFrame._repr_html_>,\n",
       "              '_repr_latex_': <function pandas.core.frame.DataFrame._repr_latex_>,\n",
       "              '_sanitize_column': <function pandas.core.frame.DataFrame._sanitize_column>,\n",
       "              '_series': <property at 0x7fe1fc3c6138>,\n",
       "              '_set_item': <function pandas.core.frame.DataFrame._set_item>,\n",
       "              '_setitem_array': <function pandas.core.frame.DataFrame._setitem_array>,\n",
       "              '_setitem_frame': <function pandas.core.frame.DataFrame._setitem_frame>,\n",
       "              '_setitem_slice': <function pandas.core.frame.DataFrame._setitem_slice>,\n",
       "              '_stat_axis_name': 'index',\n",
       "              '_stat_axis_number': 0,\n",
       "              '_typ': 'dataframe',\n",
       "              '_unpickle_frame_compat': <function pandas.core.frame.DataFrame._unpickle_frame_compat>,\n",
       "              '_unpickle_matrix_compat': <function pandas.core.frame.DataFrame._unpickle_matrix_compat>,\n",
       "              'add': <function pandas.core.ops._arith_method_FRAME.<locals>.f>,\n",
       "              'agg': <function pandas.core.frame.DataFrame.aggregate>,\n",
       "              'aggregate': <function pandas.core.frame.DataFrame.aggregate>,\n",
       "              'align': <function pandas.core.frame.DataFrame.align>,\n",
       "              'all': <function pandas.core.frame.DataFrame.all>,\n",
       "              'any': <function pandas.core.frame.DataFrame.any>,\n",
       "              'append': <function pandas.core.frame.DataFrame.append>,\n",
       "              'apply': <function pandas.core.frame.DataFrame.apply>,\n",
       "              'applymap': <function pandas.core.frame.DataFrame.applymap>,\n",
       "              'assign': <function pandas.core.frame.DataFrame.assign>,\n",
       "              'axes': <property at 0x7fe1fc3a9f98>,\n",
       "              'boxplot': <function pandas.core.frame.boxplot>,\n",
       "              'columns': <pandas._libs.lib.AxisProperty at 0x7fe1fc6e9318>,\n",
       "              'combine': <function pandas.core.frame.DataFrame.combine>,\n",
       "              'combine_first': <function pandas.core.frame.DataFrame.combine_first>,\n",
       "              'compound': <function pandas.core.generic.NDFrame._add_numeric_operations.<locals>.compound>,\n",
       "              'corr': <function pandas.core.frame.DataFrame.corr>,\n",
       "              'corrwith': <function pandas.core.frame.DataFrame.corrwith>,\n",
       "              'count': <function pandas.core.frame.DataFrame.count>,\n",
       "              'cov': <function pandas.core.frame.DataFrame.cov>,\n",
       "              'cummax': <function pandas.core.frame.DataFrame.cummax>,\n",
       "              'cummin': <function pandas.core.frame.DataFrame.cummin>,\n",
       "              'cumprod': <function pandas.core.frame.DataFrame.cumprod>,\n",
       "              'cumsum': <function pandas.core.frame.DataFrame.cumsum>,\n",
       "              'diff': <function pandas.core.frame.DataFrame.diff>,\n",
       "              'div': <function pandas.core.ops._arith_method_FRAME.<locals>.f>,\n",
       "              'divide': <function pandas.core.ops._arith_method_FRAME.<locals>.f>,\n",
       "              'dot': <function pandas.core.frame.DataFrame.dot>,\n",
       "              'drop_duplicates': <function pandas.core.frame.DataFrame.drop_duplicates>,\n",
       "              'dropna': <function pandas.core.frame.DataFrame.dropna>,\n",
       "              'duplicated': <function pandas.core.frame.DataFrame.duplicated>,\n",
       "              'eq': <function pandas.core.ops._flex_comp_method_FRAME.<locals>.f>,\n",
       "              'eval': <function pandas.core.frame.DataFrame.eval>,\n",
       "              'ewm': <function pandas.core.generic.NDFrame._add_series_or_dataframe_operations.<locals>.ewm>,\n",
       "              'expanding': <function pandas.core.generic.NDFrame._add_series_or_dataframe_operations.<locals>.expanding>,\n",
       "              'fillna': <function pandas.core.frame.DataFrame.fillna>,\n",
       "              'first_valid_index': <function pandas.core.frame.DataFrame.first_valid_index>,\n",
       "              'floordiv': <function pandas.core.ops._arith_method_FRAME.<locals>.f>,\n",
       "              'from_csv': <classmethod at 0x7fe1fc3fb6d8>,\n",
       "              'from_dict': <classmethod at 0x7fe1fcf4e198>,\n",
       "              'from_items': <classmethod at 0x7fe1fcf4e240>,\n",
       "              'from_records': <classmethod at 0x7fe1fcf4e208>,\n",
       "              'ge': <function pandas.core.ops._flex_comp_method_FRAME.<locals>.f>,\n",
       "              'get_value': <function pandas.core.frame.DataFrame.get_value>,\n",
       "              'gt': <function pandas.core.ops._flex_comp_method_FRAME.<locals>.f>,\n",
       "              'hist': <function pandas.plotting._core.hist_frame>,\n",
       "              'idxmax': <function pandas.core.frame.DataFrame.idxmax>,\n",
       "              'idxmin': <function pandas.core.frame.DataFrame.idxmin>,\n",
       "              'index': <pandas._libs.lib.AxisProperty at 0x7fe1fc6e9300>,\n",
       "              'info': <function pandas.core.frame.DataFrame.info>,\n",
       "              'insert': <function pandas.core.frame.DataFrame.insert>,\n",
       "              'isin': <function pandas.core.frame.DataFrame.isin>,\n",
       "              'items': <function pandas.core.frame.DataFrame.iteritems>,\n",
       "              'iteritems': <function pandas.core.frame.DataFrame.iteritems>,\n",
       "              'iterrows': <function pandas.core.frame.DataFrame.iterrows>,\n",
       "              'itertuples': <function pandas.core.frame.DataFrame.itertuples>,\n",
       "              'join': <function pandas.core.frame.DataFrame.join>,\n",
       "              'kurt': <function pandas.core.frame.DataFrame.kurt>,\n",
       "              'kurtosis': <function pandas.core.frame.DataFrame.kurt>,\n",
       "              'last_valid_index': <function pandas.core.frame.DataFrame.last_valid_index>,\n",
       "              'le': <function pandas.core.ops._flex_comp_method_FRAME.<locals>.f>,\n",
       "              'lookup': <function pandas.core.frame.DataFrame.lookup>,\n",
       "              'lt': <function pandas.core.ops._flex_comp_method_FRAME.<locals>.f>,\n",
       "              'mad': <function pandas.core.generic.NDFrame._add_numeric_operations.<locals>.mad>,\n",
       "              'max': <function pandas.core.frame.DataFrame.max>,\n",
       "              'mean': <function pandas.core.frame.DataFrame.mean>,\n",
       "              'median': <function pandas.core.frame.DataFrame.median>,\n",
       "              'melt': <function pandas.core.frame.DataFrame.melt>,\n",
       "              'memory_usage': <function pandas.core.frame.DataFrame.memory_usage>,\n",
       "              'merge': <function pandas.core.frame.DataFrame.merge>,\n",
       "              'min': <function pandas.core.frame.DataFrame.min>,\n",
       "              'mod': <function pandas.core.ops._arith_method_FRAME.<locals>.f>,\n",
       "              'mode': <function pandas.core.frame.DataFrame.mode>,\n",
       "              'mul': <function pandas.core.ops._arith_method_FRAME.<locals>.f>,\n",
       "              'multiply': <function pandas.core.ops._arith_method_FRAME.<locals>.f>,\n",
       "              'ne': <function pandas.core.ops._flex_comp_method_FRAME.<locals>.f>,\n",
       "              'nlargest': <function pandas.core.frame.DataFrame.nlargest>,\n",
       "              'nsmallest': <function pandas.core.frame.DataFrame.nsmallest>,\n",
       "              'nunique': <function pandas.core.frame.DataFrame.nunique>,\n",
       "              'pivot': <function pandas.core.frame.DataFrame.pivot>,\n",
       "              'pivot_table': <function pandas.core.reshape.pivot.pivot_table>,\n",
       "              'plot': <pandas.core.base.AccessorProperty at 0x7fe1fc3bdf98>,\n",
       "              'pow': <function pandas.core.ops._arith_method_FRAME.<locals>.f>,\n",
       "              'prod': <function pandas.core.frame.DataFrame.prod>,\n",
       "              'product': <function pandas.core.frame.DataFrame.prod>,\n",
       "              'quantile': <function pandas.core.frame.DataFrame.quantile>,\n",
       "              'query': <function pandas.core.frame.DataFrame.query>,\n",
       "              'radd': <function pandas.core.ops._arith_method_FRAME.<locals>.f>,\n",
       "              'rdiv': <function pandas.core.ops._arith_method_FRAME.<locals>.f>,\n",
       "              'reindex': <function pandas.core.frame.DataFrame.reindex>,\n",
       "              'reindex_axis': <function pandas.core.frame.DataFrame.reindex_axis>,\n",
       "              'rename': <function pandas.core.frame.DataFrame.rename>,\n",
       "              'reorder_levels': <function pandas.core.frame.DataFrame.reorder_levels>,\n",
       "              'reset_index': <function pandas.core.frame.DataFrame.reset_index>,\n",
       "              'rfloordiv': <function pandas.core.ops._arith_method_FRAME.<locals>.f>,\n",
       "              'rmod': <function pandas.core.ops._arith_method_FRAME.<locals>.f>,\n",
       "              'rmul': <function pandas.core.ops._arith_method_FRAME.<locals>.f>,\n",
       "              'rolling': <function pandas.core.generic.NDFrame._add_series_or_dataframe_operations.<locals>.rolling>,\n",
       "              'round': <function pandas.core.frame.DataFrame.round>,\n",
       "              'rpow': <function pandas.core.ops._arith_method_FRAME.<locals>.f>,\n",
       "              'rsub': <function pandas.core.ops._arith_method_FRAME.<locals>.f>,\n",
       "              'rtruediv': <function pandas.core.ops._arith_method_FRAME.<locals>.f>,\n",
       "              'select_dtypes': <function pandas.core.frame.DataFrame.select_dtypes>,\n",
       "              'sem': <function pandas.core.frame.DataFrame.sem>,\n",
       "              'set_index': <function pandas.core.frame.DataFrame.set_index>,\n",
       "              'set_value': <function pandas.core.frame.DataFrame.set_value>,\n",
       "              'shape': <property at 0x7fe1fc3c6048>,\n",
       "              'shift': <function pandas.core.frame.DataFrame.shift>,\n",
       "              'skew': <function pandas.core.frame.DataFrame.skew>,\n",
       "              'sort_index': <function pandas.core.frame.DataFrame.sort_index>,\n",
       "              'sort_values': <function pandas.core.frame.DataFrame.sort_values>,\n",
       "              'sortlevel': <function pandas.core.frame.DataFrame.sortlevel>,\n",
       "              'stack': <function pandas.core.frame.DataFrame.stack>,\n",
       "              'std': <function pandas.core.frame.DataFrame.std>,\n",
       "              'style': <property at 0x7fe1fc3c6098>,\n",
       "              'sub': <function pandas.core.ops._arith_method_FRAME.<locals>.f>,\n",
       "              'subtract': <function pandas.core.ops._arith_method_FRAME.<locals>.f>,\n",
       "              'sum': <function pandas.core.frame.DataFrame.sum>,\n",
       "              'swaplevel': <function pandas.core.frame.DataFrame.swaplevel>,\n",
       "              'to_csv': <function pandas.core.frame.DataFrame.to_csv>,\n",
       "              'to_dict': <function pandas.core.frame.DataFrame.to_dict>,\n",
       "              'to_excel': <function pandas.core.frame.DataFrame.to_excel>,\n",
       "              'to_feather': <function pandas.core.frame.DataFrame.to_feather>,\n",
       "              'to_gbq': <function pandas.core.frame.DataFrame.to_gbq>,\n",
       "              'to_html': <function pandas.core.frame.DataFrame.to_html>,\n",
       "              'to_latex': <function pandas.core.frame.DataFrame.to_latex>,\n",
       "              'to_panel': <function pandas.core.frame.DataFrame.to_panel>,\n",
       "              'to_period': <function pandas.core.frame.DataFrame.to_period>,\n",
       "              'to_records': <function pandas.core.frame.DataFrame.to_records>,\n",
       "              'to_sparse': <function pandas.core.frame.DataFrame.to_sparse>,\n",
       "              'to_stata': <function pandas.core.frame.DataFrame.to_stata>,\n",
       "              'to_string': <function pandas.core.frame.DataFrame.to_string>,\n",
       "              'to_timestamp': <function pandas.core.frame.DataFrame.to_timestamp>,\n",
       "              'transform': <function pandas.core.generic.NDFrame._add_series_or_dataframe_operations.<locals>.transform>,\n",
       "              'transpose': <function pandas.core.frame.DataFrame.transpose>,\n",
       "              'truediv': <function pandas.core.ops._arith_method_FRAME.<locals>.f>,\n",
       "              'unstack': <function pandas.core.frame.DataFrame.unstack>,\n",
       "              'update': <function pandas.core.frame.DataFrame.update>,\n",
       "              'var': <function pandas.core.frame.DataFrame.var>})"
      ]
     },
     "execution_count": 17,
     "metadata": {},
     "output_type": "execute_result"
    }
   ],
   "source": [
    "pd.DataFrame.__dict__"
   ]
  },
  {
   "cell_type": "markdown",
   "metadata": {},
   "source": [
    "### 보기 / 단순 변환 \n",
    "\n",
    "#### `head()`, `tail()`"
   ]
  },
  {
   "cell_type": "code",
   "execution_count": 27,
   "metadata": {
    "scrolled": true
   },
   "outputs": [
    {
     "data": {
      "text/html": [
       "<div>\n",
       "<style>\n",
       "    .dataframe thead tr:only-child th {\n",
       "        text-align: right;\n",
       "    }\n",
       "\n",
       "    .dataframe thead th {\n",
       "        text-align: left;\n",
       "    }\n",
       "\n",
       "    .dataframe tbody tr th {\n",
       "        vertical-align: top;\n",
       "    }\n",
       "</style>\n",
       "<table border=\"1\" class=\"dataframe\">\n",
       "  <thead>\n",
       "    <tr style=\"text-align: right;\">\n",
       "      <th></th>\n",
       "      <th>A</th>\n",
       "      <th>B</th>\n",
       "      <th>C</th>\n",
       "      <th>D</th>\n",
       "    </tr>\n",
       "  </thead>\n",
       "  <tbody>\n",
       "    <tr>\n",
       "      <th>2013-01-01</th>\n",
       "      <td>-0.732504</td>\n",
       "      <td>-0.477730</td>\n",
       "      <td>1.125425</td>\n",
       "      <td>1.110776</td>\n",
       "    </tr>\n",
       "    <tr>\n",
       "      <th>2013-01-02</th>\n",
       "      <td>1.114156</td>\n",
       "      <td>-1.569409</td>\n",
       "      <td>0.643545</td>\n",
       "      <td>-0.482571</td>\n",
       "    </tr>\n",
       "  </tbody>\n",
       "</table>\n",
       "</div>"
      ],
      "text/plain": [
       "                   A         B         C         D\n",
       "2013-01-01 -0.732504 -0.477730  1.125425  1.110776\n",
       "2013-01-02  1.114156 -1.569409  0.643545 -0.482571"
      ]
     },
     "execution_count": 27,
     "metadata": {},
     "output_type": "execute_result"
    }
   ],
   "source": [
    "df.head(2)"
   ]
  },
  {
   "cell_type": "code",
   "execution_count": 11,
   "metadata": {},
   "outputs": [
    {
     "data": {
      "text/html": [
       "<div>\n",
       "<style>\n",
       "    .dataframe thead tr:only-child th {\n",
       "        text-align: right;\n",
       "    }\n",
       "\n",
       "    .dataframe thead th {\n",
       "        text-align: left;\n",
       "    }\n",
       "\n",
       "    .dataframe tbody tr th {\n",
       "        vertical-align: top;\n",
       "    }\n",
       "</style>\n",
       "<table border=\"1\" class=\"dataframe\">\n",
       "  <thead>\n",
       "    <tr style=\"text-align: right;\">\n",
       "      <th></th>\n",
       "      <th>A</th>\n",
       "      <th>B</th>\n",
       "      <th>C</th>\n",
       "      <th>D</th>\n",
       "    </tr>\n",
       "  </thead>\n",
       "  <tbody>\n",
       "    <tr>\n",
       "      <th>2013-01-05</th>\n",
       "      <td>0.343848</td>\n",
       "      <td>0.496475</td>\n",
       "      <td>-1.021254</td>\n",
       "      <td>-0.350403</td>\n",
       "    </tr>\n",
       "    <tr>\n",
       "      <th>2013-01-06</th>\n",
       "      <td>-1.017200</td>\n",
       "      <td>1.282888</td>\n",
       "      <td>-1.913240</td>\n",
       "      <td>1.366801</td>\n",
       "    </tr>\n",
       "  </tbody>\n",
       "</table>\n",
       "</div>"
      ],
      "text/plain": [
       "                   A         B         C         D\n",
       "2013-01-05  0.343848  0.496475 -1.021254 -0.350403\n",
       "2013-01-06 -1.017200  1.282888 -1.913240  1.366801"
      ]
     },
     "execution_count": 11,
     "metadata": {},
     "output_type": "execute_result"
    }
   ],
   "source": [
    "df.tail(2)"
   ]
  },
  {
   "cell_type": "markdown",
   "metadata": {},
   "source": [
    "#### `index`, `columns`, `values`"
   ]
  },
  {
   "cell_type": "code",
   "execution_count": 19,
   "metadata": {},
   "outputs": [
    {
     "data": {
      "text/plain": [
       "DatetimeIndex(['2013-01-01', '2013-01-02', '2013-01-03', '2013-01-04',\n",
       "               '2013-01-05', '2013-01-06'],\n",
       "              dtype='datetime64[ns]', freq='D')"
      ]
     },
     "execution_count": 19,
     "metadata": {},
     "output_type": "execute_result"
    }
   ],
   "source": [
    "df.index"
   ]
  },
  {
   "cell_type": "code",
   "execution_count": 20,
   "metadata": {},
   "outputs": [
    {
     "data": {
      "text/plain": [
       "Index(['A', 'B', 'C', 'D'], dtype='object')"
      ]
     },
     "execution_count": 20,
     "metadata": {},
     "output_type": "execute_result"
    }
   ],
   "source": [
    "df.columns"
   ]
  },
  {
   "cell_type": "code",
   "execution_count": 21,
   "metadata": {
    "scrolled": true
   },
   "outputs": [
    {
     "data": {
      "text/plain": [
       "array([[-0.73250363, -0.47773003,  1.1254247 ,  1.11077616],\n",
       "       [ 1.11415596, -1.56940912,  0.64354483, -0.48257119],\n",
       "       [ 0.13491946, -0.03563399,  0.51709146, -0.79111395],\n",
       "       [-0.84225244, -2.12425804,  0.60083234,  1.83491503],\n",
       "       [ 0.34384774,  0.49647541, -1.02125428, -0.35040336],\n",
       "       [-1.01720036,  1.28288814, -1.91324029,  1.366801  ]])"
      ]
     },
     "execution_count": 21,
     "metadata": {},
     "output_type": "execute_result"
    }
   ],
   "source": [
    "df.values"
   ]
  },
  {
   "cell_type": "markdown",
   "metadata": {},
   "source": [
    "#### `describe()`\n",
    "\n",
    "- column 별 데이터 요약정보(기술통계) 제공"
   ]
  },
  {
   "cell_type": "code",
   "execution_count": 22,
   "metadata": {},
   "outputs": [
    {
     "data": {
      "text/html": [
       "<div>\n",
       "<style>\n",
       "    .dataframe thead tr:only-child th {\n",
       "        text-align: right;\n",
       "    }\n",
       "\n",
       "    .dataframe thead th {\n",
       "        text-align: left;\n",
       "    }\n",
       "\n",
       "    .dataframe tbody tr th {\n",
       "        vertical-align: top;\n",
       "    }\n",
       "</style>\n",
       "<table border=\"1\" class=\"dataframe\">\n",
       "  <thead>\n",
       "    <tr style=\"text-align: right;\">\n",
       "      <th></th>\n",
       "      <th>A</th>\n",
       "      <th>B</th>\n",
       "      <th>C</th>\n",
       "      <th>D</th>\n",
       "    </tr>\n",
       "  </thead>\n",
       "  <tbody>\n",
       "    <tr>\n",
       "      <th>count</th>\n",
       "      <td>6.000000</td>\n",
       "      <td>6.000000</td>\n",
       "      <td>6.000000</td>\n",
       "      <td>6.000000</td>\n",
       "    </tr>\n",
       "    <tr>\n",
       "      <th>mean</th>\n",
       "      <td>-0.166506</td>\n",
       "      <td>-0.404611</td>\n",
       "      <td>-0.007934</td>\n",
       "      <td>0.448067</td>\n",
       "    </tr>\n",
       "    <tr>\n",
       "      <th>std</th>\n",
       "      <td>0.835713</td>\n",
       "      <td>1.273973</td>\n",
       "      <td>1.184245</td>\n",
       "      <td>1.117660</td>\n",
       "    </tr>\n",
       "    <tr>\n",
       "      <th>min</th>\n",
       "      <td>-1.017200</td>\n",
       "      <td>-2.124258</td>\n",
       "      <td>-1.913240</td>\n",
       "      <td>-0.791114</td>\n",
       "    </tr>\n",
       "    <tr>\n",
       "      <th>25%</th>\n",
       "      <td>-0.814815</td>\n",
       "      <td>-1.296489</td>\n",
       "      <td>-0.636668</td>\n",
       "      <td>-0.449529</td>\n",
       "    </tr>\n",
       "    <tr>\n",
       "      <th>50%</th>\n",
       "      <td>-0.298792</td>\n",
       "      <td>-0.256682</td>\n",
       "      <td>0.558962</td>\n",
       "      <td>0.380186</td>\n",
       "    </tr>\n",
       "    <tr>\n",
       "      <th>75%</th>\n",
       "      <td>0.291616</td>\n",
       "      <td>0.363448</td>\n",
       "      <td>0.632867</td>\n",
       "      <td>1.302795</td>\n",
       "    </tr>\n",
       "    <tr>\n",
       "      <th>max</th>\n",
       "      <td>1.114156</td>\n",
       "      <td>1.282888</td>\n",
       "      <td>1.125425</td>\n",
       "      <td>1.834915</td>\n",
       "    </tr>\n",
       "  </tbody>\n",
       "</table>\n",
       "</div>"
      ],
      "text/plain": [
       "              A         B         C         D\n",
       "count  6.000000  6.000000  6.000000  6.000000\n",
       "mean  -0.166506 -0.404611 -0.007934  0.448067\n",
       "std    0.835713  1.273973  1.184245  1.117660\n",
       "min   -1.017200 -2.124258 -1.913240 -0.791114\n",
       "25%   -0.814815 -1.296489 -0.636668 -0.449529\n",
       "50%   -0.298792 -0.256682  0.558962  0.380186\n",
       "75%    0.291616  0.363448  0.632867  1.302795\n",
       "max    1.114156  1.282888  1.125425  1.834915"
      ]
     },
     "execution_count": 22,
     "metadata": {},
     "output_type": "execute_result"
    }
   ],
   "source": [
    "df.describe()"
   ]
  },
  {
   "cell_type": "markdown",
   "metadata": {},
   "source": [
    "#### `T` : 행/열 바꾸기\n",
    "\n",
    "- transpose 명령"
   ]
  },
  {
   "cell_type": "code",
   "execution_count": 23,
   "metadata": {},
   "outputs": [
    {
     "data": {
      "text/html": [
       "<div>\n",
       "<style>\n",
       "    .dataframe thead tr:only-child th {\n",
       "        text-align: right;\n",
       "    }\n",
       "\n",
       "    .dataframe thead th {\n",
       "        text-align: left;\n",
       "    }\n",
       "\n",
       "    .dataframe tbody tr th {\n",
       "        vertical-align: top;\n",
       "    }\n",
       "</style>\n",
       "<table border=\"1\" class=\"dataframe\">\n",
       "  <thead>\n",
       "    <tr style=\"text-align: right;\">\n",
       "      <th></th>\n",
       "      <th>2013-01-01 00:00:00</th>\n",
       "      <th>2013-01-02 00:00:00</th>\n",
       "      <th>2013-01-03 00:00:00</th>\n",
       "      <th>2013-01-04 00:00:00</th>\n",
       "      <th>2013-01-05 00:00:00</th>\n",
       "      <th>2013-01-06 00:00:00</th>\n",
       "    </tr>\n",
       "  </thead>\n",
       "  <tbody>\n",
       "    <tr>\n",
       "      <th>A</th>\n",
       "      <td>-0.732504</td>\n",
       "      <td>1.114156</td>\n",
       "      <td>0.134919</td>\n",
       "      <td>-0.842252</td>\n",
       "      <td>0.343848</td>\n",
       "      <td>-1.017200</td>\n",
       "    </tr>\n",
       "    <tr>\n",
       "      <th>B</th>\n",
       "      <td>-0.477730</td>\n",
       "      <td>-1.569409</td>\n",
       "      <td>-0.035634</td>\n",
       "      <td>-2.124258</td>\n",
       "      <td>0.496475</td>\n",
       "      <td>1.282888</td>\n",
       "    </tr>\n",
       "    <tr>\n",
       "      <th>C</th>\n",
       "      <td>1.125425</td>\n",
       "      <td>0.643545</td>\n",
       "      <td>0.517091</td>\n",
       "      <td>0.600832</td>\n",
       "      <td>-1.021254</td>\n",
       "      <td>-1.913240</td>\n",
       "    </tr>\n",
       "    <tr>\n",
       "      <th>D</th>\n",
       "      <td>1.110776</td>\n",
       "      <td>-0.482571</td>\n",
       "      <td>-0.791114</td>\n",
       "      <td>1.834915</td>\n",
       "      <td>-0.350403</td>\n",
       "      <td>1.366801</td>\n",
       "    </tr>\n",
       "  </tbody>\n",
       "</table>\n",
       "</div>"
      ],
      "text/plain": [
       "   2013-01-01  2013-01-02  2013-01-03  2013-01-04  2013-01-05  2013-01-06\n",
       "A   -0.732504    1.114156    0.134919   -0.842252    0.343848   -1.017200\n",
       "B   -0.477730   -1.569409   -0.035634   -2.124258    0.496475    1.282888\n",
       "C    1.125425    0.643545    0.517091    0.600832   -1.021254   -1.913240\n",
       "D    1.110776   -0.482571   -0.791114    1.834915   -0.350403    1.366801"
      ]
     },
     "execution_count": 23,
     "metadata": {},
     "output_type": "execute_result"
    }
   ],
   "source": [
    "df.T"
   ]
  },
  {
   "cell_type": "markdown",
   "metadata": {},
   "source": [
    "####  `sort_index()`\n",
    "\n",
    "- 행/열 인덱스명(이름)에 따라 정렬"
   ]
  },
  {
   "cell_type": "code",
   "execution_count": 24,
   "metadata": {},
   "outputs": [
    {
     "data": {
      "text/html": [
       "<div>\n",
       "<style>\n",
       "    .dataframe thead tr:only-child th {\n",
       "        text-align: right;\n",
       "    }\n",
       "\n",
       "    .dataframe thead th {\n",
       "        text-align: left;\n",
       "    }\n",
       "\n",
       "    .dataframe tbody tr th {\n",
       "        vertical-align: top;\n",
       "    }\n",
       "</style>\n",
       "<table border=\"1\" class=\"dataframe\">\n",
       "  <thead>\n",
       "    <tr style=\"text-align: right;\">\n",
       "      <th></th>\n",
       "      <th>A</th>\n",
       "      <th>B</th>\n",
       "      <th>C</th>\n",
       "      <th>D</th>\n",
       "    </tr>\n",
       "  </thead>\n",
       "  <tbody>\n",
       "    <tr>\n",
       "      <th>2013-01-06</th>\n",
       "      <td>-1.017200</td>\n",
       "      <td>1.282888</td>\n",
       "      <td>-1.913240</td>\n",
       "      <td>1.366801</td>\n",
       "    </tr>\n",
       "    <tr>\n",
       "      <th>2013-01-05</th>\n",
       "      <td>0.343848</td>\n",
       "      <td>0.496475</td>\n",
       "      <td>-1.021254</td>\n",
       "      <td>-0.350403</td>\n",
       "    </tr>\n",
       "    <tr>\n",
       "      <th>2013-01-04</th>\n",
       "      <td>-0.842252</td>\n",
       "      <td>-2.124258</td>\n",
       "      <td>0.600832</td>\n",
       "      <td>1.834915</td>\n",
       "    </tr>\n",
       "    <tr>\n",
       "      <th>2013-01-03</th>\n",
       "      <td>0.134919</td>\n",
       "      <td>-0.035634</td>\n",
       "      <td>0.517091</td>\n",
       "      <td>-0.791114</td>\n",
       "    </tr>\n",
       "    <tr>\n",
       "      <th>2013-01-02</th>\n",
       "      <td>1.114156</td>\n",
       "      <td>-1.569409</td>\n",
       "      <td>0.643545</td>\n",
       "      <td>-0.482571</td>\n",
       "    </tr>\n",
       "    <tr>\n",
       "      <th>2013-01-01</th>\n",
       "      <td>-0.732504</td>\n",
       "      <td>-0.477730</td>\n",
       "      <td>1.125425</td>\n",
       "      <td>1.110776</td>\n",
       "    </tr>\n",
       "  </tbody>\n",
       "</table>\n",
       "</div>"
      ],
      "text/plain": [
       "                   A         B         C         D\n",
       "2013-01-06 -1.017200  1.282888 -1.913240  1.366801\n",
       "2013-01-05  0.343848  0.496475 -1.021254 -0.350403\n",
       "2013-01-04 -0.842252 -2.124258  0.600832  1.834915\n",
       "2013-01-03  0.134919 -0.035634  0.517091 -0.791114\n",
       "2013-01-02  1.114156 -1.569409  0.643545 -0.482571\n",
       "2013-01-01 -0.732504 -0.477730  1.125425  1.110776"
      ]
     },
     "execution_count": 24,
     "metadata": {},
     "output_type": "execute_result"
    }
   ],
   "source": [
    "df.sort_index(axis=0, ascending=False)"
   ]
  },
  {
   "cell_type": "code",
   "execution_count": 24,
   "metadata": {},
   "outputs": [
    {
     "data": {
      "text/html": [
       "<div>\n",
       "<style>\n",
       "    .dataframe thead tr:only-child th {\n",
       "        text-align: right;\n",
       "    }\n",
       "\n",
       "    .dataframe thead th {\n",
       "        text-align: left;\n",
       "    }\n",
       "\n",
       "    .dataframe tbody tr th {\n",
       "        vertical-align: top;\n",
       "    }\n",
       "</style>\n",
       "<table border=\"1\" class=\"dataframe\">\n",
       "  <thead>\n",
       "    <tr style=\"text-align: right;\">\n",
       "      <th></th>\n",
       "      <th>A</th>\n",
       "      <th>B</th>\n",
       "      <th>C</th>\n",
       "      <th>D</th>\n",
       "    </tr>\n",
       "  </thead>\n",
       "  <tbody>\n",
       "    <tr>\n",
       "      <th>2013-01-06</th>\n",
       "      <td>-1.017200</td>\n",
       "      <td>1.282888</td>\n",
       "      <td>-1.913240</td>\n",
       "      <td>1.366801</td>\n",
       "    </tr>\n",
       "    <tr>\n",
       "      <th>2013-01-05</th>\n",
       "      <td>0.343848</td>\n",
       "      <td>0.496475</td>\n",
       "      <td>-1.021254</td>\n",
       "      <td>-0.350403</td>\n",
       "    </tr>\n",
       "    <tr>\n",
       "      <th>2013-01-04</th>\n",
       "      <td>-0.842252</td>\n",
       "      <td>-2.124258</td>\n",
       "      <td>0.600832</td>\n",
       "      <td>1.834915</td>\n",
       "    </tr>\n",
       "    <tr>\n",
       "      <th>2013-01-03</th>\n",
       "      <td>0.134919</td>\n",
       "      <td>-0.035634</td>\n",
       "      <td>0.517091</td>\n",
       "      <td>-0.791114</td>\n",
       "    </tr>\n",
       "    <tr>\n",
       "      <th>2013-01-02</th>\n",
       "      <td>1.114156</td>\n",
       "      <td>-1.569409</td>\n",
       "      <td>0.643545</td>\n",
       "      <td>-0.482571</td>\n",
       "    </tr>\n",
       "    <tr>\n",
       "      <th>2013-01-01</th>\n",
       "      <td>-0.732504</td>\n",
       "      <td>-0.477730</td>\n",
       "      <td>1.125425</td>\n",
       "      <td>1.110776</td>\n",
       "    </tr>\n",
       "  </tbody>\n",
       "</table>\n",
       "</div>"
      ],
      "text/plain": [
       "                   A         B         C         D\n",
       "2013-01-06 -1.017200  1.282888 -1.913240  1.366801\n",
       "2013-01-05  0.343848  0.496475 -1.021254 -0.350403\n",
       "2013-01-04 -0.842252 -2.124258  0.600832  1.834915\n",
       "2013-01-03  0.134919 -0.035634  0.517091 -0.791114\n",
       "2013-01-02  1.114156 -1.569409  0.643545 -0.482571\n",
       "2013-01-01 -0.732504 -0.477730  1.125425  1.110776"
      ]
     },
     "execution_count": 24,
     "metadata": {},
     "output_type": "execute_result"
    }
   ],
   "source": [
    "df.sort_index(axis=0, ascending=False)"
   ]
  },
  {
   "cell_type": "code",
   "execution_count": 25,
   "metadata": {},
   "outputs": [
    {
     "data": {
      "text/html": [
       "<div>\n",
       "<style>\n",
       "    .dataframe thead tr:only-child th {\n",
       "        text-align: right;\n",
       "    }\n",
       "\n",
       "    .dataframe thead th {\n",
       "        text-align: left;\n",
       "    }\n",
       "\n",
       "    .dataframe tbody tr th {\n",
       "        vertical-align: top;\n",
       "    }\n",
       "</style>\n",
       "<table border=\"1\" class=\"dataframe\">\n",
       "  <thead>\n",
       "    <tr style=\"text-align: right;\">\n",
       "      <th></th>\n",
       "      <th>D</th>\n",
       "      <th>C</th>\n",
       "      <th>B</th>\n",
       "      <th>A</th>\n",
       "    </tr>\n",
       "  </thead>\n",
       "  <tbody>\n",
       "    <tr>\n",
       "      <th>2013-01-01</th>\n",
       "      <td>1.110776</td>\n",
       "      <td>1.125425</td>\n",
       "      <td>-0.477730</td>\n",
       "      <td>-0.732504</td>\n",
       "    </tr>\n",
       "    <tr>\n",
       "      <th>2013-01-02</th>\n",
       "      <td>-0.482571</td>\n",
       "      <td>0.643545</td>\n",
       "      <td>-1.569409</td>\n",
       "      <td>1.114156</td>\n",
       "    </tr>\n",
       "    <tr>\n",
       "      <th>2013-01-03</th>\n",
       "      <td>-0.791114</td>\n",
       "      <td>0.517091</td>\n",
       "      <td>-0.035634</td>\n",
       "      <td>0.134919</td>\n",
       "    </tr>\n",
       "    <tr>\n",
       "      <th>2013-01-04</th>\n",
       "      <td>1.834915</td>\n",
       "      <td>0.600832</td>\n",
       "      <td>-2.124258</td>\n",
       "      <td>-0.842252</td>\n",
       "    </tr>\n",
       "    <tr>\n",
       "      <th>2013-01-05</th>\n",
       "      <td>-0.350403</td>\n",
       "      <td>-1.021254</td>\n",
       "      <td>0.496475</td>\n",
       "      <td>0.343848</td>\n",
       "    </tr>\n",
       "    <tr>\n",
       "      <th>2013-01-06</th>\n",
       "      <td>1.366801</td>\n",
       "      <td>-1.913240</td>\n",
       "      <td>1.282888</td>\n",
       "      <td>-1.017200</td>\n",
       "    </tr>\n",
       "  </tbody>\n",
       "</table>\n",
       "</div>"
      ],
      "text/plain": [
       "                   D         C         B         A\n",
       "2013-01-01  1.110776  1.125425 -0.477730 -0.732504\n",
       "2013-01-02 -0.482571  0.643545 -1.569409  1.114156\n",
       "2013-01-03 -0.791114  0.517091 -0.035634  0.134919\n",
       "2013-01-04  1.834915  0.600832 -2.124258 -0.842252\n",
       "2013-01-05 -0.350403 -1.021254  0.496475  0.343848\n",
       "2013-01-06  1.366801 -1.913240  1.282888 -1.017200"
      ]
     },
     "execution_count": 25,
     "metadata": {},
     "output_type": "execute_result"
    }
   ],
   "source": [
    "df.sort_index(axis=1, ascending=False)"
   ]
  },
  {
   "cell_type": "markdown",
   "metadata": {},
   "source": [
    "####  `sort_values()`\n",
    "\n",
    "- column 값에 따라 정렬"
   ]
  },
  {
   "cell_type": "code",
   "execution_count": 26,
   "metadata": {},
   "outputs": [
    {
     "data": {
      "text/html": [
       "<div>\n",
       "<style>\n",
       "    .dataframe thead tr:only-child th {\n",
       "        text-align: right;\n",
       "    }\n",
       "\n",
       "    .dataframe thead th {\n",
       "        text-align: left;\n",
       "    }\n",
       "\n",
       "    .dataframe tbody tr th {\n",
       "        vertical-align: top;\n",
       "    }\n",
       "</style>\n",
       "<table border=\"1\" class=\"dataframe\">\n",
       "  <thead>\n",
       "    <tr style=\"text-align: right;\">\n",
       "      <th></th>\n",
       "      <th>A</th>\n",
       "      <th>B</th>\n",
       "      <th>C</th>\n",
       "      <th>D</th>\n",
       "    </tr>\n",
       "  </thead>\n",
       "  <tbody>\n",
       "    <tr>\n",
       "      <th>2013-01-04</th>\n",
       "      <td>-0.842252</td>\n",
       "      <td>-2.124258</td>\n",
       "      <td>0.600832</td>\n",
       "      <td>1.834915</td>\n",
       "    </tr>\n",
       "    <tr>\n",
       "      <th>2013-01-02</th>\n",
       "      <td>1.114156</td>\n",
       "      <td>-1.569409</td>\n",
       "      <td>0.643545</td>\n",
       "      <td>-0.482571</td>\n",
       "    </tr>\n",
       "    <tr>\n",
       "      <th>2013-01-01</th>\n",
       "      <td>-0.732504</td>\n",
       "      <td>-0.477730</td>\n",
       "      <td>1.125425</td>\n",
       "      <td>1.110776</td>\n",
       "    </tr>\n",
       "    <tr>\n",
       "      <th>2013-01-03</th>\n",
       "      <td>0.134919</td>\n",
       "      <td>-0.035634</td>\n",
       "      <td>0.517091</td>\n",
       "      <td>-0.791114</td>\n",
       "    </tr>\n",
       "    <tr>\n",
       "      <th>2013-01-05</th>\n",
       "      <td>0.343848</td>\n",
       "      <td>0.496475</td>\n",
       "      <td>-1.021254</td>\n",
       "      <td>-0.350403</td>\n",
       "    </tr>\n",
       "    <tr>\n",
       "      <th>2013-01-06</th>\n",
       "      <td>-1.017200</td>\n",
       "      <td>1.282888</td>\n",
       "      <td>-1.913240</td>\n",
       "      <td>1.366801</td>\n",
       "    </tr>\n",
       "  </tbody>\n",
       "</table>\n",
       "</div>"
      ],
      "text/plain": [
       "                   A         B         C         D\n",
       "2013-01-04 -0.842252 -2.124258  0.600832  1.834915\n",
       "2013-01-02  1.114156 -1.569409  0.643545 -0.482571\n",
       "2013-01-01 -0.732504 -0.477730  1.125425  1.110776\n",
       "2013-01-03  0.134919 -0.035634  0.517091 -0.791114\n",
       "2013-01-05  0.343848  0.496475 -1.021254 -0.350403\n",
       "2013-01-06 -1.017200  1.282888 -1.913240  1.366801"
      ]
     },
     "execution_count": 26,
     "metadata": {},
     "output_type": "execute_result"
    }
   ],
   "source": [
    "df.sort_values(by='B')"
   ]
  },
  {
   "cell_type": "markdown",
   "metadata": {},
   "source": [
    "## Selection\n",
    "\n",
    "> 실제 최적화된 Access 방식: `.at`, `.iat`, `.loc`, `.iloc`, `.ix`"
   ]
  },
  {
   "cell_type": "markdown",
   "metadata": {},
   "source": [
    "### Getting"
   ]
  },
  {
   "cell_type": "markdown",
   "metadata": {},
   "source": [
    "#### 열(Column) 하나 선택"
   ]
  },
  {
   "cell_type": "code",
   "execution_count": 28,
   "metadata": {},
   "outputs": [
    {
     "data": {
      "text/plain": [
       "2013-01-01   -0.732504\n",
       "2013-01-02    1.114156\n",
       "2013-01-03    0.134919\n",
       "2013-01-04   -0.842252\n",
       "2013-01-05    0.343848\n",
       "2013-01-06   -1.017200\n",
       "Freq: D, Name: A, dtype: float64"
      ]
     },
     "execution_count": 28,
     "metadata": {},
     "output_type": "execute_result"
    }
   ],
   "source": [
    "df['A']"
   ]
  },
  {
   "cell_type": "markdown",
   "metadata": {},
   "source": [
    "#### 행(Rows) 단위 Slicing"
   ]
  },
  {
   "cell_type": "code",
   "execution_count": 29,
   "metadata": {},
   "outputs": [
    {
     "data": {
      "text/html": [
       "<div>\n",
       "<style>\n",
       "    .dataframe thead tr:only-child th {\n",
       "        text-align: right;\n",
       "    }\n",
       "\n",
       "    .dataframe thead th {\n",
       "        text-align: left;\n",
       "    }\n",
       "\n",
       "    .dataframe tbody tr th {\n",
       "        vertical-align: top;\n",
       "    }\n",
       "</style>\n",
       "<table border=\"1\" class=\"dataframe\">\n",
       "  <thead>\n",
       "    <tr style=\"text-align: right;\">\n",
       "      <th></th>\n",
       "      <th>A</th>\n",
       "      <th>B</th>\n",
       "      <th>C</th>\n",
       "      <th>D</th>\n",
       "    </tr>\n",
       "  </thead>\n",
       "  <tbody>\n",
       "    <tr>\n",
       "      <th>2013-01-01</th>\n",
       "      <td>-0.732504</td>\n",
       "      <td>-0.477730</td>\n",
       "      <td>1.125425</td>\n",
       "      <td>1.110776</td>\n",
       "    </tr>\n",
       "    <tr>\n",
       "      <th>2013-01-02</th>\n",
       "      <td>1.114156</td>\n",
       "      <td>-1.569409</td>\n",
       "      <td>0.643545</td>\n",
       "      <td>-0.482571</td>\n",
       "    </tr>\n",
       "    <tr>\n",
       "      <th>2013-01-03</th>\n",
       "      <td>0.134919</td>\n",
       "      <td>-0.035634</td>\n",
       "      <td>0.517091</td>\n",
       "      <td>-0.791114</td>\n",
       "    </tr>\n",
       "  </tbody>\n",
       "</table>\n",
       "</div>"
      ],
      "text/plain": [
       "                   A         B         C         D\n",
       "2013-01-01 -0.732504 -0.477730  1.125425  1.110776\n",
       "2013-01-02  1.114156 -1.569409  0.643545 -0.482571\n",
       "2013-01-03  0.134919 -0.035634  0.517091 -0.791114"
      ]
     },
     "execution_count": 29,
     "metadata": {},
     "output_type": "execute_result"
    }
   ],
   "source": [
    "df[0:3]"
   ]
  },
  {
   "cell_type": "code",
   "execution_count": 30,
   "metadata": {},
   "outputs": [
    {
     "data": {
      "text/html": [
       "<div>\n",
       "<style>\n",
       "    .dataframe thead tr:only-child th {\n",
       "        text-align: right;\n",
       "    }\n",
       "\n",
       "    .dataframe thead th {\n",
       "        text-align: left;\n",
       "    }\n",
       "\n",
       "    .dataframe tbody tr th {\n",
       "        vertical-align: top;\n",
       "    }\n",
       "</style>\n",
       "<table border=\"1\" class=\"dataframe\">\n",
       "  <thead>\n",
       "    <tr style=\"text-align: right;\">\n",
       "      <th></th>\n",
       "      <th>A</th>\n",
       "      <th>B</th>\n",
       "      <th>C</th>\n",
       "      <th>D</th>\n",
       "    </tr>\n",
       "  </thead>\n",
       "  <tbody>\n",
       "    <tr>\n",
       "      <th>2013-01-02</th>\n",
       "      <td>1.114156</td>\n",
       "      <td>-1.569409</td>\n",
       "      <td>0.643545</td>\n",
       "      <td>-0.482571</td>\n",
       "    </tr>\n",
       "    <tr>\n",
       "      <th>2013-01-03</th>\n",
       "      <td>0.134919</td>\n",
       "      <td>-0.035634</td>\n",
       "      <td>0.517091</td>\n",
       "      <td>-0.791114</td>\n",
       "    </tr>\n",
       "    <tr>\n",
       "      <th>2013-01-04</th>\n",
       "      <td>-0.842252</td>\n",
       "      <td>-2.124258</td>\n",
       "      <td>0.600832</td>\n",
       "      <td>1.834915</td>\n",
       "    </tr>\n",
       "  </tbody>\n",
       "</table>\n",
       "</div>"
      ],
      "text/plain": [
       "                   A         B         C         D\n",
       "2013-01-02  1.114156 -1.569409  0.643545 -0.482571\n",
       "2013-01-03  0.134919 -0.035634  0.517091 -0.791114\n",
       "2013-01-04 -0.842252 -2.124258  0.600832  1.834915"
      ]
     },
     "execution_count": 30,
     "metadata": {},
     "output_type": "execute_result"
    }
   ],
   "source": [
    "df['20130102':'20130104']"
   ]
  },
  {
   "cell_type": "markdown",
   "metadata": {},
   "source": [
    "### Label 활용 Selection"
   ]
  },
  {
   "cell_type": "markdown",
   "metadata": {},
   "source": [
    "#### getting a cross section using a label"
   ]
  },
  {
   "cell_type": "code",
   "execution_count": null,
   "metadata": {
    "collapsed": true
   },
   "outputs": [],
   "source": [
    "df.loc[dates[0]]"
   ]
  },
  {
   "cell_type": "markdown",
   "metadata": {},
   "source": [
    "#### Selecting on a multi-axis by label\n",
    "\n",
    "> 행 전체 선택을 위해 `:` 사용"
   ]
  },
  {
   "cell_type": "code",
   "execution_count": 32,
   "metadata": {},
   "outputs": [
    {
     "data": {
      "text/html": [
       "<div>\n",
       "<style>\n",
       "    .dataframe thead tr:only-child th {\n",
       "        text-align: right;\n",
       "    }\n",
       "\n",
       "    .dataframe thead th {\n",
       "        text-align: left;\n",
       "    }\n",
       "\n",
       "    .dataframe tbody tr th {\n",
       "        vertical-align: top;\n",
       "    }\n",
       "</style>\n",
       "<table border=\"1\" class=\"dataframe\">\n",
       "  <thead>\n",
       "    <tr style=\"text-align: right;\">\n",
       "      <th></th>\n",
       "      <th>A</th>\n",
       "      <th>B</th>\n",
       "    </tr>\n",
       "  </thead>\n",
       "  <tbody>\n",
       "    <tr>\n",
       "      <th>2013-01-01</th>\n",
       "      <td>-0.732504</td>\n",
       "      <td>-0.477730</td>\n",
       "    </tr>\n",
       "    <tr>\n",
       "      <th>2013-01-02</th>\n",
       "      <td>1.114156</td>\n",
       "      <td>-1.569409</td>\n",
       "    </tr>\n",
       "    <tr>\n",
       "      <th>2013-01-03</th>\n",
       "      <td>0.134919</td>\n",
       "      <td>-0.035634</td>\n",
       "    </tr>\n",
       "    <tr>\n",
       "      <th>2013-01-04</th>\n",
       "      <td>-0.842252</td>\n",
       "      <td>-2.124258</td>\n",
       "    </tr>\n",
       "    <tr>\n",
       "      <th>2013-01-05</th>\n",
       "      <td>0.343848</td>\n",
       "      <td>0.496475</td>\n",
       "    </tr>\n",
       "    <tr>\n",
       "      <th>2013-01-06</th>\n",
       "      <td>-1.017200</td>\n",
       "      <td>1.282888</td>\n",
       "    </tr>\n",
       "  </tbody>\n",
       "</table>\n",
       "</div>"
      ],
      "text/plain": [
       "                   A         B\n",
       "2013-01-01 -0.732504 -0.477730\n",
       "2013-01-02  1.114156 -1.569409\n",
       "2013-01-03  0.134919 -0.035634\n",
       "2013-01-04 -0.842252 -2.124258\n",
       "2013-01-05  0.343848  0.496475\n",
       "2013-01-06 -1.017200  1.282888"
      ]
     },
     "execution_count": 32,
     "metadata": {},
     "output_type": "execute_result"
    }
   ],
   "source": [
    "df.loc[:,['A', 'B']]"
   ]
  },
  {
   "cell_type": "markdown",
   "metadata": {},
   "source": [
    "#### label slicing, both endpoints are included"
   ]
  },
  {
   "cell_type": "code",
   "execution_count": 33,
   "metadata": {},
   "outputs": [
    {
     "data": {
      "text/html": [
       "<div>\n",
       "<style>\n",
       "    .dataframe thead tr:only-child th {\n",
       "        text-align: right;\n",
       "    }\n",
       "\n",
       "    .dataframe thead th {\n",
       "        text-align: left;\n",
       "    }\n",
       "\n",
       "    .dataframe tbody tr th {\n",
       "        vertical-align: top;\n",
       "    }\n",
       "</style>\n",
       "<table border=\"1\" class=\"dataframe\">\n",
       "  <thead>\n",
       "    <tr style=\"text-align: right;\">\n",
       "      <th></th>\n",
       "      <th>A</th>\n",
       "      <th>B</th>\n",
       "    </tr>\n",
       "  </thead>\n",
       "  <tbody>\n",
       "    <tr>\n",
       "      <th>2013-01-02</th>\n",
       "      <td>1.114156</td>\n",
       "      <td>-1.569409</td>\n",
       "    </tr>\n",
       "    <tr>\n",
       "      <th>2013-01-03</th>\n",
       "      <td>0.134919</td>\n",
       "      <td>-0.035634</td>\n",
       "    </tr>\n",
       "    <tr>\n",
       "      <th>2013-01-04</th>\n",
       "      <td>-0.842252</td>\n",
       "      <td>-2.124258</td>\n",
       "    </tr>\n",
       "  </tbody>\n",
       "</table>\n",
       "</div>"
      ],
      "text/plain": [
       "                   A         B\n",
       "2013-01-02  1.114156 -1.569409\n",
       "2013-01-03  0.134919 -0.035634\n",
       "2013-01-04 -0.842252 -2.124258"
      ]
     },
     "execution_count": 33,
     "metadata": {},
     "output_type": "execute_result"
    }
   ],
   "source": [
    "df.loc['20130102':'20130104',['A','B']]"
   ]
  },
  {
   "cell_type": "markdown",
   "metadata": {},
   "source": [
    "#### 행/열중 값 하나만 선택\n",
    "\n",
    "- Reduction in the dimensions of the returned object"
   ]
  },
  {
   "cell_type": "code",
   "execution_count": 34,
   "metadata": {},
   "outputs": [
    {
     "data": {
      "text/plain": [
       "A    1.114156\n",
       "B   -1.569409\n",
       "Name: 2013-01-02 00:00:00, dtype: float64"
      ]
     },
     "execution_count": 34,
     "metadata": {},
     "output_type": "execute_result"
    }
   ],
   "source": [
    "df.loc['20130102',['A','B']]"
   ]
  },
  {
   "cell_type": "markdown",
   "metadata": {},
   "source": [
    "#### 행/열 모두 값 하나만 선택\n",
    "\n",
    "- 스칼라 값 반환"
   ]
  },
  {
   "cell_type": "code",
   "execution_count": 35,
   "metadata": {},
   "outputs": [
    {
     "data": {
      "text/plain": [
       "-0.73250362704049998"
      ]
     },
     "execution_count": 35,
     "metadata": {},
     "output_type": "execute_result"
    }
   ],
   "source": [
    "df.loc[dates[0],'A']"
   ]
  },
  {
   "cell_type": "markdown",
   "metadata": {},
   "source": [
    "##### `.at` \n",
    "\n",
    "- 위와 동일하나, 더 빠른 값 Access "
   ]
  },
  {
   "cell_type": "code",
   "execution_count": 36,
   "metadata": {},
   "outputs": [
    {
     "data": {
      "text/plain": [
       "-0.73250362704049998"
      ]
     },
     "execution_count": 36,
     "metadata": {},
     "output_type": "execute_result"
    }
   ],
   "source": [
    "df.at[dates[0],'A']"
   ]
  },
  {
   "cell_type": "markdown",
   "metadata": {},
   "source": [
    "### 위치 활용 선택\n",
    "\n",
    "- 더 자세한 방법: http://pandas.pydata.org/pandas-docs/stable/indexing.html#indexing-integer\n"
   ]
  },
  {
   "cell_type": "markdown",
   "metadata": {},
   "source": [
    "#### `.iloc[n]`\n",
    "\n",
    "- 넘어온 정수값 위치 Row의 모든 Column 값"
   ]
  },
  {
   "cell_type": "code",
   "execution_count": 37,
   "metadata": {},
   "outputs": [
    {
     "data": {
      "text/plain": [
       "A   -0.842252\n",
       "B   -2.124258\n",
       "C    0.600832\n",
       "D    1.834915\n",
       "Name: 2013-01-04 00:00:00, dtype: float64"
      ]
     },
     "execution_count": 37,
     "metadata": {},
     "output_type": "execute_result"
    }
   ],
   "source": [
    "df.iloc[3]"
   ]
  },
  {
   "cell_type": "markdown",
   "metadata": {},
   "source": [
    "#### `.iloc[n1:n2]`\n",
    "\n",
    "- 이렇게 integer slice 활용하면, numpy와 비슷하게 slicing"
   ]
  },
  {
   "cell_type": "code",
   "execution_count": 38,
   "metadata": {},
   "outputs": [
    {
     "data": {
      "text/html": [
       "<div>\n",
       "<style>\n",
       "    .dataframe thead tr:only-child th {\n",
       "        text-align: right;\n",
       "    }\n",
       "\n",
       "    .dataframe thead th {\n",
       "        text-align: left;\n",
       "    }\n",
       "\n",
       "    .dataframe tbody tr th {\n",
       "        vertical-align: top;\n",
       "    }\n",
       "</style>\n",
       "<table border=\"1\" class=\"dataframe\">\n",
       "  <thead>\n",
       "    <tr style=\"text-align: right;\">\n",
       "      <th></th>\n",
       "      <th>A</th>\n",
       "      <th>B</th>\n",
       "    </tr>\n",
       "  </thead>\n",
       "  <tbody>\n",
       "    <tr>\n",
       "      <th>2013-01-04</th>\n",
       "      <td>-0.842252</td>\n",
       "      <td>-2.124258</td>\n",
       "    </tr>\n",
       "    <tr>\n",
       "      <th>2013-01-05</th>\n",
       "      <td>0.343848</td>\n",
       "      <td>0.496475</td>\n",
       "    </tr>\n",
       "  </tbody>\n",
       "</table>\n",
       "</div>"
      ],
      "text/plain": [
       "                   A         B\n",
       "2013-01-04 -0.842252 -2.124258\n",
       "2013-01-05  0.343848  0.496475"
      ]
     },
     "execution_count": 38,
     "metadata": {},
     "output_type": "execute_result"
    }
   ],
   "source": [
    "df.iloc[3:5,0:2]"
   ]
  },
  {
   "cell_type": "markdown",
   "metadata": {},
   "source": [
    "#### `.iloc[[r0,r1,. ..], [c0,c1, ...]]`\n",
    "\n",
    "- 마찬가지로 `numpy`와 같이 위치값 list로 slicing 가능"
   ]
  },
  {
   "cell_type": "code",
   "execution_count": 39,
   "metadata": {},
   "outputs": [
    {
     "data": {
      "text/html": [
       "<div>\n",
       "<style>\n",
       "    .dataframe thead tr:only-child th {\n",
       "        text-align: right;\n",
       "    }\n",
       "\n",
       "    .dataframe thead th {\n",
       "        text-align: left;\n",
       "    }\n",
       "\n",
       "    .dataframe tbody tr th {\n",
       "        vertical-align: top;\n",
       "    }\n",
       "</style>\n",
       "<table border=\"1\" class=\"dataframe\">\n",
       "  <thead>\n",
       "    <tr style=\"text-align: right;\">\n",
       "      <th></th>\n",
       "      <th>A</th>\n",
       "      <th>C</th>\n",
       "    </tr>\n",
       "  </thead>\n",
       "  <tbody>\n",
       "    <tr>\n",
       "      <th>2013-01-02</th>\n",
       "      <td>1.114156</td>\n",
       "      <td>0.643545</td>\n",
       "    </tr>\n",
       "    <tr>\n",
       "      <th>2013-01-03</th>\n",
       "      <td>0.134919</td>\n",
       "      <td>0.517091</td>\n",
       "    </tr>\n",
       "    <tr>\n",
       "      <th>2013-01-05</th>\n",
       "      <td>0.343848</td>\n",
       "      <td>-1.021254</td>\n",
       "    </tr>\n",
       "  </tbody>\n",
       "</table>\n",
       "</div>"
      ],
      "text/plain": [
       "                   A         C\n",
       "2013-01-02  1.114156  0.643545\n",
       "2013-01-03  0.134919  0.517091\n",
       "2013-01-05  0.343848 -1.021254"
      ]
     },
     "execution_count": 39,
     "metadata": {},
     "output_type": "execute_result"
    }
   ],
   "source": [
    "df.iloc[[1,2,4],[0,2]]"
   ]
  },
  {
   "cell_type": "code",
   "execution_count": 40,
   "metadata": {},
   "outputs": [
    {
     "data": {
      "text/html": [
       "<div>\n",
       "<style>\n",
       "    .dataframe thead tr:only-child th {\n",
       "        text-align: right;\n",
       "    }\n",
       "\n",
       "    .dataframe thead th {\n",
       "        text-align: left;\n",
       "    }\n",
       "\n",
       "    .dataframe tbody tr th {\n",
       "        vertical-align: top;\n",
       "    }\n",
       "</style>\n",
       "<table border=\"1\" class=\"dataframe\">\n",
       "  <thead>\n",
       "    <tr style=\"text-align: right;\">\n",
       "      <th></th>\n",
       "      <th>C</th>\n",
       "      <th>A</th>\n",
       "    </tr>\n",
       "  </thead>\n",
       "  <tbody>\n",
       "    <tr>\n",
       "      <th>2013-01-05</th>\n",
       "      <td>-1.021254</td>\n",
       "      <td>0.343848</td>\n",
       "    </tr>\n",
       "    <tr>\n",
       "      <th>2013-01-03</th>\n",
       "      <td>0.517091</td>\n",
       "      <td>0.134919</td>\n",
       "    </tr>\n",
       "    <tr>\n",
       "      <th>2013-01-02</th>\n",
       "      <td>0.643545</td>\n",
       "      <td>1.114156</td>\n",
       "    </tr>\n",
       "  </tbody>\n",
       "</table>\n",
       "</div>"
      ],
      "text/plain": [
       "                   C         A\n",
       "2013-01-05 -1.021254  0.343848\n",
       "2013-01-03  0.517091  0.134919\n",
       "2013-01-02  0.643545  1.114156"
      ]
     },
     "execution_count": 40,
     "metadata": {},
     "output_type": "execute_result"
    }
   ],
   "source": [
    "df.iloc[[4,2,1],[2,0]] # 이렇게 순서를 바꾼다면?"
   ]
  },
  {
   "cell_type": "markdown",
   "metadata": {},
   "source": [
    "#### `.iloc[r1:r2, :]`, `.iloc[:, c1:c2]`\n",
    "\n",
    "- row / column 단위 slicing"
   ]
  },
  {
   "cell_type": "code",
   "execution_count": 41,
   "metadata": {},
   "outputs": [
    {
     "data": {
      "text/html": [
       "<div>\n",
       "<style>\n",
       "    .dataframe thead tr:only-child th {\n",
       "        text-align: right;\n",
       "    }\n",
       "\n",
       "    .dataframe thead th {\n",
       "        text-align: left;\n",
       "    }\n",
       "\n",
       "    .dataframe tbody tr th {\n",
       "        vertical-align: top;\n",
       "    }\n",
       "</style>\n",
       "<table border=\"1\" class=\"dataframe\">\n",
       "  <thead>\n",
       "    <tr style=\"text-align: right;\">\n",
       "      <th></th>\n",
       "      <th>A</th>\n",
       "      <th>B</th>\n",
       "      <th>C</th>\n",
       "      <th>D</th>\n",
       "    </tr>\n",
       "  </thead>\n",
       "  <tbody>\n",
       "    <tr>\n",
       "      <th>2013-01-02</th>\n",
       "      <td>1.114156</td>\n",
       "      <td>-1.569409</td>\n",
       "      <td>0.643545</td>\n",
       "      <td>-0.482571</td>\n",
       "    </tr>\n",
       "    <tr>\n",
       "      <th>2013-01-03</th>\n",
       "      <td>0.134919</td>\n",
       "      <td>-0.035634</td>\n",
       "      <td>0.517091</td>\n",
       "      <td>-0.791114</td>\n",
       "    </tr>\n",
       "  </tbody>\n",
       "</table>\n",
       "</div>"
      ],
      "text/plain": [
       "                   A         B         C         D\n",
       "2013-01-02  1.114156 -1.569409  0.643545 -0.482571\n",
       "2013-01-03  0.134919 -0.035634  0.517091 -0.791114"
      ]
     },
     "execution_count": 41,
     "metadata": {},
     "output_type": "execute_result"
    }
   ],
   "source": [
    " df.iloc[1:3,:]"
   ]
  },
  {
   "cell_type": "code",
   "execution_count": 42,
   "metadata": {},
   "outputs": [
    {
     "data": {
      "text/html": [
       "<div>\n",
       "<style>\n",
       "    .dataframe thead tr:only-child th {\n",
       "        text-align: right;\n",
       "    }\n",
       "\n",
       "    .dataframe thead th {\n",
       "        text-align: left;\n",
       "    }\n",
       "\n",
       "    .dataframe tbody tr th {\n",
       "        vertical-align: top;\n",
       "    }\n",
       "</style>\n",
       "<table border=\"1\" class=\"dataframe\">\n",
       "  <thead>\n",
       "    <tr style=\"text-align: right;\">\n",
       "      <th></th>\n",
       "      <th>B</th>\n",
       "      <th>C</th>\n",
       "    </tr>\n",
       "  </thead>\n",
       "  <tbody>\n",
       "    <tr>\n",
       "      <th>2013-01-01</th>\n",
       "      <td>-0.477730</td>\n",
       "      <td>1.125425</td>\n",
       "    </tr>\n",
       "    <tr>\n",
       "      <th>2013-01-02</th>\n",
       "      <td>-1.569409</td>\n",
       "      <td>0.643545</td>\n",
       "    </tr>\n",
       "    <tr>\n",
       "      <th>2013-01-03</th>\n",
       "      <td>-0.035634</td>\n",
       "      <td>0.517091</td>\n",
       "    </tr>\n",
       "    <tr>\n",
       "      <th>2013-01-04</th>\n",
       "      <td>-2.124258</td>\n",
       "      <td>0.600832</td>\n",
       "    </tr>\n",
       "    <tr>\n",
       "      <th>2013-01-05</th>\n",
       "      <td>0.496475</td>\n",
       "      <td>-1.021254</td>\n",
       "    </tr>\n",
       "    <tr>\n",
       "      <th>2013-01-06</th>\n",
       "      <td>1.282888</td>\n",
       "      <td>-1.913240</td>\n",
       "    </tr>\n",
       "  </tbody>\n",
       "</table>\n",
       "</div>"
      ],
      "text/plain": [
       "                   B         C\n",
       "2013-01-01 -0.477730  1.125425\n",
       "2013-01-02 -1.569409  0.643545\n",
       "2013-01-03 -0.035634  0.517091\n",
       "2013-01-04 -2.124258  0.600832\n",
       "2013-01-05  0.496475 -1.021254\n",
       "2013-01-06  1.282888 -1.913240"
      ]
     },
     "execution_count": 42,
     "metadata": {},
     "output_type": "execute_result"
    }
   ],
   "source": [
    "df.iloc[:,1:3]"
   ]
  },
  {
   "cell_type": "markdown",
   "metadata": {},
   "source": [
    "#### `.iloc[r,c]`\n",
    "\n",
    "- 해당 위치의 scala값"
   ]
  },
  {
   "cell_type": "code",
   "execution_count": 43,
   "metadata": {},
   "outputs": [
    {
     "data": {
      "text/plain": [
       "-1.5694091224817042"
      ]
     },
     "execution_count": 43,
     "metadata": {},
     "output_type": "execute_result"
    }
   ],
   "source": [
    "df.iloc[1,1]"
   ]
  },
  {
   "cell_type": "markdown",
   "metadata": {},
   "source": [
    "#### `.iat[r,c]`\n",
    "\n",
    "- 위와 동일 (fast access)"
   ]
  },
  {
   "cell_type": "code",
   "execution_count": 44,
   "metadata": {},
   "outputs": [
    {
     "data": {
      "text/plain": [
       "-1.5694091224817042"
      ]
     },
     "execution_count": 44,
     "metadata": {},
     "output_type": "execute_result"
    }
   ],
   "source": [
    " df.iat[1,1]"
   ]
  },
  {
   "cell_type": "markdown",
   "metadata": {},
   "source": [
    "### Boolean Indexing\n",
    "\n",
    "- Boolean 값을 통한 indexing, 즉 특정 조건을 가진 값만 얻는 filtering 가능\n",
    "\n",
    "#### Row 단위 Boolean Indexing\n",
    "\n",
    "- 아래와 같이 모든 row의 지정 column 값에 대한 Boolean 연산 결과 `Series`를 얻을 수 있음"
   ]
  },
  {
   "cell_type": "code",
   "execution_count": 45,
   "metadata": {},
   "outputs": [
    {
     "data": {
      "text/plain": [
       "2013-01-01    False\n",
       "2013-01-02     True\n",
       "2013-01-03     True\n",
       "2013-01-04    False\n",
       "2013-01-05     True\n",
       "2013-01-06    False\n",
       "Freq: D, Name: A, dtype: bool"
      ]
     },
     "execution_count": 45,
     "metadata": {},
     "output_type": "execute_result"
    }
   ],
   "source": [
    "df.A > 0"
   ]
  },
  {
   "cell_type": "markdown",
   "metadata": {},
   "source": [
    "- 위의 Boolean `Series` 값을 활용하면 해당 조건을 만족하는 모든 Row를 얻을 수 있음"
   ]
  },
  {
   "cell_type": "code",
   "execution_count": 47,
   "metadata": {},
   "outputs": [
    {
     "data": {
      "text/html": [
       "<div>\n",
       "<style>\n",
       "    .dataframe thead tr:only-child th {\n",
       "        text-align: right;\n",
       "    }\n",
       "\n",
       "    .dataframe thead th {\n",
       "        text-align: left;\n",
       "    }\n",
       "\n",
       "    .dataframe tbody tr th {\n",
       "        vertical-align: top;\n",
       "    }\n",
       "</style>\n",
       "<table border=\"1\" class=\"dataframe\">\n",
       "  <thead>\n",
       "    <tr style=\"text-align: right;\">\n",
       "      <th></th>\n",
       "      <th>A</th>\n",
       "      <th>B</th>\n",
       "      <th>C</th>\n",
       "      <th>D</th>\n",
       "    </tr>\n",
       "  </thead>\n",
       "  <tbody>\n",
       "    <tr>\n",
       "      <th>2013-01-02</th>\n",
       "      <td>1.114156</td>\n",
       "      <td>-1.569409</td>\n",
       "      <td>0.643545</td>\n",
       "      <td>-0.482571</td>\n",
       "    </tr>\n",
       "    <tr>\n",
       "      <th>2013-01-03</th>\n",
       "      <td>0.134919</td>\n",
       "      <td>-0.035634</td>\n",
       "      <td>0.517091</td>\n",
       "      <td>-0.791114</td>\n",
       "    </tr>\n",
       "    <tr>\n",
       "      <th>2013-01-05</th>\n",
       "      <td>0.343848</td>\n",
       "      <td>0.496475</td>\n",
       "      <td>-1.021254</td>\n",
       "      <td>-0.350403</td>\n",
       "    </tr>\n",
       "  </tbody>\n",
       "</table>\n",
       "</div>"
      ],
      "text/plain": [
       "                   A         B         C         D\n",
       "2013-01-02  1.114156 -1.569409  0.643545 -0.482571\n",
       "2013-01-03  0.134919 -0.035634  0.517091 -0.791114\n",
       "2013-01-05  0.343848  0.496475 -1.021254 -0.350403"
      ]
     },
     "execution_count": 47,
     "metadata": {},
     "output_type": "execute_result"
    }
   ],
   "source": [
    "df[df.A > 0]"
   ]
  },
  {
   "cell_type": "markdown",
   "metadata": {},
   "source": [
    "#### 전체 값 대상 Boolean Indexing"
   ]
  },
  {
   "cell_type": "code",
   "execution_count": 48,
   "metadata": {},
   "outputs": [
    {
     "data": {
      "text/html": [
       "<div>\n",
       "<style>\n",
       "    .dataframe thead tr:only-child th {\n",
       "        text-align: right;\n",
       "    }\n",
       "\n",
       "    .dataframe thead th {\n",
       "        text-align: left;\n",
       "    }\n",
       "\n",
       "    .dataframe tbody tr th {\n",
       "        vertical-align: top;\n",
       "    }\n",
       "</style>\n",
       "<table border=\"1\" class=\"dataframe\">\n",
       "  <thead>\n",
       "    <tr style=\"text-align: right;\">\n",
       "      <th></th>\n",
       "      <th>A</th>\n",
       "      <th>B</th>\n",
       "      <th>C</th>\n",
       "      <th>D</th>\n",
       "    </tr>\n",
       "  </thead>\n",
       "  <tbody>\n",
       "    <tr>\n",
       "      <th>2013-01-01</th>\n",
       "      <td>False</td>\n",
       "      <td>False</td>\n",
       "      <td>True</td>\n",
       "      <td>True</td>\n",
       "    </tr>\n",
       "    <tr>\n",
       "      <th>2013-01-02</th>\n",
       "      <td>True</td>\n",
       "      <td>False</td>\n",
       "      <td>True</td>\n",
       "      <td>False</td>\n",
       "    </tr>\n",
       "    <tr>\n",
       "      <th>2013-01-03</th>\n",
       "      <td>True</td>\n",
       "      <td>False</td>\n",
       "      <td>True</td>\n",
       "      <td>False</td>\n",
       "    </tr>\n",
       "    <tr>\n",
       "      <th>2013-01-04</th>\n",
       "      <td>False</td>\n",
       "      <td>False</td>\n",
       "      <td>True</td>\n",
       "      <td>True</td>\n",
       "    </tr>\n",
       "    <tr>\n",
       "      <th>2013-01-05</th>\n",
       "      <td>True</td>\n",
       "      <td>True</td>\n",
       "      <td>False</td>\n",
       "      <td>False</td>\n",
       "    </tr>\n",
       "    <tr>\n",
       "      <th>2013-01-06</th>\n",
       "      <td>False</td>\n",
       "      <td>True</td>\n",
       "      <td>False</td>\n",
       "      <td>True</td>\n",
       "    </tr>\n",
       "  </tbody>\n",
       "</table>\n",
       "</div>"
      ],
      "text/plain": [
       "                A      B      C      D\n",
       "2013-01-01  False  False   True   True\n",
       "2013-01-02   True  False   True  False\n",
       "2013-01-03   True  False   True  False\n",
       "2013-01-04  False  False   True   True\n",
       "2013-01-05   True   True  False  False\n",
       "2013-01-06  False   True  False   True"
      ]
     },
     "execution_count": 48,
     "metadata": {},
     "output_type": "execute_result"
    }
   ],
   "source": [
    "df > 0"
   ]
  },
  {
   "cell_type": "code",
   "execution_count": 49,
   "metadata": {},
   "outputs": [
    {
     "data": {
      "text/html": [
       "<div>\n",
       "<style>\n",
       "    .dataframe thead tr:only-child th {\n",
       "        text-align: right;\n",
       "    }\n",
       "\n",
       "    .dataframe thead th {\n",
       "        text-align: left;\n",
       "    }\n",
       "\n",
       "    .dataframe tbody tr th {\n",
       "        vertical-align: top;\n",
       "    }\n",
       "</style>\n",
       "<table border=\"1\" class=\"dataframe\">\n",
       "  <thead>\n",
       "    <tr style=\"text-align: right;\">\n",
       "      <th></th>\n",
       "      <th>A</th>\n",
       "      <th>B</th>\n",
       "      <th>C</th>\n",
       "      <th>D</th>\n",
       "    </tr>\n",
       "  </thead>\n",
       "  <tbody>\n",
       "    <tr>\n",
       "      <th>2013-01-01</th>\n",
       "      <td>NaN</td>\n",
       "      <td>NaN</td>\n",
       "      <td>1.125425</td>\n",
       "      <td>1.110776</td>\n",
       "    </tr>\n",
       "    <tr>\n",
       "      <th>2013-01-02</th>\n",
       "      <td>1.114156</td>\n",
       "      <td>NaN</td>\n",
       "      <td>0.643545</td>\n",
       "      <td>NaN</td>\n",
       "    </tr>\n",
       "    <tr>\n",
       "      <th>2013-01-03</th>\n",
       "      <td>0.134919</td>\n",
       "      <td>NaN</td>\n",
       "      <td>0.517091</td>\n",
       "      <td>NaN</td>\n",
       "    </tr>\n",
       "    <tr>\n",
       "      <th>2013-01-04</th>\n",
       "      <td>NaN</td>\n",
       "      <td>NaN</td>\n",
       "      <td>0.600832</td>\n",
       "      <td>1.834915</td>\n",
       "    </tr>\n",
       "    <tr>\n",
       "      <th>2013-01-05</th>\n",
       "      <td>0.343848</td>\n",
       "      <td>0.496475</td>\n",
       "      <td>NaN</td>\n",
       "      <td>NaN</td>\n",
       "    </tr>\n",
       "    <tr>\n",
       "      <th>2013-01-06</th>\n",
       "      <td>NaN</td>\n",
       "      <td>1.282888</td>\n",
       "      <td>NaN</td>\n",
       "      <td>1.366801</td>\n",
       "    </tr>\n",
       "  </tbody>\n",
       "</table>\n",
       "</div>"
      ],
      "text/plain": [
       "                   A         B         C         D\n",
       "2013-01-01       NaN       NaN  1.125425  1.110776\n",
       "2013-01-02  1.114156       NaN  0.643545       NaN\n",
       "2013-01-03  0.134919       NaN  0.517091       NaN\n",
       "2013-01-04       NaN       NaN  0.600832  1.834915\n",
       "2013-01-05  0.343848  0.496475       NaN       NaN\n",
       "2013-01-06       NaN  1.282888       NaN  1.366801"
      ]
     },
     "execution_count": 49,
     "metadata": {},
     "output_type": "execute_result"
    }
   ],
   "source": [
    "df[df > 0]"
   ]
  },
  {
   "cell_type": "markdown",
   "metadata": {},
   "source": [
    "#### `.isin(value_list)`\n",
    "\n",
    "- 주어진 `value_list`를 가졌는지에 대한 Boolean 결과"
   ]
  },
  {
   "cell_type": "code",
   "execution_count": 50,
   "metadata": {},
   "outputs": [
    {
     "data": {
      "text/html": [
       "<div>\n",
       "<style>\n",
       "    .dataframe thead tr:only-child th {\n",
       "        text-align: right;\n",
       "    }\n",
       "\n",
       "    .dataframe thead th {\n",
       "        text-align: left;\n",
       "    }\n",
       "\n",
       "    .dataframe tbody tr th {\n",
       "        vertical-align: top;\n",
       "    }\n",
       "</style>\n",
       "<table border=\"1\" class=\"dataframe\">\n",
       "  <thead>\n",
       "    <tr style=\"text-align: right;\">\n",
       "      <th></th>\n",
       "      <th>A</th>\n",
       "      <th>B</th>\n",
       "      <th>C</th>\n",
       "      <th>D</th>\n",
       "      <th>E</th>\n",
       "    </tr>\n",
       "  </thead>\n",
       "  <tbody>\n",
       "    <tr>\n",
       "      <th>2013-01-01</th>\n",
       "      <td>-0.732504</td>\n",
       "      <td>-0.477730</td>\n",
       "      <td>1.125425</td>\n",
       "      <td>1.110776</td>\n",
       "      <td>one</td>\n",
       "    </tr>\n",
       "    <tr>\n",
       "      <th>2013-01-02</th>\n",
       "      <td>1.114156</td>\n",
       "      <td>-1.569409</td>\n",
       "      <td>0.643545</td>\n",
       "      <td>-0.482571</td>\n",
       "      <td>one</td>\n",
       "    </tr>\n",
       "    <tr>\n",
       "      <th>2013-01-03</th>\n",
       "      <td>0.134919</td>\n",
       "      <td>-0.035634</td>\n",
       "      <td>0.517091</td>\n",
       "      <td>-0.791114</td>\n",
       "      <td>two</td>\n",
       "    </tr>\n",
       "    <tr>\n",
       "      <th>2013-01-04</th>\n",
       "      <td>-0.842252</td>\n",
       "      <td>-2.124258</td>\n",
       "      <td>0.600832</td>\n",
       "      <td>1.834915</td>\n",
       "      <td>three</td>\n",
       "    </tr>\n",
       "    <tr>\n",
       "      <th>2013-01-05</th>\n",
       "      <td>0.343848</td>\n",
       "      <td>0.496475</td>\n",
       "      <td>-1.021254</td>\n",
       "      <td>-0.350403</td>\n",
       "      <td>four</td>\n",
       "    </tr>\n",
       "    <tr>\n",
       "      <th>2013-01-06</th>\n",
       "      <td>-1.017200</td>\n",
       "      <td>1.282888</td>\n",
       "      <td>-1.913240</td>\n",
       "      <td>1.366801</td>\n",
       "      <td>three</td>\n",
       "    </tr>\n",
       "  </tbody>\n",
       "</table>\n",
       "</div>"
      ],
      "text/plain": [
       "                   A         B         C         D      E\n",
       "2013-01-01 -0.732504 -0.477730  1.125425  1.110776    one\n",
       "2013-01-02  1.114156 -1.569409  0.643545 -0.482571    one\n",
       "2013-01-03  0.134919 -0.035634  0.517091 -0.791114    two\n",
       "2013-01-04 -0.842252 -2.124258  0.600832  1.834915  three\n",
       "2013-01-05  0.343848  0.496475 -1.021254 -0.350403   four\n",
       "2013-01-06 -1.017200  1.282888 -1.913240  1.366801  three"
      ]
     },
     "execution_count": 50,
     "metadata": {},
     "output_type": "execute_result"
    }
   ],
   "source": [
    "df2 = df.copy()\n",
    "\n",
    "df2['E'] = ['one', 'one','two','three','four','three']\n",
    "df2"
   ]
  },
  {
   "cell_type": "code",
   "execution_count": 51,
   "metadata": {},
   "outputs": [
    {
     "data": {
      "text/plain": [
       "2013-01-01    False\n",
       "2013-01-02    False\n",
       "2013-01-03     True\n",
       "2013-01-04    False\n",
       "2013-01-05     True\n",
       "2013-01-06    False\n",
       "Freq: D, Name: E, dtype: bool"
      ]
     },
     "execution_count": 51,
     "metadata": {},
     "output_type": "execute_result"
    }
   ],
   "source": [
    "df2['E'].isin(['two','four'])"
   ]
  },
  {
   "cell_type": "markdown",
   "metadata": {},
   "source": [
    "- 위 결과를 활용한 필터링 가능"
   ]
  },
  {
   "cell_type": "code",
   "execution_count": 52,
   "metadata": {},
   "outputs": [
    {
     "data": {
      "text/html": [
       "<div>\n",
       "<style>\n",
       "    .dataframe thead tr:only-child th {\n",
       "        text-align: right;\n",
       "    }\n",
       "\n",
       "    .dataframe thead th {\n",
       "        text-align: left;\n",
       "    }\n",
       "\n",
       "    .dataframe tbody tr th {\n",
       "        vertical-align: top;\n",
       "    }\n",
       "</style>\n",
       "<table border=\"1\" class=\"dataframe\">\n",
       "  <thead>\n",
       "    <tr style=\"text-align: right;\">\n",
       "      <th></th>\n",
       "      <th>A</th>\n",
       "      <th>B</th>\n",
       "      <th>C</th>\n",
       "      <th>D</th>\n",
       "      <th>E</th>\n",
       "    </tr>\n",
       "  </thead>\n",
       "  <tbody>\n",
       "    <tr>\n",
       "      <th>2013-01-03</th>\n",
       "      <td>0.134919</td>\n",
       "      <td>-0.035634</td>\n",
       "      <td>0.517091</td>\n",
       "      <td>-0.791114</td>\n",
       "      <td>two</td>\n",
       "    </tr>\n",
       "    <tr>\n",
       "      <th>2013-01-05</th>\n",
       "      <td>0.343848</td>\n",
       "      <td>0.496475</td>\n",
       "      <td>-1.021254</td>\n",
       "      <td>-0.350403</td>\n",
       "      <td>four</td>\n",
       "    </tr>\n",
       "  </tbody>\n",
       "</table>\n",
       "</div>"
      ],
      "text/plain": [
       "                   A         B         C         D     E\n",
       "2013-01-03  0.134919 -0.035634  0.517091 -0.791114   two\n",
       "2013-01-05  0.343848  0.496475 -1.021254 -0.350403  four"
      ]
     },
     "execution_count": 52,
     "metadata": {},
     "output_type": "execute_result"
    }
   ],
   "source": [
    "df2[df2['E'].isin(['two','four'])]"
   ]
  },
  {
   "cell_type": "markdown",
   "metadata": {},
   "source": [
    "### Setting"
   ]
  },
  {
   "cell_type": "code",
   "execution_count": 53,
   "metadata": {},
   "outputs": [
    {
     "data": {
      "text/plain": [
       "2013-01-02    1\n",
       "2013-01-03    2\n",
       "2013-01-04    3\n",
       "2013-01-05    4\n",
       "2013-01-06    5\n",
       "2013-01-07    6\n",
       "Freq: D, dtype: int64"
      ]
     },
     "execution_count": 53,
     "metadata": {},
     "output_type": "execute_result"
    }
   ],
   "source": [
    "s1 = pd.Series([1,2,3,4,5,6], index=pd.date_range('20130102', '20130107'))\n",
    "s1"
   ]
  },
  {
   "cell_type": "code",
   "execution_count": 55,
   "metadata": {},
   "outputs": [
    {
     "data": {
      "text/html": [
       "<div>\n",
       "<style>\n",
       "    .dataframe thead tr:only-child th {\n",
       "        text-align: right;\n",
       "    }\n",
       "\n",
       "    .dataframe thead th {\n",
       "        text-align: left;\n",
       "    }\n",
       "\n",
       "    .dataframe tbody tr th {\n",
       "        vertical-align: top;\n",
       "    }\n",
       "</style>\n",
       "<table border=\"1\" class=\"dataframe\">\n",
       "  <thead>\n",
       "    <tr style=\"text-align: right;\">\n",
       "      <th></th>\n",
       "      <th>A</th>\n",
       "      <th>B</th>\n",
       "      <th>C</th>\n",
       "      <th>D</th>\n",
       "      <th>F</th>\n",
       "    </tr>\n",
       "  </thead>\n",
       "  <tbody>\n",
       "    <tr>\n",
       "      <th>2013-01-01</th>\n",
       "      <td>-0.732504</td>\n",
       "      <td>-0.477730</td>\n",
       "      <td>1.125425</td>\n",
       "      <td>1.110776</td>\n",
       "      <td>NaN</td>\n",
       "    </tr>\n",
       "    <tr>\n",
       "      <th>2013-01-02</th>\n",
       "      <td>1.114156</td>\n",
       "      <td>-1.569409</td>\n",
       "      <td>0.643545</td>\n",
       "      <td>-0.482571</td>\n",
       "      <td>1.0</td>\n",
       "    </tr>\n",
       "    <tr>\n",
       "      <th>2013-01-03</th>\n",
       "      <td>0.134919</td>\n",
       "      <td>-0.035634</td>\n",
       "      <td>0.517091</td>\n",
       "      <td>-0.791114</td>\n",
       "      <td>2.0</td>\n",
       "    </tr>\n",
       "    <tr>\n",
       "      <th>2013-01-04</th>\n",
       "      <td>-0.842252</td>\n",
       "      <td>-2.124258</td>\n",
       "      <td>0.600832</td>\n",
       "      <td>1.834915</td>\n",
       "      <td>3.0</td>\n",
       "    </tr>\n",
       "    <tr>\n",
       "      <th>2013-01-05</th>\n",
       "      <td>0.343848</td>\n",
       "      <td>0.496475</td>\n",
       "      <td>-1.021254</td>\n",
       "      <td>-0.350403</td>\n",
       "      <td>4.0</td>\n",
       "    </tr>\n",
       "    <tr>\n",
       "      <th>2013-01-06</th>\n",
       "      <td>-1.017200</td>\n",
       "      <td>1.282888</td>\n",
       "      <td>-1.913240</td>\n",
       "      <td>1.366801</td>\n",
       "      <td>5.0</td>\n",
       "    </tr>\n",
       "  </tbody>\n",
       "</table>\n",
       "</div>"
      ],
      "text/plain": [
       "                   A         B         C         D    F\n",
       "2013-01-01 -0.732504 -0.477730  1.125425  1.110776  NaN\n",
       "2013-01-02  1.114156 -1.569409  0.643545 -0.482571  1.0\n",
       "2013-01-03  0.134919 -0.035634  0.517091 -0.791114  2.0\n",
       "2013-01-04 -0.842252 -2.124258  0.600832  1.834915  3.0\n",
       "2013-01-05  0.343848  0.496475 -1.021254 -0.350403  4.0\n",
       "2013-01-06 -1.017200  1.282888 -1.913240  1.366801  5.0"
      ]
     },
     "execution_count": 55,
     "metadata": {},
     "output_type": "execute_result"
    }
   ],
   "source": [
    "df3 = df.copy()\n",
    "df3['F'] = s1 # s1 Series값을 'F'라는 Label을 가진 열로 설정\n",
    "df3"
   ]
  },
  {
   "cell_type": "markdown",
   "metadata": {},
   "source": [
    "## Operations"
   ]
  },
  {
   "cell_type": "code",
   "execution_count": null,
   "metadata": {
    "collapsed": true
   },
   "outputs": [],
   "source": []
  },
  {
   "cell_type": "markdown",
   "metadata": {},
   "source": [
    "## 시계열"
   ]
  },
  {
   "cell_type": "code",
   "execution_count": null,
   "metadata": {
    "collapsed": true
   },
   "outputs": [],
   "source": []
  },
  {
   "cell_type": "markdown",
   "metadata": {},
   "source": [
    "## 범주 데이터 (Category, Factor)"
   ]
  },
  {
   "cell_type": "code",
   "execution_count": null,
   "metadata": {
    "collapsed": true
   },
   "outputs": [],
   "source": []
  },
  {
   "cell_type": "markdown",
   "metadata": {},
   "source": [
    "## I/O"
   ]
  },
  {
   "cell_type": "markdown",
   "metadata": {},
   "source": [
    "## Chart"
   ]
  }
 ],
 "metadata": {
  "kernelspec": {
   "display_name": "Python 3",
   "language": "python",
   "name": "python3"
  },
  "language_info": {
   "codemirror_mode": {
    "name": "ipython",
    "version": 3
   },
   "file_extension": ".py",
   "mimetype": "text/x-python",
   "name": "python",
   "nbconvert_exporter": "python",
   "pygments_lexer": "ipython3",
   "version": "3.4.5"
  }
 },
 "nbformat": 4,
 "nbformat_minor": 2
}
