{
 "cells": [
  {
   "cell_type": "markdown",
   "metadata": {},
   "source": [
    "# 4. 제어문"
   ]
  },
  {
   "cell_type": "markdown",
   "metadata": {},
   "source": [
    "## Boolean 형 / 논리 연산자"
   ]
  },
  {
   "cell_type": "code",
   "execution_count": 8,
   "metadata": {},
   "outputs": [
    {
     "name": "stdout",
     "output_type": "stream",
     "text": [
      "<class 'bool'>\n"
     ]
    }
   ],
   "source": [
    "true = True\n",
    "print(type(true))"
   ]
  },
  {
   "cell_type": "markdown",
   "metadata": {},
   "source": [
    "### 비교 연산자"
   ]
  },
  {
   "cell_type": "code",
   "execution_count": 9,
   "metadata": {},
   "outputs": [
    {
     "data": {
      "text/plain": [
       "True"
      ]
     },
     "execution_count": 9,
     "metadata": {},
     "output_type": "execute_result"
    }
   ],
   "source": [
    "10000 * 1.3 > 12500"
   ]
  },
  {
   "cell_type": "markdown",
   "metadata": {},
   "source": [
    "### `and` / `or` / `not`"
   ]
  },
  {
   "cell_type": "code",
   "execution_count": 10,
   "metadata": {},
   "outputs": [
    {
     "data": {
      "text/plain": [
       "True"
      ]
     },
     "execution_count": 10,
     "metadata": {},
     "output_type": "execute_result"
    }
   ],
   "source": [
    "cur_price = 9980\n",
    "cur_price >= 5000 and cur_price < 10000"
   ]
  },
  {
   "cell_type": "markdown",
   "metadata": {},
   "source": [
    "### 조건문 논리 연산자 대체\n",
    "\n",
    "- `True` 대체 가능: `None` 아닌 객체, 원소가 있는 `list`, `dict`, `set`\n",
    "- `False`  대체 가능: `None`, `0`, 빈 `list`, `dict`, `set` "
   ]
  },
  {
   "cell_type": "code",
   "execution_count": 11,
   "metadata": {},
   "outputs": [
    {
     "name": "stdout",
     "output_type": "stream",
     "text": [
      "it's None\n",
      "it's empty!\n"
     ]
    }
   ],
   "source": [
    "a = None\n",
    "if a: \n",
    "    print(\"it's ok\") \n",
    "else: \n",
    "    print(\"it's None\")\n",
    "\n",
    "l = list()\n",
    "    \n",
    "if l: \n",
    "    print(\"it has some elements.\") \n",
    "else: \n",
    "    print(\"it's empty!\")"
   ]
  },
  {
   "cell_type": "markdown",
   "metadata": {},
   "source": [
    "## `if` "
   ]
  },
  {
   "cell_type": "markdown",
   "metadata": {},
   "source": [
    "### `if` ~ `else`"
   ]
  },
  {
   "cell_type": "code",
   "execution_count": 12,
   "metadata": {},
   "outputs": [
    {
     "name": "stdout",
     "output_type": "stream",
     "text": [
      "Buy 10\n"
     ]
    }
   ],
   "source": [
    "wikibooks_cur_price = 11000\n",
    "if wikibooks_cur_price >= 10000:\n",
    "    print(\"Buy 10\")\n",
    "else:\n",
    "    print(\"Holding\")"
   ]
  },
  {
   "cell_type": "markdown",
   "metadata": {},
   "source": [
    "#### 유의사항\n",
    "- `if`, `else` 각각 띄어쓰기 (identation) 수준이 같아야 함"
   ]
  },
  {
   "cell_type": "code",
   "execution_count": 14,
   "metadata": {},
   "outputs": [
    {
     "ename": "IndentationError",
     "evalue": "unindent does not match any outer indentation level (<tokenize>, line 4)",
     "output_type": "error",
     "traceback": [
      "\u001b[0;36m  File \u001b[0;32m\"<tokenize>\"\u001b[0;36m, line \u001b[0;32m4\u001b[0m\n\u001b[0;31m    else:\u001b[0m\n\u001b[0m    ^\u001b[0m\n\u001b[0;31mIndentationError\u001b[0m\u001b[0;31m:\u001b[0m unindent does not match any outer indentation level\n"
     ]
    }
   ],
   "source": [
    "wikibooks_cur_price = 11000\n",
    "if wikibooks_cur_price >= 10000:\n",
    "    print(\"Buy 10\")\n",
    "  else:\n",
    "    print(\"Holding\")"
   ]
  },
  {
   "cell_type": "markdown",
   "metadata": {},
   "source": [
    "### `if` ~ `elif` ~ `else`"
   ]
  },
  {
   "cell_type": "code",
   "execution_count": 16,
   "metadata": {},
   "outputs": [
    {
     "name": "stdout",
     "output_type": "stream",
     "text": [
      "1000\n"
     ]
    }
   ],
   "source": [
    "price = 700000\n",
    "\n",
    "if price < 1000:\n",
    "    bid = 1\n",
    "elif price >= 1000 and price < 5000:\n",
    "    bid = 5\n",
    "elif price >= 5000 and price < 10000:\n",
    "    bid = 10\n",
    "elif price >= 10000 and price < 50000:\n",
    "    bid = 50\n",
    "elif price >= 50000 and price < 100000:\n",
    "    bid = 100\n",
    "elif price >= 100000 and price < 500000:\n",
    "    bid = 500\n",
    "else:\n",
    "    bid = 1000\n",
    "\n",
    "print(bid)"
   ]
  },
  {
   "cell_type": "markdown",
   "metadata": {
    "collapsed": true
   },
   "source": [
    "## `for` "
   ]
  },
  {
   "cell_type": "code",
   "execution_count": 17,
   "metadata": {},
   "outputs": [
    {
     "name": "stdout",
     "output_type": "stream",
     "text": [
      "0\n",
      "1\n",
      "2\n",
      "3\n",
      "4\n",
      "5\n",
      "6\n",
      "7\n",
      "8\n",
      "9\n",
      "10\n"
     ]
    }
   ],
   "source": [
    "for i in [0, 1, 2, 3, 4, 5, 6, 7, 8, 9, 10]:\n",
    "    print(i)"
   ]
  },
  {
   "cell_type": "markdown",
   "metadata": {},
   "source": [
    "### `range()`"
   ]
  },
  {
   "cell_type": "code",
   "execution_count": 18,
   "metadata": {},
   "outputs": [
    {
     "data": {
      "text/plain": [
       "range(1, 3)"
      ]
     },
     "execution_count": 18,
     "metadata": {},
     "output_type": "execute_result"
    }
   ],
   "source": [
    "range(1,3)"
   ]
  },
  {
   "cell_type": "code",
   "execution_count": 19,
   "metadata": {},
   "outputs": [
    {
     "name": "stdout",
     "output_type": "stream",
     "text": [
      "0\n",
      "1\n",
      "2\n",
      "3\n",
      "4\n",
      "5\n",
      "6\n",
      "7\n",
      "8\n",
      "9\n",
      "10\n",
      "\n",
      "0\n",
      "2\n",
      "4\n",
      "6\n",
      "8\n",
      "10\n"
     ]
    }
   ],
   "source": [
    "for i in range(0,11): print(i)\n",
    "print()\n",
    "for i in range(0,11,2): print(i) # range의 세번째 인수는 step 값"
   ]
  },
  {
   "cell_type": "markdown",
   "metadata": {},
   "source": [
    "### `for` + `list` / `tuple`"
   ]
  },
  {
   "cell_type": "code",
   "execution_count": 20,
   "metadata": {},
   "outputs": [
    {
     "name": "stdout",
     "output_type": "stream",
     "text": [
      "Naver: Buy 10\n",
      "Samsung: Buy 10\n",
      "SK Hynix: Buy 10\n"
     ]
    }
   ],
   "source": [
    "interest_stocks = [\"Naver\", \"Samsung\", \"SK Hynix\"]\n",
    "\n",
    "for company in interest_stocks:\n",
    "    print(\"%s: Buy 10\" % company)"
   ]
  },
  {
   "cell_type": "code",
   "execution_count": 21,
   "metadata": {},
   "outputs": [
    {
     "name": "stdout",
     "output_type": "stream",
     "text": [
      "Naver: Buy 10\n",
      "Samsung: Buy 10\n",
      "SK Hynix: Buy 10\n"
     ]
    }
   ],
   "source": [
    "interest_stocks = (\"Naver\", \"Samsung\", \"SK Hynix\")\n",
    "\n",
    "for company in interest_stocks:\n",
    "    print(\"%s: Buy 10\" % company)"
   ]
  },
  {
   "cell_type": "markdown",
   "metadata": {},
   "source": [
    "### `for` + `dict`"
   ]
  },
  {
   "cell_type": "code",
   "execution_count": 22,
   "metadata": {},
   "outputs": [
    {
     "name": "stdout",
     "output_type": "stream",
     "text": [
      "SK Hynix: Buy 30\n",
      "Samsung: Buy 5\n",
      "Naver: Buy 10\n"
     ]
    }
   ],
   "source": [
    "interest_stocks = {\"Naver\":10, \"Samsung\":5, \"SK Hynix\":30}\n",
    "\n",
    "for (company, stock_num) in interest_stocks.items():\n",
    "    print(\"%s: Buy %s\" % (company, stock_num))"
   ]
  },
  {
   "cell_type": "code",
   "execution_count": 23,
   "metadata": {},
   "outputs": [
    {
     "name": "stdout",
     "output_type": "stream",
     "text": [
      "SK Hynix: Buy 30\n",
      "Samsung: Buy 5\n",
      "Naver: Buy 10\n"
     ]
    }
   ],
   "source": [
    "for company in interest_stocks.keys():\n",
    "        print(\"%s: Buy %s\" % (company, interest_stocks[company]))"
   ]
  },
  {
   "cell_type": "markdown",
   "metadata": {
    "collapsed": true
   },
   "source": [
    "## `while` "
   ]
  },
  {
   "cell_type": "code",
   "execution_count": 24,
   "metadata": {},
   "outputs": [
    {
     "name": "stdout",
     "output_type": "stream",
     "text": [
      "0\n",
      "1\n",
      "2\n",
      "3\n",
      "4\n",
      "5\n",
      "6\n",
      "7\n",
      "8\n",
      "9\n",
      "10\n"
     ]
    }
   ],
   "source": [
    "i = 0\n",
    "while i <= 10:\n",
    "    print(i)\n",
    "    i += 1"
   ]
  },
  {
   "cell_type": "code",
   "execution_count": 25,
   "metadata": {},
   "outputs": [
    {
     "name": "stdout",
     "output_type": "stream",
     "text": [
      "0\n",
      "2\n",
      "4\n",
      "6\n",
      "8\n",
      "10\n"
     ]
    }
   ],
   "source": [
    "num = 0\n",
    "while 1:\n",
    "    if num % 2 :\n",
    "        num += 1\n",
    "        continue\n",
    "        \n",
    "    print(num)\n",
    "    if num == 10:\n",
    "        break\n",
    "    num += 1"
   ]
  },
  {
   "cell_type": "markdown",
   "metadata": {},
   "source": [
    "# 5. 함수 / 모듈"
   ]
  },
  {
   "cell_type": "markdown",
   "metadata": {},
   "source": [
    "## 함수\n",
    "\n",
    "> $ y = f(x) $ 라는 black box\n",
    "\n",
    "![function as a Black Box](https://wikidocs.net/images/page/1045/5.01.png)"
   ]
  },
  {
   "cell_type": "code",
   "execution_count": 29,
   "metadata": {},
   "outputs": [
    {
     "name": "stdout",
     "output_type": "stream",
     "text": [
      "['Samsung', 'Samsung', 'Samsung']\n",
      "['S', 'a', 'm', 's', 'u', 'n', 'g', 'S', 'a', 'm', 's', 'u', 'n', 'g', 'S', 'a', 'm', 's', 'u', 'n', 'g']\n"
     ]
    }
   ],
   "source": [
    "interest_stocks = {10:\"Naver\", 11:\"Samsung\", 15:\"SK Hynix\"}\n",
    "\n",
    "def get_company_names(key, times):\n",
    "    return [interest_stocks[key]] * times # list x n 은 n번 리스트를 반복\n",
    "\n",
    "def get_company_names_str(key, times):\n",
    "    return list(interest_stocks[key]) * times # list(string) 은 char 리스트로 변환됨\n",
    "\n",
    "print(get_company_names(11, 3))\n",
    "print(get_company_names_str(11, 3))"
   ]
  },
  {
   "cell_type": "code",
   "execution_count": 30,
   "metadata": {},
   "outputs": [
    {
     "name": "stdout",
     "output_type": "stream",
     "text": [
      "13000.0 7000.0\n"
     ]
    }
   ],
   "source": [
    "def cal_upper_lower(price):\n",
    "    offset = price * 0.3\n",
    "    upper = price + offset\n",
    "    lower = price - offset\n",
    "    return upper, lower # (upper, lower) 와 같이 tuple 형태로 인식\n",
    "\n",
    "upper, lower = cal_upper_lower(10000) # 마찬가지로 (upper, lower)와 같은 tuple형으로 간주해 할당\n",
    "print(upper, lower)"
   ]
  },
  {
   "cell_type": "markdown",
   "metadata": {},
   "source": [
    "## 모듈"
   ]
  },
  {
   "cell_type": "markdown",
   "metadata": {},
   "source": [
    "- 프로그램의 기능 단위\n",
    "- 파이썬: 파일 단위로 작성된 파이썬 코드\n",
    "- 모듈명 = `.py`를 제외한 파이썬 파일명"
   ]
  },
  {
   "cell_type": "markdown",
   "metadata": {},
   "source": [
    "### 모듈 만들기"
   ]
  },
  {
   "cell_type": "markdown",
   "metadata": {},
   "source": [
    "> Python `IDLE`을 활용해 작성하는 사례입니다. 별도 에디터를 활용할 수 있습니다.\n",
    "\n",
    "#### 파이썬 파일 작성 \n",
    "\n",
    "- 새 파일 열기\n",
    "\n",
    "![shell](https://wikidocs.net/images/page/3139/05.07.png)\n",
    "\n",
    "> 새 창에 다음과 같이 코드를 작성합니다. \n",
    "\n",
    "``` python\n",
    "def cal_upper(price):\n",
    "    increment = price * 0.3\n",
    "    upper_price = price + increment\n",
    "    return upper_price\n",
    "\n",
    "def cal_lower(price):\n",
    "    decrement = price * 0.3\n",
    "    lower_price = price - decrement\n",
    "    return lower_price\n",
    "\n",
    "author = 'pystock'\n",
    "```\n",
    "\n",
    "- 코드를 작성 후 `File` 메뉴에서 `Save` 메뉴를 클릭, 저장\n",
    "\n",
    "![save](https://wikidocs.net/images/page/3139/05.08.png)\n",
    "\n",
    "> 예제에서는 저장 파일 경로를 `C:/Anaconda3` 디렉터리로 선택, 파일명을 `stock`으로 변경하고 저장 버튼 클릭\n",
    "> - 작성 코드 저장 경로: `C:/Anaconda3/stock.py`\n",
    "\n",
    "![file path](https://wikidocs.net/images/page/3139/05.09.png)\n",
    "\n",
    "#### 모듈 사용 (import)\n",
    "\n",
    "- `import stock` 입력, 모듈 읽어들임\n",
    "\n",
    "![import in IDLE](https://wikidocs.net/images/page/3139/05.10.png)\n",
    "\n",
    "> 오류가 발생하지 않으면 stock 모듈을 잘 만들었고 해당 모듈이 정상적으로 임포트된 것\n",
    "> `stock` 모듈에는 `author`라는 변수, `cal_upper`와 `cal_lower`라는 함수 존재\n",
    "\n",
    "- 모듈 내 변수 액세스\n",
    "\n",
    "> - 모듈 내 함수 / 변수명 접근: `모듈명.함수명(변수명)` 형태\n",
    "> - 예: `author`라는 변수명만이 아닌 `stock.author`라고 적어야 함\n",
    "\n",
    "``` python\n",
    ">>> print(stock.author)\n",
    "pystock\n",
    ">>>\n",
    "```\n",
    "\n",
    "- 모듈 내 함수 사용\n",
    "\n",
    "``` python\n",
    ">>> stock.cal_upper(10000)\n",
    "13000.0\n",
    ">>> stock.cal_lower(10000)\n",
    "7000.0\n",
    ">>>\n",
    "```\n",
    "\n",
    "#### 테스트 코드 구현\n",
    "\n",
    "- `stock.py` 파일에 `cal_upper`와 `cal_lower` 함수 호출 코드 추가\n",
    "- `print(__name__)` 추가\n",
    "\n",
    "``` python\n",
    "def cal_upper(price):\n",
    "    increment = price * 0.3\n",
    "    upper_price = price + increment\n",
    "    return upper_price\n",
    "\n",
    "def cal_lower(price):\n",
    "    decrement = price * 0.3\n",
    "    lower_price = price - decrement\n",
    "    return lower_price\n",
    "\n",
    "author = 'pystock'\n",
    "\n",
    "print(cal_upper(10000))\n",
    "print(cal_lower(10000))\n",
    "print(__name__)\n",
    "```\n",
    "\n",
    "- `stock.py` 파일 실행\n",
    "\n",
    "> `Run` - `Run Module` 메뉴 차례로 선택\n",
    "\n",
    "![run module](https://wikidocs.net/images/page/3139/05.11.png)\n",
    "\n",
    "- 다음과 같은 `stock.py` 파일 실행 결과 출력\n",
    "\n",
    "``` \n",
    ">>> \n",
    "======================= RESTART: C:\\Anaconda3\\stock.py =======================\n",
    "13000.0\n",
    "7000.0\n",
    "__main__\n",
    ">>>\n",
    "```\n",
    "\n",
    "- 업데이트된 `stock` 모듈 다시 임포트\n",
    "\n",
    "``` python\n",
    ">>> import stock\n",
    "13000.0\n",
    "7000.0\n",
    "stock\n",
    ">>>\n",
    "```\n",
    "\n",
    "- `__name__` 변수\n",
    "> - 파이썬 자체 사용 변수 - 파이썬 파일의 직접 실행 / 임포트 된 것인지 확인 용도로 사용\n",
    "> - 특정 파이썬 파일이 독립적으로 실행됐다면 `\"__main__\"`이라는 문자열 바인딩, 임포트 된 경우에는 자신의 파일명을 바인딩\n",
    "\n",
    "- 위 실행 사례 확인\n",
    "> - 모듈 직접 실행: `print(__name__)`의 결과로 `__main__`이라는 문자열 출력\n",
    "> - 모듈 임포트: 모듈 이름인 `stock`이라는 문자열 출력\n",
    "\n",
    "#### 직접 실행시에만 실행될 코드 지정\n",
    "\n",
    "- `stock.py` 파일에 추가했던 테스트 코드를 다음과 같이 수정\n",
    "\n",
    "``` python\n",
    "if __name__ == \"__main__\":\n",
    "    print(cal_upper(10000))\n",
    "    print(cal_lower(10000))\n",
    "    print(__name__)\n",
    "```\n",
    "\n",
    "> 즉, 위 코드는 C의 `main()` 함수와 비슷한 파이썬 코딩 관례(convention)\n",
    "\n",
    "\n",
    "- `stock.py` 파일을 직접 실행시키면 다음과 같이 테스트 결과 출력\n",
    "\n",
    "```\n",
    ">>> \n",
    "======================= RESTART: C:\\Anaconda3\\stock.py =======================\n",
    "13000.0\n",
    "7000.0\n",
    "__main__\n",
    ">>>\n",
    "```"
   ]
  },
  {
   "cell_type": "markdown",
   "metadata": {},
   "source": [
    "### 내장 모듈 사용\n",
    "\n",
    "- 파이썬에는 미리 준비된 다양한 내장 모듈이 있습니다. "
   ]
  },
  {
   "cell_type": "markdown",
   "metadata": {},
   "source": [
    "#### `time` 모듈"
   ]
  },
  {
   "cell_type": "code",
   "execution_count": 34,
   "metadata": {},
   "outputs": [
    {
     "name": "stdout",
     "output_type": "stream",
     "text": [
      "1495180092.478175\n",
      "<class 'str'> Fri May 19 16:48:12 2017\n",
      "<class 'time.struct_time'> time.struct_time(tm_year=2017, tm_mon=5, tm_mday=19, tm_hour=7, tm_min=48, tm_sec=12, tm_wday=4, tm_yday=139, tm_isdst=0)\n"
     ]
    }
   ],
   "source": [
    "import time\n",
    "print(time.time())\n",
    "\n",
    "# 로컬 시간을 정해진 형식의 문자열로 변환\n",
    "tm1 = time.ctime()\n",
    "print(type(tm1), tm1) \n",
    "\n",
    "# 현재 GMT 시간에 대한 time 구조체\n",
    "tm2 = time.gmtime()\n",
    "print(type(tm2), tm2) "
   ]
  },
  {
   "cell_type": "markdown",
   "metadata": {},
   "source": [
    "- `dir(모듈명)` : 모듈 내 함수 / 변수 목록 리스트 제공"
   ]
  },
  {
   "cell_type": "code",
   "execution_count": 36,
   "metadata": {
    "scrolled": true
   },
   "outputs": [
    {
     "name": "stdout",
     "output_type": "stream",
     "text": [
      "['CLOCK_MONOTONIC', 'CLOCK_MONOTONIC_RAW', 'CLOCK_PROCESS_CPUTIME_ID', 'CLOCK_REALTIME', 'CLOCK_THREAD_CPUTIME_ID', '_STRUCT_TM_ITEMS', '__doc__', '__file__', '__loader__', '__name__', '__package__', '__spec__', 'altzone', 'asctime', 'clock', 'clock_getres', 'clock_gettime', 'clock_settime', 'ctime', 'daylight', 'get_clock_info', 'gmtime', 'localtime', 'mktime', 'monotonic', 'perf_counter', 'process_time', 'sleep', 'strftime', 'strptime', 'struct_time', 'time', 'timezone', 'tzname', 'tzset']\n"
     ]
    }
   ],
   "source": [
    "import time\n",
    "print(dir(time))"
   ]
  },
  {
   "cell_type": "markdown",
   "metadata": {},
   "source": [
    "#### `os` 모듈\n",
    "\n",
    "- 운영 체제의 여러 기능 제공"
   ]
  },
  {
   "cell_type": "code",
   "execution_count": 37,
   "metadata": {},
   "outputs": [
    {
     "data": {
      "text/plain": [
       "'/usr/local/share/jupyter'"
      ]
     },
     "execution_count": 37,
     "metadata": {},
     "output_type": "execute_result"
    }
   ],
   "source": [
    "import os\n",
    "os.getcwd() # 현재 파이썬 실행 디렉터리"
   ]
  },
  {
   "cell_type": "code",
   "execution_count": 39,
   "metadata": {},
   "outputs": [
    {
     "data": {
      "text/plain": [
       "['.ipynb_checkpoints',\n",
       " 'Python-Introduction-2.ipynb',\n",
       " 'Python-Introduction-1.ipynb',\n",
       " 'python-module.html',\n",
       " 'file_names.txt',\n",
       " 'file_names_duplicated.txt',\n",
       " 'python-module.md',\n",
       " 'README.md',\n",
       " '.git',\n",
       " 'python-setup.md']"
      ]
     },
     "execution_count": 39,
     "metadata": {},
     "output_type": "execute_result"
    }
   ],
   "source": [
    "os.listdir()  # 현재 파이썬 실행 디렉터리 내 파일 목록"
   ]
  },
  {
   "cell_type": "code",
   "execution_count": 40,
   "metadata": {},
   "outputs": [
    {
     "data": {
      "text/plain": [
       "['.bash_logout',\n",
       " '.bashrc',\n",
       " '.cache',\n",
       " '.config',\n",
       " '.bash_history',\n",
       " 'jupyter-config',\n",
       " '.bash_profile',\n",
       " '.python_history',\n",
       " '.local',\n",
       " '.ipython',\n",
       " 'jupyter.sh',\n",
       " 'nohup.out',\n",
       " '.pki',\n",
       " '.gitconfig',\n",
       " '.viminfo']"
      ]
     },
     "execution_count": 40,
     "metadata": {},
     "output_type": "execute_result"
    }
   ],
   "source": [
    "os.listdir('/home/jupyter') # 인수로 넘긴 디렉터리 내 파일 목록"
   ]
  },
  {
   "cell_type": "code",
   "execution_count": 41,
   "metadata": {},
   "outputs": [
    {
     "name": "stdout",
     "output_type": "stream",
     "text": [
      "jupyter.sh\n"
     ]
    }
   ],
   "source": [
    "for x in os.listdir('/home/jupyter'):\n",
    "    if x.endswith('.sh') : print(x)"
   ]
  },
  {
   "cell_type": "markdown",
   "metadata": {},
   "source": [
    "### import 유형"
   ]
  },
  {
   "cell_type": "markdown",
   "metadata": {},
   "source": [
    "#### `import ` [모듈명]\n",
    "\n",
    "- 가장 일반적"
   ]
  },
  {
   "cell_type": "code",
   "execution_count": 42,
   "metadata": {},
   "outputs": [
    {
     "data": {
      "text/plain": [
       "'Fri May 19 16:51:38 2017'"
      ]
     },
     "execution_count": 42,
     "metadata": {},
     "output_type": "execute_result"
    }
   ],
   "source": [
    "import time\n",
    "time.ctime()"
   ]
  },
  {
   "cell_type": "markdown",
   "metadata": {},
   "source": [
    "#### `from [모듈명] import [함수/속성]`\n",
    "\n",
    "- `[모듈명].[함수명]` 형태가 아닌 함수명 직접 사용 가능"
   ]
  },
  {
   "cell_type": "code",
   "execution_count": 43,
   "metadata": {},
   "outputs": [
    {
     "data": {
      "text/plain": [
       "'Fri May 19 16:51:42 2017'"
      ]
     },
     "execution_count": 43,
     "metadata": {},
     "output_type": "execute_result"
    }
   ],
   "source": [
    "from time import ctime\n",
    "ctime()"
   ]
  },
  {
   "cell_type": "markdown",
   "metadata": {},
   "source": [
    "- 모두 import: `from [모듈명] import  *` "
   ]
  },
  {
   "cell_type": "markdown",
   "metadata": {},
   "source": [
    "#### `import [모듈명] as [별명]`"
   ]
  },
  {
   "cell_type": "code",
   "execution_count": 44,
   "metadata": {},
   "outputs": [
    {
     "data": {
      "text/plain": [
       "'/usr/local/share/jupyter'"
      ]
     },
     "execution_count": 44,
     "metadata": {},
     "output_type": "execute_result"
    }
   ],
   "source": [
    "import os as linux_os\n",
    "\n",
    "linux_os.getcwd()"
   ]
  },
  {
   "cell_type": "markdown",
   "metadata": {},
   "source": [
    "## 내장 함수\n",
    "\n",
    "- 주요 내장함수 및 예제는 `Jump to Python`의 다음 페이지 참조: https://wikidocs.net/32"
   ]
  },
  {
   "cell_type": "markdown",
   "metadata": {},
   "source": [
    "# 6. 클래스"
   ]
  },
  {
   "cell_type": "markdown",
   "metadata": {
    "collapsed": true
   },
   "source": [
    "데이터(property) + 함수(method)\n",
    "\n",
    "## 예: 명함 객체\n",
    "\n",
    "![data](https://wikidocs.net/images/page/3454/6.01.png)\n",
    "\n",
    "![name card object](https://wikidocs.net/images/page/3454/6.02.png)"
   ]
  },
  {
   "cell_type": "code",
   "execution_count": 45,
   "metadata": {},
   "outputs": [
    {
     "name": "stdout",
     "output_type": "stream",
     "text": [
      "<__main__.BusinessCard object at 0x7f49901a19b0> <class '__main__.BusinessCard'>\n"
     ]
    }
   ],
   "source": [
    "class BusinessCard:\n",
    "    pass\n",
    "\n",
    "card1 = BusinessCard()\n",
    "print(card1, type(card1))"
   ]
  },
  {
   "cell_type": "code",
   "execution_count": 46,
   "metadata": {},
   "outputs": [
    {
     "name": "stdout",
     "output_type": "stream",
     "text": [
      "Yuna Kim yunakim@naver.com Seoul\n",
      "--------------------\n",
      "Name:  Sarang Lee\n",
      "E-mail:  sarang.lee@naver.com\n",
      "Address:  Kyunggi\n",
      "--------------------\n"
     ]
    }
   ],
   "source": [
    "class BusinessCard:\n",
    "    \n",
    "    def set_info(self, name, email, addr):\n",
    "        self.name = name\n",
    "        self.email = email\n",
    "        self.addr = addr\n",
    "        \n",
    "    def print_info(self):\n",
    "                print(\"--------------------\")\n",
    "                print(\"Name: \", self.name)\n",
    "                print(\"E-mail: \", self.email)\n",
    "                print(\"Address: \", self.addr)\n",
    "                print(\"--------------------\")\n",
    "                \n",
    "member1 = BusinessCard()\n",
    "member1.set_info(\"Yuna Kim\", \"yunakim@naver.com\", \"Seoul\")\n",
    "\n",
    "member2 = BusinessCard()\n",
    "member2.set_info(\"Sarang Lee\", \"sarang.lee@naver.com\", \"Kyunggi\")\n",
    "\n",
    "print(member1.name, member1.email, member1.addr)\n",
    "member2.print_info()"
   ]
  },
  {
   "cell_type": "markdown",
   "metadata": {},
   "source": [
    "## 생성자 : `__init__()`"
   ]
  },
  {
   "cell_type": "code",
   "execution_count": 47,
   "metadata": {},
   "outputs": [
    {
     "name": "stdout",
     "output_type": "stream",
     "text": [
      "--------------------\n",
      "Name:  Yuna Kim\n",
      "E-mail:  yunakim@naver.com\n",
      "Address:  Seoul\n",
      "--------------------\n"
     ]
    }
   ],
   "source": [
    "class BusinessCard:\n",
    "    \n",
    "    def __init__(self, name, email, addr):\n",
    "        self.name = name\n",
    "        self.email = email\n",
    "        self.addr = addr\n",
    "        \n",
    "    def print_info(self):\n",
    "                print(\"--------------------\")\n",
    "                print(\"Name: \", self.name)\n",
    "                print(\"E-mail: \", self.email)\n",
    "                print(\"Address: \", self.addr)\n",
    "                print(\"--------------------\")\n",
    "\n",
    "member1 = BusinessCard(\"Yuna Kim\", \"yunakim@naver.com\", \"Seoul\")\n",
    "member2 = BusinessCard(\"Sarang Lee\", \"sarang.lee@naver.com\", \"Kyunggi\")\n",
    "\n",
    "member1.print_info()"
   ]
  },
  {
   "cell_type": "markdown",
   "metadata": {},
   "source": [
    "## `self`\n",
    "\n",
    "- 왜 method의 첫번째 인자는 항상 `self`일까? \n",
    "- 아닐 수도 있음! 그러나, 그 차이는?"
   ]
  },
  {
   "cell_type": "code",
   "execution_count": 48,
   "metadata": {},
   "outputs": [
    {
     "name": "stdout",
     "output_type": "stream",
     "text": [
      "function 2 139953926902728\n"
     ]
    }
   ],
   "source": [
    "class Foo:\n",
    "    def func1():\n",
    "        print(\"function 1\")\n",
    "    def func2(self):\n",
    "        print(\"function 2\", id(self))\n",
    "        \n",
    "foo = Foo()\n",
    "\n",
    "foo.func2()"
   ]
  },
  {
   "cell_type": "markdown",
   "metadata": {},
   "source": [
    "`self`는 생성된 인스턴스를 가리킴\n",
    "- 즉, `id(obj)` 는 인스턴스 안에서 `id(self)` 와 같은 값\n",
    "- self가 첫 인자가 아닌 메소드는, 인스턴스가 아닌 클래스 메소드임"
   ]
  },
  {
   "cell_type": "code",
   "execution_count": 49,
   "metadata": {},
   "outputs": [
    {
     "data": {
      "text/plain": [
       "139953926902728"
      ]
     },
     "execution_count": 49,
     "metadata": {},
     "output_type": "execute_result"
    }
   ],
   "source": [
    "id(foo) # 위에서 출력한 id(self) 값과 동일"
   ]
  },
  {
   "cell_type": "code",
   "execution_count": 50,
   "metadata": {},
   "outputs": [
    {
     "ename": "TypeError",
     "evalue": "func1() takes 0 positional arguments but 1 was given",
     "output_type": "error",
     "traceback": [
      "\u001b[0;31m---------------------------------------------------------------------------\u001b[0m",
      "\u001b[0;31mTypeError\u001b[0m                                 Traceback (most recent call last)",
      "\u001b[0;32m<ipython-input-50-4529dedbff87>\u001b[0m in \u001b[0;36m<module>\u001b[0;34m()\u001b[0m\n\u001b[0;32m----> 1\u001b[0;31m \u001b[0mfoo\u001b[0m\u001b[0;34m.\u001b[0m\u001b[0mfunc1\u001b[0m\u001b[0;34m(\u001b[0m\u001b[0;34m)\u001b[0m\u001b[0;34m\u001b[0m\u001b[0m\n\u001b[0m",
      "\u001b[0;31mTypeError\u001b[0m: func1() takes 0 positional arguments but 1 was given"
     ]
    }
   ],
   "source": [
    "foo.func1() # 클래스 메소드는 인스턴스에서 호출할 수 없음!"
   ]
  },
  {
   "cell_type": "code",
   "execution_count": 51,
   "metadata": {},
   "outputs": [
    {
     "name": "stdout",
     "output_type": "stream",
     "text": [
      "function 1\n"
     ]
    }
   ],
   "source": [
    "Foo.func1() # 다음과 같이 클래스명으로 호출해야 함"
   ]
  },
  {
   "cell_type": "code",
   "execution_count": 52,
   "metadata": {},
   "outputs": [
    {
     "name": "stdout",
     "output_type": "stream",
     "text": [
      "function 2 139953926902728\n"
     ]
    }
   ],
   "source": [
    "Foo.func2(foo) # 인스턴스 함수는 형식적으로 다음과 같은 호출 형태와 동일"
   ]
  },
  {
   "cell_type": "markdown",
   "metadata": {},
   "source": [
    "## 클래스 Namespace\n",
    "\n",
    "- Namespace : 변수가 객체를 바인딩할 때 그 둘 사이의 관계를 저장하는 공간\n",
    "- 클래스가 정의될 때, 독립적  네임스페이스 생성\n",
    "- 네임스페이스 확인 내장 속성: `__dict__`\n",
    "- 인스턴스별 별도 네임스페이스 유지\n",
    "- 각 인스턴스에 속성 추가 -> 네임스페이스 추가"
   ]
  },
  {
   "cell_type": "code",
   "execution_count": 56,
   "metadata": {},
   "outputs": [
    {
     "name": "stdout",
     "output_type": "stream",
     "text": [
      "<class 'mappingproxy'> {'__dict__': <attribute '__dict__' of 'Stock' objects>, '__doc__': None, '__module__': '__main__', '__weakref__': <attribute '__weakref__' of 'Stock' objects>, 'market': 'kospi'}\n",
      "<class 'dict'> {}\n"
     ]
    }
   ],
   "source": [
    "class Stock:\n",
    "    market = 'kospi'\n",
    "\n",
    "s1 = Stock()\n",
    "print(type(Stock.__dict__), Stock.__dict__) # 클래스 네임스페이스는 dict 형이 아닌 iterable한 별도 객체\n",
    "print(type(s1.__dict__), s1.__dict__) # 인스턴스 네임스페이스는 dict 형"
   ]
  },
  {
   "cell_type": "code",
   "execution_count": 58,
   "metadata": {},
   "outputs": [
    {
     "name": "stdout",
     "output_type": "stream",
     "text": [
      "{'__dict__': <attribute '__dict__' of 'Stock' objects>, '__doc__': None, '__module__': '__main__', '__weakref__': <attribute '__weakref__' of 'Stock' objects>, 'market': 'kospi'}\n",
      "{'market': 'kosdaq'}\n",
      "{}\n"
     ]
    }
   ],
   "source": [
    "s1.market = 'kosdaq'\n",
    "s2 = Stock()\n",
    "\n",
    "print(Stock.__dict__)\n",
    "print(s1.__dict__) # market 변수 값이 달라졌음\n",
    "print(s2.__dict__)"
   ]
  },
  {
   "cell_type": "markdown",
   "metadata": {},
   "source": [
    "- 인스턴스 네임스페이스에 속성이 없다면, 클래스 네임스페이스에서 찾음\n",
    "\n",
    "![namespace 관계](https://wikidocs.net/images/page/1743/s6.14.png)"
   ]
  },
  {
   "cell_type": "code",
   "execution_count": 59,
   "metadata": {},
   "outputs": [
    {
     "data": {
      "text/plain": [
       "'kospi'"
      ]
     },
     "execution_count": 59,
     "metadata": {},
     "output_type": "execute_result"
    }
   ],
   "source": [
    "s2.market # 위 그림과 같이 클래스 네임스페이스에 있는 market 값 표시"
   ]
  },
  {
   "cell_type": "code",
   "execution_count": 60,
   "metadata": {},
   "outputs": [
    {
     "ename": "AttributeError",
     "evalue": "'Stock' object has no attribute 'volume'",
     "output_type": "error",
     "traceback": [
      "\u001b[0;31m---------------------------------------------------------------------------\u001b[0m",
      "\u001b[0;31mAttributeError\u001b[0m                            Traceback (most recent call last)",
      "\u001b[0;32m<ipython-input-60-10c8e10e64e5>\u001b[0m in \u001b[0;36m<module>\u001b[0;34m()\u001b[0m\n\u001b[0;32m----> 1\u001b[0;31m \u001b[0ms2\u001b[0m\u001b[0;34m.\u001b[0m\u001b[0mvolume\u001b[0m \u001b[0;31m# 네임스페이스에 없다면, 오류 표시\u001b[0m\u001b[0;34m\u001b[0m\u001b[0m\n\u001b[0m",
      "\u001b[0;31mAttributeError\u001b[0m: 'Stock' object has no attribute 'volume'"
     ]
    }
   ],
   "source": [
    "s2.volume # 네임스페이스에 없다면, 오류 표시"
   ]
  },
  {
   "cell_type": "markdown",
   "metadata": {},
   "source": [
    "## 클래스 변수 / 인스턴스 변수\n",
    "\n",
    "- 클래스 변수: 클래스 내부 선언 변수\n",
    "- 인스턴수 변수: self를 붙여 선언함\n",
    "\n",
    "![class, instance variables](https://wikidocs.net/images/page/1744/6.15.png)"
   ]
  },
  {
   "cell_type": "code",
   "execution_count": 62,
   "metadata": {},
   "outputs": [
    {
     "name": "stdout",
     "output_type": "stream",
     "text": [
      "kim\n",
      "1\n",
      "1\n",
      "0\n"
     ]
    }
   ],
   "source": [
    "class Account:\n",
    "    num_accounts = 0\n",
    "    def __init__(self, name):\n",
    "        self.name = name\n",
    "        Account.num_accounts += 1\n",
    "    def __del__(self):\n",
    "        Account.num_accounts -= 1\n",
    "\n",
    "kim = Account('kim')\n",
    "lee = Account('lee')\n",
    "\n",
    "print(kim.name)\n",
    "print(kim.num_accounts)\n",
    "print(lee.num_accounts) # 클래스 변수 값은 동일\n",
    "del lee # 인스턴스 제거\n",
    "print(Account.num_accounts) # 클래스 변수 값 변경됨. 이와 같이 [Class].[property] 형태로 호출할 수 있음"
   ]
  },
  {
   "cell_type": "markdown",
   "metadata": {},
   "source": [
    "## 클래스 상속"
   ]
  },
  {
   "cell_type": "code",
   "execution_count": 63,
   "metadata": {},
   "outputs": [
    {
     "name": "stdout",
     "output_type": "stream",
     "text": [
      "Sing a song\n"
     ]
    }
   ],
   "source": [
    "class Parent:\n",
    "    def can_sing(self):\n",
    "        print(\"Sing a song\")\n",
    "\n",
    "father = Parent()\n",
    "father.can_sing()"
   ]
  },
  {
   "cell_type": "code",
   "execution_count": 64,
   "metadata": {},
   "outputs": [
    {
     "name": "stdout",
     "output_type": "stream",
     "text": [
      "Sing a song\n"
     ]
    }
   ],
   "source": [
    "class Child(Parent):\n",
    "    pass\n",
    "\n",
    "child = Child()\n",
    "\n",
    "child.can_sing()"
   ]
  },
  {
   "cell_type": "markdown",
   "metadata": {},
   "source": [
    "# 7. I/O"
   ]
  },
  {
   "cell_type": "markdown",
   "metadata": {},
   "source": [
    "## File 쓰기"
   ]
  },
  {
   "cell_type": "code",
   "execution_count": 65,
   "metadata": {
    "collapsed": true
   },
   "outputs": [],
   "source": [
    "import os\n",
    "file_names = os.listdir()\n",
    "\n",
    "f = open('file_names.txt', 'wt')\n",
    "for name in file_names : \n",
    "    f.write('%s\\n' % name)\n",
    "f.close() # 반드시 사용해야 함!"
   ]
  },
  {
   "cell_type": "markdown",
   "metadata": {},
   "source": [
    "## File 읽기"
   ]
  },
  {
   "cell_type": "code",
   "execution_count": 66,
   "metadata": {},
   "outputs": [
    {
     "name": "stdout",
     "output_type": "stream",
     "text": [
      ".ipynb_checkpoints\n",
      "\n",
      "Python-Introduction-2.ipynb\n",
      "\n",
      "Python-Introduction-1.ipynb\n",
      "\n",
      "python-module.html\n",
      "\n",
      "file_names.txt\n",
      "\n",
      "file_names_duplicated.txt\n",
      "\n",
      "python-module.md\n",
      "\n",
      "README.md\n",
      "\n",
      ".git\n",
      "\n",
      "python-setup.md\n",
      "\n"
     ]
    }
   ],
   "source": [
    "f = open('file_names.txt', 'r')\n",
    "\n",
    "line = f.readline() # 더 읽을 줄이 없다면, None 반환\n",
    "\n",
    "while line:\n",
    "    print(line)\n",
    "    line = f.readline()\n",
    "f.close()"
   ]
  },
  {
   "cell_type": "markdown",
   "metadata": {},
   "source": [
    "## 파일 읽기/쓰기\n",
    "\n",
    "> - `with` 구문을 다음과 같이 사용하면, 파일 객체의 `close()`를 사용하지 않아도 되어 편리\n",
    "> - 아래와 같은 스타일이 일반적인 파이썬 파일 읽기/쓰기 스타일"
   ]
  },
  {
   "cell_type": "code",
   "execution_count": 67,
   "metadata": {
    "collapsed": true
   },
   "outputs": [],
   "source": [
    "with open('file_names_duplicated.txt', 'wt') as writer:\n",
    "    with open('file_names.txt', 'r') as reader:\n",
    "        for line in reader:\n",
    "            writer.write(line)"
   ]
  },
  {
   "cell_type": "markdown",
   "metadata": {
    "collapsed": true
   },
   "source": [
    "- 더 자세한 File I/O 설명은 `Jump to Python`의 다음 페이지 참조: https://wikidocs.net/26"
   ]
  }
 ],
 "metadata": {
  "kernelspec": {
   "display_name": "Python 3",
   "language": "python",
   "name": "python3"
  },
  "language_info": {
   "codemirror_mode": {
    "name": "ipython",
    "version": 3
   },
   "file_extension": ".py",
   "mimetype": "text/x-python",
   "name": "python",
   "nbconvert_exporter": "python",
   "pygments_lexer": "ipython3",
   "version": "3.4.5"
  }
 },
 "nbformat": 4,
 "nbformat_minor": 2
}
