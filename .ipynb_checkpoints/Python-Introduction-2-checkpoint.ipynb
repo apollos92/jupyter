{
 "cells": [
  {
   "cell_type": "markdown",
   "metadata": {},
   "source": [
    "# 4. 제어문"
   ]
  },
  {
   "cell_type": "markdown",
   "metadata": {},
   "source": [
    "## Boolean 형 / 논리 연산자"
   ]
  },
  {
   "cell_type": "code",
   "execution_count": null,
   "metadata": {},
   "outputs": [],
   "source": [
    "true = True\n",
    "print(type(true))"
   ]
  },
  {
   "cell_type": "markdown",
   "metadata": {},
   "source": [
    "### 비교 연산자"
   ]
  },
  {
   "cell_type": "code",
   "execution_count": null,
   "metadata": {},
   "outputs": [],
   "source": [
    "10000 * 1.3 > 12500"
   ]
  },
  {
   "cell_type": "markdown",
   "metadata": {},
   "source": [
    "### `and` / `or` / `not`"
   ]
  },
  {
   "cell_type": "code",
   "execution_count": null,
   "metadata": {},
   "outputs": [],
   "source": [
    "cur_price = 9980\n",
    "cur_price >= 5000 and cur_price < 10000"
   ]
  },
  {
   "cell_type": "markdown",
   "metadata": {},
   "source": [
    "## `if` "
   ]
  },
  {
   "cell_type": "markdown",
   "metadata": {},
   "source": [
    "### `if` ~ `else`"
   ]
  },
  {
   "cell_type": "code",
   "execution_count": null,
   "metadata": {},
   "outputs": [],
   "source": [
    "wikibooks_cur_price = 11000\n",
    "if wikibooks_cur_price >= 10000:\n",
    "    print(\"Buy 10\")\n",
    "else:\n",
    "    print(\"Holding\")"
   ]
  },
  {
   "cell_type": "markdown",
   "metadata": {},
   "source": [
    "#### 유의사항\n",
    "- `if`, `else` 각각 띄어쓰기 (identation) 수준이 같아야 함"
   ]
  },
  {
   "cell_type": "code",
   "execution_count": null,
   "metadata": {},
   "outputs": [],
   "source": [
    "wikibooks_cur_price = 11000\n",
    "if wikibooks_cur_price >= 10000:\n",
    "    print(\"Buy 10\")\n",
    "else:\n",
    "    print(\"Holding\")"
   ]
  },
  {
   "cell_type": "markdown",
   "metadata": {},
   "source": [
    "### `if` ~ `elif` ~ `else`"
   ]
  },
  {
   "cell_type": "code",
   "execution_count": null,
   "metadata": {},
   "outputs": [],
   "source": [
    "price =  7000\n",
    "if price < 1000:\n",
    "    bid = 1\n",
    "elif price >= 1000 and price < 5000:\n",
    "    bid = 5\n",
    "elif price >= 5000 and price < 10000:\n",
    "    bid = 10\n",
    "elif price >= 10000 and price < 50000:\n",
    "    bid = 50\n",
    "elif price >= 50000 and price < 100000:\n",
    "    bid = 100\n",
    "elif price >= 100000 and price < 500000:\n",
    "    bid = 500\n",
    "elif price >= 500000:\n",
    "    bid = 1000\n",
    "\n",
    "print(bid)"
   ]
  },
  {
   "cell_type": "code",
   "execution_count": null,
   "metadata": {},
   "outputs": [],
   "source": [
    "price = 700000\n",
    "\n",
    "if price < 1000:\n",
    "    bid = 1\n",
    "elif price >= 1000 and price < 5000:\n",
    "    bid = 5\n",
    "elif price >= 5000 and price < 10000:\n",
    "    bid = 10\n",
    "elif price >= 10000 and price < 50000:\n",
    "    bid = 50\n",
    "elif price >= 50000 and price < 100000:\n",
    "    bid = 100\n",
    "elif price >= 100000 and price < 500000:\n",
    "    bid = 500\n",
    "else:\n",
    "    bid = 1000\n",
    "\n",
    "print(bid)"
   ]
  },
  {
   "cell_type": "markdown",
   "metadata": {
    "collapsed": true
   },
   "source": [
    "## `for` "
   ]
  },
  {
   "cell_type": "code",
   "execution_count": null,
   "metadata": {},
   "outputs": [],
   "source": [
    "for i in [0, 1, 2, 3, 4, 5, 6, 7, 8, 9, 10]:\n",
    "    print(i)"
   ]
  },
  {
   "cell_type": "markdown",
   "metadata": {},
   "source": [
    "### `range()`"
   ]
  },
  {
   "cell_type": "code",
   "execution_count": null,
   "metadata": {},
   "outputs": [],
   "source": [
    "range(1,3)"
   ]
  },
  {
   "cell_type": "code",
   "execution_count": null,
   "metadata": {},
   "outputs": [],
   "source": [
    "for i in range(0,11, 2): print(i)"
   ]
  },
  {
   "cell_type": "markdown",
   "metadata": {},
   "source": [
    "### `for` + `list` / `tuple`"
   ]
  },
  {
   "cell_type": "code",
   "execution_count": null,
   "metadata": {},
   "outputs": [],
   "source": [
    "interest_stocks = [\"Naver\", \"Samsung\", \"SK Hynix\"]\n",
    "\n",
    "for company in interest_stocks:\n",
    "    print(\"%s: Buy 10\" % company)"
   ]
  },
  {
   "cell_type": "code",
   "execution_count": null,
   "metadata": {},
   "outputs": [],
   "source": [
    "interest_stocks = (\"Naver\", \"Samsung\", \"SK Hynix\")\n",
    "\n",
    "for company in interest_stocks:\n",
    "    print(\"%s: Buy 10\" % company)"
   ]
  },
  {
   "cell_type": "markdown",
   "metadata": {},
   "source": [
    "### `for` + `dict`"
   ]
  },
  {
   "cell_type": "code",
   "execution_count": null,
   "metadata": {},
   "outputs": [],
   "source": [
    "interest_stocks = {\"Naver\":10, \"Samsung\":5, \"SK Hynix\":30}\n",
    "\n",
    "for (company, stock_num) in interest_stocks.items():\n",
    "    print(\"%s: Buy %s\" % (company, stock_num))"
   ]
  },
  {
   "cell_type": "code",
   "execution_count": null,
   "metadata": {},
   "outputs": [],
   "source": [
    "for company in interest_stocks.keys():\n",
    "        print(\"%s: Buy %s\" % (company, interest_stocks[company]))"
   ]
  },
  {
   "cell_type": "markdown",
   "metadata": {
    "collapsed": true
   },
   "source": [
    "## `while` "
   ]
  },
  {
   "cell_type": "code",
   "execution_count": null,
   "metadata": {},
   "outputs": [],
   "source": [
    "i = 0\n",
    "while i <= 10:\n",
    "    print(i)\n",
    "    i += 1"
   ]
  },
  {
   "cell_type": "code",
   "execution_count": null,
   "metadata": {},
   "outputs": [],
   "source": [
    "num = 0\n",
    "while 1:\n",
    "    if num % 2 :\n",
    "        num += 1\n",
    "        continue\n",
    "        \n",
    "    print(num)\n",
    "    if num == 10:\n",
    "        break\n",
    "    num += 1"
   ]
  },
  {
   "cell_type": "markdown",
   "metadata": {},
   "source": [
    "# 5. 함수 / 모듈"
   ]
  },
  {
   "cell_type": "markdown",
   "metadata": {},
   "source": [
    "## 함수\n",
    "\n",
    "> $ y = f(x) $ 라는 black box\n",
    "\n",
    "![function as a Black Box](https://wikidocs.net/images/page/1045/5.01.png)"
   ]
  },
  {
   "cell_type": "code",
   "execution_count": null,
   "metadata": {},
   "outputs": [],
   "source": [
    "interest_stocks = {10:\"Naver\", 11:\"Samsung\", 15:\"SK Hynix\"}\n",
    "\n",
    "def get_company_names(key, times):\n",
    "    return list(interest_stocks[key]) * times\n",
    "\n",
    "get_company_names(11, 3)\n",
    "    "
   ]
  },
  {
   "cell_type": "code",
   "execution_count": null,
   "metadata": {},
   "outputs": [],
   "source": [
    "def cal_upper_lower(price):\n",
    "    offset = price * 0.3\n",
    "    upper = price + offset\n",
    "    lower = price - offset\n",
    "    return upper, lower\n",
    "\n",
    "upper, lower = cal_upper_lower(10000)\n",
    "print(upper, lower)"
   ]
  },
  {
   "cell_type": "markdown",
   "metadata": {},
   "source": [
    "## 모듈"
   ]
  },
  {
   "cell_type": "markdown",
   "metadata": {},
   "source": [
    "- '프로그램의 기능 단위'\n",
    "- 파이썬은 파일 단위로 작성된 파이썬 코드 의미"
   ]
  },
  {
   "cell_type": "markdown",
   "metadata": {},
   "source": [
    "### 모듈 만들기"
   ]
  },
  {
   "cell_type": "markdown",
   "metadata": {},
   "source": [
    "\n",
    "![shell](https://wikidocs.net/images/page/3139/05.07.png)\n",
    "\n",
    "- 그림 5.7 파이썬 IDLE에서 새 파일 열기\n",
    "\n",
    "새 창에 다음과 같이 코드를 작성합니다. \n",
    "앞에서 구현한 상한가와 하한가를 구하는 함수를 그대로 구현하고 추가로 author라는 변수가 pystock이라는 문자열을 바인딩하게 했습니다. \n",
    "\n",
    "``` python\n",
    "def cal_upper(price):\n",
    "    increment = price * 0.3\n",
    "    upper_price = price + increment\n",
    "    return upper_price\n",
    "\n",
    "def cal_lower(price):\n",
    "    decrement = price * 0.3\n",
    "    lower_price = price - decrement\n",
    "    return lower_price\n",
    "\n",
    "author = 'pystock'\n",
    "```\n",
    "\n",
    "코드를 작성하고 나면 File 메뉴에서 Save 메뉴를 클릭해 파일로 저장합니다\n",
    "\n",
    "![save](https://wikidocs.net/images/page/3139/05.08.png)\n",
    "\n",
    "파이썬 코드를 파일로 저장할 때 저장될 파일의 경로를 `C:/Anaconda3` 디렉터리로 선택한 후 파일명을 stock으로 변경하고 저장 버튼을 클릭합니다. \n",
    "따라서 방금 작성한 코드의 저장 경로는 `C:/Anaconda3/stock.py`가 됩니다.\n",
    "\n",
    "![](https://wikidocs.net/images/page/3139/05.09.png)\n",
    "\n",
    "\n",
    "지금까지 작업한 내용을 요약해보면 함수를 구현하고 이를 `stock.py`라는 이름으로 하드디스크에 저장했습니다. \n",
    "\n",
    "이제 앞에서 작성한 stock이라는 모듈을 사용해 보겠습니다. \n",
    "\n",
    "파이썬 IDLE에서 stock 모듈을 임포트해 봅시다. \n",
    "여기서 오류가 발생하지 않으면 stock 모듈을 잘 만들었고 해당 모듈이 정상적으로 임포트된 것입니다.\n",
    "\n",
    "![](https://wikidocs.net/images/page/3139/05.10.png)\n",
    "\n",
    "앞에서 구현한 `stock` 모듈에는 `author`라는 변수와 `cal_upper`와 `cal_lower`라는 함수가 있었습니다. \n",
    "\n",
    "파이썬에서는 모듈을 임포트하면 모듈 내에 구현된 함수나 변수를 사용할 수 있습니다. \n",
    "- 모듈 내의 함수나 변수명에 접근할 때는 항상 `모듈명.함수명(변수명)`과 같은 형태로 적어야 합니다. \n",
    "- author라는 변수명을 바로 적으면 안 되고 stock.author라고 적어야 합니다. </p>\n",
    "\n",
    "``` python\n",
    ">>> print(stock.author)\n",
    "pystock\n",
    ">>>\n",
    "```\n",
    "\n",
    "\n",
    "stock 모듈 내에 구현된 함수를 호출해 보겠습니다. \n",
    "함수 역시 먼저 모듈명을 적은 후 '.'를 붙이고 함수명을 적어야 합니다. \n",
    "\n",
    "``` python\n",
    ">>> stock.cal_upper(10000)\n",
    "13000.0\n",
    ">>> stock.cal_lower(10000)\n",
    "7000.0\n",
    ">>>\n",
    "```\n",
    "모듈 파일 내에서 함수를 직접 호출하는 테스트 코드를 구현하는 것이 좋습니다.\n",
    "- `stock.py` 파일에 `cal_upper`와 `cal_lower` 함수를 호출하는 코드를 추가해 줍니다. \n",
    "- 그리고 `print(__name__)`도 추가해줍니다.\n",
    "\n",
    "``` python\n",
    "def cal_upper(price):\n",
    "    increment = price * 0.3\n",
    "    upper_price = price + increment\n",
    "    return upper_price\n",
    "\n",
    "def cal_lower(price):\n",
    "    decrement = price * 0.3\n",
    "    lower_price = price - decrement\n",
    "    return lower_price\n",
    "\n",
    "author = 'pystock'\n",
    "\n",
    "print(cal_upper(10000))\n",
    "print(cal_lower(10000))\n",
    "print(__name__)\n",
    "```\n",
    "\n",
    "수정된 `stock.py` 파일을 실행하려면 `Run` - `Run Module` 메뉴를 차례로 선택합니다. \n",
    "![](https://wikidocs.net/images/page/3139/05.11.png)\n",
    "\n",
    "파이썬 IDLE에 다음과 같이 stock.py 파일의 실행 결과가 출력됩니다. \n",
    "\n",
    "``` python\n",
    ">>> \n",
    "======================= RESTART: C:\\Anaconda3\\stock.py =======================\n",
    "13000.0\n",
    "7000.0\n",
    "__main__\n",
    ">>>\n",
    "```\n",
    "\n",
    "\n",
    "업데이트된 stock 모듈을 다시 임포트 해보겠습니다. \n",
    "\n",
    "``` python\n",
    ">>> import stock\n",
    "13000.0\n",
    "7000.0\n",
    "stock\n",
    ">>>\n",
    "```\n",
    "\n",
    "모듈을 직접 실행했을 때는 `print(__name__)`의 결과로 `__main__`이라는 문자열이 출력되지만, 해당 모듈을 임포트했을 때는 모듈의 이름인 `stock`이라는 문자열이 출력된다는 점입니다. \n",
    "\n",
    "파이썬에서 `__name__`이라는 변수는 파이썬 자체에서 사용하는 변수로, 특정 파이썬 파일이 직접 실행된 것인지 또는 다른 파이썬 파일에서 임포트 된 것인지를 확인하는 용도로 사용됩니다. \n",
    "- 특정 파이썬 파일이 독립적으로 실행됐다면 `__name__`이라는 변수는 `\"__main__\"`이라는 문자열을 바인딩하며 다른 파일에 임포트 된 경우에는 자신의 파일명을 바인딩합니다.\n",
    "\n",
    "파이썬의 `__name__`이라는 변수를 사용하면 앞서 모듈의 테스트 코드가 모듈을 임포트했을 때 자동으로 호출되는 문제를 해결할 수 있습니다. \n",
    "stock.py 파일에 추가했던 테스트 코드를 다음과 같이 수정합니다.\n",
    "\n",
    "``` python\n",
    "if __name__ == \"__main__\":\n",
    "    print(cal_upper(10000))\n",
    "    print(cal_lower(10000))\n",
    "    print(__name__)\n",
    "```\n",
    "\n",
    "- `__name__`이라는 파이썬 변수가 바인딩하고 있는 값이 `\"__main__\"`이라는 문자열이라면 들여쓰기 된 세 개의 `print`문을 실행합니다. 즉, `stock.py` 파일이 직접 실행이 된 경우라면 세 개의 `print`문이 실행됩니다. \n",
    "- 다른 파일에 `stock.py` 파일(모듈)이 임포트 된다면 `__name__`은 모듈의 이름인 `\"stock\"`을 바인딩하므로 if 문의 조건식을 만족하지 않고 따라서 세 개의 print문도 실행되지 않습니다.\n",
    "\n",
    "\n",
    "`stock.py` 파일을 직접 실행시키면 다음과 같이 여전히 테스트가 코드가 출력됨을 확인할 수 있습니다.\n",
    "\n",
    "``` python\n",
    ">>> \n",
    "======================= RESTART: C:\\Anaconda3\\stock.py =======================\n",
    "13000.0\n",
    "7000.0\n",
    "__main__\n",
    ">>>\n",
    "```"
   ]
  },
  {
   "cell_type": "markdown",
   "metadata": {},
   "source": [
    "### 내장 모듈 사용"
   ]
  },
  {
   "cell_type": "markdown",
   "metadata": {},
   "source": [
    "#### `time` 모듈"
   ]
  },
  {
   "cell_type": "code",
   "execution_count": null,
   "metadata": {},
   "outputs": [],
   "source": [
    "import time\n",
    "print(time.time(), time.gmtime())"
   ]
  },
  {
   "cell_type": "code",
   "execution_count": null,
   "metadata": {
    "scrolled": true
   },
   "outputs": [],
   "source": [
    "import time\n",
    "dir(time)"
   ]
  },
  {
   "cell_type": "markdown",
   "metadata": {},
   "source": [
    "#### `os` 모듈\n",
    "\n",
    "- 운영 체제의 여러 기능 제공"
   ]
  },
  {
   "cell_type": "code",
   "execution_count": null,
   "metadata": {},
   "outputs": [],
   "source": [
    "import os\n",
    "os.getcwd()"
   ]
  },
  {
   "cell_type": "code",
   "execution_count": null,
   "metadata": {},
   "outputs": [],
   "source": [
    "os.listdir()"
   ]
  },
  {
   "cell_type": "code",
   "execution_count": null,
   "metadata": {},
   "outputs": [],
   "source": [
    "os.listdir('/home/jupyter')"
   ]
  },
  {
   "cell_type": "code",
   "execution_count": null,
   "metadata": {},
   "outputs": [],
   "source": [
    "for x in os.listdir('/home/jupyter'):\n",
    "    if x.endswith('.sh') : print(x)"
   ]
  },
  {
   "cell_type": "markdown",
   "metadata": {},
   "source": [
    "### import 유형"
   ]
  },
  {
   "cell_type": "markdown",
   "metadata": {},
   "source": [
    "#### `import ` [모듈명]\n",
    "\n",
    "- 가장 일반적"
   ]
  },
  {
   "cell_type": "code",
   "execution_count": null,
   "metadata": {},
   "outputs": [],
   "source": [
    "import time\n",
    "time.ctime()"
   ]
  },
  {
   "cell_type": "markdown",
   "metadata": {},
   "source": [
    "#### `from [모듈명] import [함수/속성]`\n",
    "\n",
    "- `[모듈명].[함수명]` 형태가 아닌 함수명 직접 사용 가능"
   ]
  },
  {
   "cell_type": "code",
   "execution_count": null,
   "metadata": {},
   "outputs": [],
   "source": [
    "from time import ctime\n",
    "ctime()"
   ]
  },
  {
   "cell_type": "markdown",
   "metadata": {},
   "source": [
    "- 모두 import: `from [모듈명] import  *` "
   ]
  },
  {
   "cell_type": "markdown",
   "metadata": {},
   "source": [
    "#### `import [모듈명] as [별명]`"
   ]
  },
  {
   "cell_type": "code",
   "execution_count": null,
   "metadata": {},
   "outputs": [],
   "source": [
    "import os as linux_os\n",
    "\n",
    "linux_os.getcwd()"
   ]
  },
  {
   "cell_type": "markdown",
   "metadata": {},
   "source": [
    "## 내장 함수\n",
    "\n",
    "[주요 내장 항수](https://wikidocs.net/32)"
   ]
  },
  {
   "cell_type": "markdown",
   "metadata": {},
   "source": [
    "# 6. 클래스"
   ]
  },
  {
   "cell_type": "markdown",
   "metadata": {
    "collapsed": true
   },
   "source": [
    "데이터(property) + 함수(method)\n",
    "\n",
    "## 예: 명함 객체\n",
    "\n",
    "![data](https://wikidocs.net/images/page/3454/6.01.png)\n",
    "\n",
    "![name card object](https://wikidocs.net/images/page/3454/6.02.png)"
   ]
  },
  {
   "cell_type": "code",
   "execution_count": null,
   "metadata": {},
   "outputs": [],
   "source": [
    "class BusinessCard:\n",
    "    pass\n",
    "\n",
    "card1 = BusinessCard()\n",
    "print(card1, type(card1))"
   ]
  },
  {
   "cell_type": "code",
   "execution_count": null,
   "metadata": {},
   "outputs": [],
   "source": [
    "class BusinessCard:\n",
    "    \n",
    "    def set_info(self, name, email, addr):\n",
    "        self.name = name\n",
    "        self.email = email\n",
    "        self.addr = addr\n",
    "        \n",
    "    def print_info(self):\n",
    "                print(\"--------------------\")\n",
    "                print(\"Name: \", self.name)\n",
    "                print(\"E-mail: \", self.email)\n",
    "                print(\"Address: \", self.addr)\n",
    "                print(\"--------------------\")\n",
    "                \n",
    "member1 = BusinessCard()\n",
    "member1.set_info(\"Yuna Kim\", \"yunakim@naver.com\", \"Seoul\")\n",
    "\n",
    "member2 = BusinessCard()\n",
    "member2.set_info(\"Sarang Lee\", \"sarang.lee@naver.com\", \"Kyunggi\")\n",
    "\n",
    "print(member1.name, member1.email, member1.addr)\n",
    "member2.print_info()"
   ]
  },
  {
   "cell_type": "markdown",
   "metadata": {},
   "source": [
    "## 생성자 : `__init__()`"
   ]
  },
  {
   "cell_type": "code",
   "execution_count": null,
   "metadata": {},
   "outputs": [],
   "source": [
    "class BusinessCard:\n",
    "    \n",
    "    def __init__(self, name, email, addr):\n",
    "        self.name = name\n",
    "        self.email = email\n",
    "        self.addr = addr\n",
    "        \n",
    "    def print_info(self):\n",
    "                print(\"--------------------\")\n",
    "                print(\"Name: \", self.name)\n",
    "                print(\"E-mail: \", self.email)\n",
    "                print(\"Address: \", self.addr)\n",
    "                print(\"--------------------\")\n",
    "\n",
    "member1 = BusinessCard(\"Yuna Kim\", \"yunakim@naver.com\", \"Seoul\")\n",
    "member2 = BusinessCard(\"Sarang Lee\", \"sarang.lee@naver.com\", \"Kyunggi\")\n",
    "\n",
    "member1.print_info()"
   ]
  },
  {
   "cell_type": "markdown",
   "metadata": {},
   "source": [
    "## `self`\n",
    "\n",
    "- 왜 method의 첫번째 인자는 항상 `self`일까? \n",
    "- 아닐 수도 있음! 그러나, 그 차이는?"
   ]
  },
  {
   "cell_type": "code",
   "execution_count": null,
   "metadata": {},
   "outputs": [],
   "source": [
    "class Foo:\n",
    "    def func1():\n",
    "        print(\"function 1\")\n",
    "    def func2(self):\n",
    "        print(\"function 2\", id(self))\n",
    "        \n",
    "foo = Foo()\n",
    "\n",
    "foo.func2()"
   ]
  },
  {
   "cell_type": "markdown",
   "metadata": {},
   "source": [
    "`self`는 생성된 인스턴스를 가리킴\n",
    "- 즉, `id(obj) == id(obj.self)`\n",
    "- self가 첫 인자가 아닌 메소드는, 인스턴스가 아닌 클래스 메소드가 됨"
   ]
  },
  {
   "cell_type": "code",
   "execution_count": null,
   "metadata": {},
   "outputs": [],
   "source": [
    "id(foo)"
   ]
  },
  {
   "cell_type": "code",
   "execution_count": null,
   "metadata": {},
   "outputs": [],
   "source": [
    "foo.func1()"
   ]
  },
  {
   "cell_type": "code",
   "execution_count": null,
   "metadata": {},
   "outputs": [],
   "source": [
    "Foo.func1()"
   ]
  },
  {
   "cell_type": "code",
   "execution_count": null,
   "metadata": {},
   "outputs": [],
   "source": [
    "Foo.func2(foo)"
   ]
  },
  {
   "cell_type": "markdown",
   "metadata": {},
   "source": [
    "## 클래스 Namespace\n",
    "\n",
    "- Namespace : 변수가 객체를 바인딩할 때 그 둘 사이의 관계를 저장하는 공간\n",
    "- 클래스가 정의될 때, 독립적  네임스페이스 생성\n",
    "- 네임스페이스 확인 내장 속성: `__dict__`\n",
    "- 인스턴스별 별도 네임스페이스 유지\n",
    "- 각 인스턴스에 속성 추가 -> 네임스페이스 추가"
   ]
  },
  {
   "cell_type": "code",
   "execution_count": null,
   "metadata": {},
   "outputs": [],
   "source": [
    "class Stock:\n",
    "    market = 'kospi'\n",
    "\n",
    "s1 = Stock()\n",
    "Stock.__dict__\n",
    "s1.__dict__"
   ]
  },
  {
   "cell_type": "code",
   "execution_count": null,
   "metadata": {},
   "outputs": [],
   "source": [
    "s2 = Stock()\n",
    "s1.market = 'kosdaq'\n",
    "print(Stock.__dict__, s1.__dict__, s2.__dict__)"
   ]
  },
  {
   "cell_type": "markdown",
   "metadata": {},
   "source": [
    "- 인스턴스 네임스페이스에 속성이 없다면, 클래스 네임스페이스에서 찾음\n",
    "\n",
    "![namespace 관계](https://wikidocs.net/images/page/1743/s6.14.png)"
   ]
  },
  {
   "cell_type": "code",
   "execution_count": null,
   "metadata": {},
   "outputs": [],
   "source": [
    "s2.market"
   ]
  },
  {
   "cell_type": "code",
   "execution_count": null,
   "metadata": {},
   "outputs": [],
   "source": [
    "s2.volume"
   ]
  },
  {
   "cell_type": "markdown",
   "metadata": {},
   "source": [
    "## 클래스 변수 / 인스턴스 변수\n",
    "\n",
    "- 클래스 변수: 클래스 내부 선언 변수\n",
    "- 인스턴수 변수: self를 붙여 선언함\n",
    "\n",
    "![class, instance variables](https://wikidocs.net/images/page/1744/6.15.png)"
   ]
  },
  {
   "cell_type": "code",
   "execution_count": null,
   "metadata": {},
   "outputs": [],
   "source": [
    "class Account:\n",
    "    num_accounts = 0\n",
    "    def __init__(self, name):\n",
    "        self.name = name\n",
    "        Account.num_accounts += 1\n",
    "    def __del__(self):\n",
    "        Account.num_accounts -= 1\n",
    "\n",
    "kim = Account('kim')\n",
    "lee = Account('lee')\n",
    "\n",
    "print(kim.name)\n",
    "print(kim.num_accounts)\n",
    "print(lee.num_accounts)\n",
    "del lee\n",
    "print(Account.num_accounts)"
   ]
  },
  {
   "cell_type": "markdown",
   "metadata": {},
   "source": [
    "## 클래스 상속"
   ]
  },
  {
   "cell_type": "code",
   "execution_count": null,
   "metadata": {},
   "outputs": [],
   "source": [
    "class Parent:\n",
    "    def can_sing(self):\n",
    "        print(\"Sing a song\")\n",
    "\n",
    "father = Parent()\n",
    "father.can_sing()"
   ]
  },
  {
   "cell_type": "code",
   "execution_count": null,
   "metadata": {},
   "outputs": [],
   "source": [
    "class Child(Parent):\n",
    "    pass\n",
    "\n",
    "child = Child()\n",
    "\n",
    "child.can_sing()"
   ]
  },
  {
   "cell_type": "markdown",
   "metadata": {},
   "source": [
    "# 7. I/O"
   ]
  },
  {
   "cell_type": "code",
   "execution_count": null,
   "metadata": {},
   "outputs": [],
   "source": [
    "import os\n",
    "file_names = os.listdir()\n",
    "\n",
    "f = open('file_names.txt', 'wt')\n",
    "for name in file_names : \n",
    "    f.write('%s\\n' % name)\n",
    "f.close()"
   ]
  },
  {
   "cell_type": "code",
   "execution_count": null,
   "metadata": {},
   "outputs": [],
   "source": [
    "f = open('file_names.txt', 'r')\n",
    "\n",
    "line = f.readline()\n",
    "\n",
    "while line:\n",
    "    print(line)\n",
    "    line = f.readline()\n",
    "f.close()"
   ]
  },
  {
   "cell_type": "code",
   "execution_count": null,
   "metadata": {},
   "outputs": [],
   "source": [
    "with open('file_names_duplicated.txt', 'wt') as writer:\n",
    "    with open('file_names.txt', 'r') as reader:\n",
    "        for line in reader:\n",
    "            writer.write(line)\n",
    "#writer.close()"
   ]
  },
  {
   "cell_type": "markdown",
   "metadata": {
    "collapsed": true
   },
   "source": [
    "- [더 자세한 File I/O](https://wikidocs.net/26)"
   ]
  },
  {
   "cell_type": "code",
   "execution_count": null,
   "metadata": {
    "collapsed": true
   },
   "outputs": [],
   "source": []
  }
 ],
 "metadata": {
  "kernelspec": {
   "display_name": "Python 3",
   "language": "python",
   "name": "python3"
  },
  "language_info": {
   "codemirror_mode": {
    "name": "ipython",
    "version": 3
   },
   "file_extension": ".py",
   "mimetype": "text/x-python",
   "name": "python",
   "nbconvert_exporter": "python",
   "pygments_lexer": "ipython3",
   "version": "3.4.5"
  }
 },
 "nbformat": 4,
 "nbformat_minor": 2
}
