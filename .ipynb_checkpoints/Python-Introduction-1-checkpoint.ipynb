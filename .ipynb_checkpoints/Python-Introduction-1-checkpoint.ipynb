{
 "cells": [
  {
   "cell_type": "markdown",
   "metadata": {},
   "source": [
    "# 1. Python 소개\n",
    "\n",
    "\n",
    "## 개요\n",
    "\n",
    "- 기계학습, Deep Learning \n",
    "\n",
    "- 특히 TensorFlow는 Python 및 Pandas 활용 필수\n",
    "\n",
    "## 특징\n",
    "\n",
    "- 인터프리터 언어이나, 고성능 제공 (기본 기능 상당수는 C로 구현, cython이나 PyPy 등 성능 위주 구현체 존재)\n",
    "\n",
    "- 쉬운 문법 : 기존 언어에 익숙하지 않은 분석가들에게 인기 \n",
    "\n",
    "- 간결함 : 블럭 구조문 대신 들여쓰기(identation) 활용, List Comprehension, 람다 함수 등 \n",
    "\n",
    "- 풍부한 라이브러리 제공 : 기본 제공 모듈 강력 (battery-included), 수많은 Third-Party 모듈\n",
    "\n",
    "- 주요 ML, DL 라이브러리 기본 제공\n",
    "\n",
    "\n",
    "\n",
    "## 이슈: Python 2 vs 3\n",
    "\n",
    "- `Python 3` 이행 더뎠음 : 주요 라이브러리 2.x대에 오래 머물렀으며, 현재 리눅스 주요 배포판은 2.x만 설치됨\n",
    "\n",
    "- 대부분 주요 라이브러리 컨버전 완료. 일관성/성능 고려 `Python 3` 기반 진행 예정"
   ]
  },
  {
   "cell_type": "markdown",
   "metadata": {},
   "source": [
    "## 참고\n",
    "\n",
    "> Read–Eval–Print Loop (REPL) :  interactive toplevel or language shell, is a simple, interactive computer programming environment \n",
    "> - takes single user inputs (i.e. single expressions)\n",
    "> - evaluates them\n",
    "> - and returns the result to the user\n",
    "> - 처음에는 LISP 환경을 가리켰으나, 요즘은 대부분 스크립트 언어가 제공하는 CLI 환경을 가리킴"
   ]
  },
  {
   "cell_type": "markdown",
   "metadata": {},
   "source": [
    "# 2. 변수 / 문자열\n",
    "\n",
    "## 변수 (Variable)\n",
    "\n",
    "- 변수: 객체(object)를 가리키는 Reference 역할\n",
    "\n",
    "> - 별다른 형(type) 지정 없이 할당 가능\n",
    "> - 모든 기본 자료형 (int, float, str) 모두 객체임 (Python 2.x와의 가장 큰 차이중 하나)\n",
    "\n",
    "### 변수 할당 (Variable Allocation)"
   ]
  },
  {
   "cell_type": "code",
   "execution_count": 1,
   "metadata": {},
   "outputs": [
    {
     "data": {
      "text/plain": [
       "10000"
      ]
     },
     "execution_count": 1,
     "metadata": {},
     "output_type": "execute_result"
    }
   ],
   "source": [
    "value = 10000\n",
    "value # 마지막 행의 변수는 문자열로 변환, 화면 출력"
   ]
  },
  {
   "cell_type": "markdown",
   "metadata": {},
   "source": [
    "### 변수-객체 바인딩\n",
    "\n",
    "> `id(변수명)` : 변수에 할당된 객체의 레퍼런스 ID 확인하는 내장 함수"
   ]
  },
  {
   "cell_type": "markdown",
   "metadata": {},
   "source": [
    "#### 같은 객체에 바인딩된 경우\n",
    "\n",
    "> 변수는 `pointer` / `reference` 와 유사\n",
    "> 숫자, 문자열 등 모든 값은 파이썬 안에서 객체(object) 임\n",
    "\n",
    "![객체 바인딩](https://wikidocs.net/images/page/2836/02.07.png)\n",
    "\n",
    "- 같은 객체를 가리킬 때\n",
    "- 자주 사용될 가능성 높은 정수값은 미리 객체화, 공유하여 메모리 절약 : `0` ... `256`"
   ]
  },
  {
   "cell_type": "code",
   "execution_count": 4,
   "metadata": {},
   "outputs": [
    {
     "name": "stdout",
     "output_type": "stream",
     "text": [
      "140033587991024 140033587991024\n"
     ]
    },
    {
     "data": {
      "text/plain": [
       "True"
      ]
     },
     "execution_count": 4,
     "metadata": {},
     "output_type": "execute_result"
    }
   ],
   "source": [
    "a = 10000\n",
    "b = a\n",
    "print(id(a), id(b))\n",
    "\n",
    "# id() : 객체의 주소값 반환. 즉, 변수의 id 값이 같다는 것은 같은 객체에 바인딩되어 있다는 것\n",
    "\n",
    "x = 100\n",
    "y = 100\n",
    "id(x) == id(y)"
   ]
  },
  {
   "cell_type": "markdown",
   "metadata": {},
   "source": [
    "#### 다른 객체에 바인딩된 경우"
   ]
  },
  {
   "cell_type": "code",
   "execution_count": 5,
   "metadata": {},
   "outputs": [
    {
     "data": {
      "text/plain": [
       "False"
      ]
     },
     "execution_count": 5,
     "metadata": {},
     "output_type": "execute_result"
    }
   ],
   "source": [
    "x = 10000\n",
    "y = 10000\n",
    "id(x) == id(y)"
   ]
  },
  {
   "cell_type": "markdown",
   "metadata": {},
   "source": [
    "## 문자열"
   ]
  },
  {
   "cell_type": "code",
   "execution_count": 6,
   "metadata": {},
   "outputs": [
    {
     "data": {
      "text/plain": [
       "'hello world'"
      ]
     },
     "execution_count": 6,
     "metadata": {},
     "output_type": "execute_result"
    }
   ],
   "source": [
    "mystring  = 'hello world'\n",
    "mystring"
   ]
  },
  {
   "cell_type": "markdown",
   "metadata": {},
   "source": [
    "- `len()` : 주어진 문자열 (또는 list, tuple, dict ) 의 글자 (원소) 갯수를 반환하는 내장함수"
   ]
  },
  {
   "cell_type": "code",
   "execution_count": 7,
   "metadata": {},
   "outputs": [
    {
     "data": {
      "text/plain": [
       "11"
      ]
     },
     "execution_count": 7,
     "metadata": {},
     "output_type": "execute_result"
    }
   ],
   "source": [
    "len(mystring)"
   ]
  },
  {
   "cell_type": "markdown",
   "metadata": {},
   "source": [
    "### 문자열 Indexing / Slicing\n",
    "\n",
    "- indexing : 인덱스값을 주고, 그 위치의 글자(원소)를 받아옴 \n",
    "\n",
    "- slicing : 주어진 인덱스 범위의 문자열을 새로 만들어 반환 \n",
    "\n",
    "> - zero-based index\n",
    "> - 음수값 인덱스 가능 : 역방향, -1 이면 마지막 원소\n",
    "\n",
    "#### 양수\n",
    "\n",
    "![](https://wikidocs.net/images/page/2838/02.09.png)\n",
    "\n",
    "#### 음수\n",
    "\n",
    "![](https://wikidocs.net/images/page/2838/02.10.png)"
   ]
  },
  {
   "cell_type": "code",
   "execution_count": 8,
   "metadata": {},
   "outputs": [
    {
     "name": "stdout",
     "output_type": "stream",
     "text": [
      "e\n",
      "l\n"
     ]
    }
   ],
   "source": [
    "# Indexing\n",
    "\n",
    "print(mystring[1])\n",
    "print(mystring[-2])"
   ]
  },
  {
   "cell_type": "code",
   "execution_count": 11,
   "metadata": {},
   "outputs": [
    {
     "name": "stdout",
     "output_type": "stream",
     "text": [
      "hello world world\n",
      "True False\n"
     ]
    }
   ],
   "source": [
    "# Slicing\n",
    "\n",
    "s1 = mystring[0:5]\n",
    "s2 = mystring[6:11]\n",
    "s3 = mystring[6:]\n",
    "\n",
    "print(s1, s2, s3)\n",
    "print(s2 == s3, id(s2) == id(s3)) # 값은 동일하나, "
   ]
  },
  {
   "cell_type": "code",
   "execution_count": 10,
   "metadata": {},
   "outputs": [
    {
     "data": {
      "text/plain": [
       "'hello world'"
      ]
     },
     "execution_count": 10,
     "metadata": {},
     "output_type": "execute_result"
    }
   ],
   "source": [
    "mystring[:] # 전체 문자열 복사, 새로운 문자열로 반환"
   ]
  },
  {
   "cell_type": "code",
   "execution_count": 12,
   "metadata": {},
   "outputs": [
    {
     "data": {
      "text/plain": [
       "'worl'"
      ]
     },
     "execution_count": 12,
     "metadata": {},
     "output_type": "execute_result"
    }
   ],
   "source": [
    "mystring[6:-1]"
   ]
  },
  {
   "cell_type": "markdown",
   "metadata": {},
   "source": [
    "### 문자열 나누기 / 합치기 (split / join)\n",
    "\n",
    "#### 문자열 나누기 (split)"
   ]
  },
  {
   "cell_type": "code",
   "execution_count": 14,
   "metadata": {},
   "outputs": [
    {
     "name": "stdout",
     "output_type": "stream",
     "text": [
      "['Python', 'is', 'simple', 'in', 'string', 'manipulation.'] <class 'list'>\n"
     ]
    }
   ],
   "source": [
    "terms = 'Python is simple in string manipulation.'\n",
    "terms_list = terms.split(' ')\n",
    "print(terms_list, type(terms_list))"
   ]
  },
  {
   "cell_type": "code",
   "execution_count": 15,
   "metadata": {},
   "outputs": [
    {
     "data": {
      "text/plain": [
       "'manipulation.'"
      ]
     },
     "execution_count": 15,
     "metadata": {},
     "output_type": "execute_result"
    }
   ],
   "source": [
    "terms.split(' ')[-1]"
   ]
  },
  {
   "cell_type": "markdown",
   "metadata": {},
   "source": [
    "#### 문자열 합치기 (join)"
   ]
  },
  {
   "cell_type": "code",
   "execution_count": 17,
   "metadata": {},
   "outputs": [
    {
     "name": "stdout",
     "output_type": "stream",
     "text": [
      "Python_is_simple_in_string_manipulation.\n"
     ]
    }
   ],
   "source": [
    "terms_with_underscore = '_'.join(terms_list)\n",
    "print(terms_with_underscore)"
   ]
  },
  {
   "cell_type": "code",
   "execution_count": 18,
   "metadata": {},
   "outputs": [
    {
     "name": "stdout",
     "output_type": "stream",
     "text": [
      "Pythonissimpleinstringmanipulation.\n"
     ]
    }
   ],
   "source": [
    "terms_without_delimiter = ''.join(terms_list)\n",
    "print(terms_without_delimiter)"
   ]
  },
  {
   "cell_type": "markdown",
   "metadata": {},
   "source": [
    "## 기본 데이터 타입"
   ]
  },
  {
   "cell_type": "markdown",
   "metadata": {},
   "source": [
    "![Python Data Types](https://wikidocs.net/images/page/2841/02.11.png)"
   ]
  },
  {
   "cell_type": "markdown",
   "metadata": {},
   "source": [
    "### Type Check \n",
    "\n",
    "- `type()` 함수 사용"
   ]
  },
  {
   "cell_type": "code",
   "execution_count": 19,
   "metadata": {},
   "outputs": [
    {
     "name": "stdout",
     "output_type": "stream",
     "text": [
      "<class 'int'> <class 'float'> <class 'str'>\n"
     ]
    }
   ],
   "source": [
    "print(type(70000), type(3.14), type('abc'))"
   ]
  },
  {
   "cell_type": "markdown",
   "metadata": {},
   "source": [
    "# 3. 기본 자료 구조 "
   ]
  },
  {
   "cell_type": "markdown",
   "metadata": {},
   "source": [
    "## 리스트 (list)"
   ]
  },
  {
   "cell_type": "markdown",
   "metadata": {},
   "source": [
    "### 생성"
   ]
  },
  {
   "cell_type": "code",
   "execution_count": 20,
   "metadata": {},
   "outputs": [
    {
     "name": "stdout",
     "output_type": "stream",
     "text": [
      "[9130, 9150, 9150, 9300, 9400] ['Naver', 5000] []\n"
     ]
    }
   ],
   "source": [
    "# 정수 리스트\n",
    "daishin = [9130, 9150, 9150, 9300, 9400]\n",
    "\n",
    "# 다른 type 포함 리스트도 가능!\n",
    "mystock = ['Naver', 5000]\n",
    "\n",
    "# 빈(empty) 리스트\n",
    "mystock_empty = []\n",
    "\n",
    "print(daishin, mystock, mystock_empty)"
   ]
  },
  {
   "cell_type": "code",
   "execution_count": 21,
   "metadata": {},
   "outputs": [
    {
     "data": {
      "text/plain": [
       "[1, 2, 3, [0, 1, 2, 3, 4], 4]"
      ]
     },
     "execution_count": 21,
     "metadata": {},
     "output_type": "execute_result"
    }
   ],
   "source": [
    "# 리스트 안에 리스트도 가능 (nested list)\n",
    "\n",
    "[1,2,3,list(range(0,5)),4]"
   ]
  },
  {
   "cell_type": "code",
   "execution_count": 24,
   "metadata": {},
   "outputs": [
    {
     "data": {
      "text/plain": [
       "[]"
      ]
     },
     "execution_count": 24,
     "metadata": {},
     "output_type": "execute_result"
    }
   ],
   "source": [
    "# 빈 리스트를 만드는 다른 방법\n",
    "\n",
    "list()"
   ]
  },
  {
   "cell_type": "markdown",
   "metadata": {},
   "source": [
    "### Indexing / Slicing\n",
    "\n",
    "> 문자열도 `char` type의 리스트이므로, Indexing / Slicing 방법 또한 동일!\n",
    "\n",
    "![list indexing](https://wikidocs.net/images/page/2848/03.03.png)"
   ]
  },
  {
   "cell_type": "code",
   "execution_count": 25,
   "metadata": {},
   "outputs": [
    {
     "name": "stdout",
     "output_type": "stream",
     "text": [
      "9130 9150\n",
      "9400 9300\n",
      "[9150, 9150] [9130, 9150, 9150]\n",
      "[9300, 9400] [9300]\n"
     ]
    }
   ],
   "source": [
    "print(daishin[0], daishin[1])\n",
    "print(daishin[-1], daishin[-2])\n",
    "print(daishin[1:3], daishin[:3])\n",
    "print(daishin[3:], daishin[3:-1])"
   ]
  },
  {
   "cell_type": "markdown",
   "metadata": {},
   "source": [
    "### 아이템 변경 / 추가 / 삭제"
   ]
  },
  {
   "cell_type": "code",
   "execution_count": 26,
   "metadata": {},
   "outputs": [
    {
     "name": "stdout",
     "output_type": "stream",
     "text": [
      "140033587604616\n",
      "['삼성전자', 'SK하이닉스', '현대차', '한국전력', '아모레퍼시픽', '제일모직', '삼성전자_우', '삼성생명', 'NAVER', '현대모비스', 'SK텔레콤'] 140033587604616\n",
      "140033587604616\n",
      "140033587438664\n"
     ]
    }
   ],
   "source": [
    "kospi_top10 = ['삼성전자', 'SK하이닉스', '현대차', '한국전력', '아모레퍼시픽', '제일모직', '삼성전자우', '삼성생명', 'NAVER', '현대모비스']\n",
    "print(id(kospi_top10))\n",
    "kospi_top10[6] = '삼성전자_우'\n",
    "kospi_top10.append('SK텔레콤') #바인딩된 리스트 자체 업데이트, 반환값은 없음. \n",
    "print(kospi_top10, id(kospi_top10))\n",
    "\n",
    "kospi_top11 = kospi_top10 # 새로운 객체를 만들지 않았음!\n",
    "print(id(kospi_top11))\n",
    "kospi_top11 = kospi_top11.copy() # 같은 항목을 가진 새로운 객체를 만들고, 그 객체와 바인딩\n",
    "print(id(kospi_top11))"
   ]
  },
  {
   "cell_type": "code",
   "execution_count": 27,
   "metadata": {},
   "outputs": [
    {
     "name": "stdout",
     "output_type": "stream",
     "text": [
      "SK텔레콤\n",
      "10 ['삼성전자', 'SK하이닉스', '현대차', '한국전력', '아모레퍼시픽', '제일모직', '삼성전자_우', '삼성생명', 'NAVER', '현대모비스']\n",
      "11 ['삼성전자', 'SK하이닉스', '현대차', '한국전력', '아모레퍼시픽', '제일모직', '삼성전자_우', '삼성생명', 'NAVER', '현대모비스', 'SK텔레콤']\n"
     ]
    }
   ],
   "source": [
    "print(kospi_top11[-1])\n",
    "\n",
    "del kospi_top11[-1]\n",
    "print(len(kospi_top11), kospi_top11)\n",
    "print(len(kospi_top10), kospi_top10)"
   ]
  },
  {
   "cell_type": "markdown",
   "metadata": {},
   "source": [
    "## 튜플 (tuple)\n",
    "\n",
    "> 변경 불가능한 (immutable) 리스트\n",
    "\n",
    "- 리스트는 '[' 와 ']'를 사용하는 반면 튜플은 '('와 ')'를 사용한다. \n",
    "- 리스트는 리스트 내의 원소를 변경할 수 있지만 튜플은 변경할 수 없다. "
   ]
  },
  {
   "cell_type": "code",
   "execution_count": 28,
   "metadata": {},
   "outputs": [
    {
     "name": "stdout",
     "output_type": "stream",
     "text": [
      "('Samsung', 'LG', 'SK')\n",
      "3 Samsung\n",
      "140033588021432 140033647155208 ('Samsung', 'LG')\n"
     ]
    }
   ],
   "source": [
    "t = ('Samsung', 'LG', 'SK')\n",
    "print(t)\n",
    "print(len(t), t[0])\n",
    "t_sliced = t[0:2] ; print(id(t), id(t_sliced), t_sliced)"
   ]
  },
  {
   "cell_type": "code",
   "execution_count": 30,
   "metadata": {},
   "outputs": [
    {
     "data": {
      "text/plain": [
       "['Samsung', 'LG']"
      ]
     },
     "execution_count": 30,
     "metadata": {},
     "output_type": "execute_result"
    }
   ],
   "source": [
    "list(t_sliced)"
   ]
  },
  {
   "cell_type": "code",
   "execution_count": 31,
   "metadata": {},
   "outputs": [
    {
     "ename": "TypeError",
     "evalue": "'tuple' object does not support item assignment",
     "output_type": "error",
     "traceback": [
      "\u001b[0;31m---------------------------------------------------------------------------\u001b[0m",
      "\u001b[0;31mTypeError\u001b[0m                                 Traceback (most recent call last)",
      "\u001b[0;32m<ipython-input-31-2df8150c75b2>\u001b[0m in \u001b[0;36m<module>\u001b[0;34m()\u001b[0m\n\u001b[0;32m----> 1\u001b[0;31m \u001b[0mt\u001b[0m\u001b[0;34m[\u001b[0m\u001b[0;36m0\u001b[0m\u001b[0;34m]\u001b[0m \u001b[0;34m=\u001b[0m \u001b[0;34m'Naver'\u001b[0m \u001b[0;31m# 변경 불가능하므로, Error 발생\u001b[0m\u001b[0;34m\u001b[0m\u001b[0m\n\u001b[0m",
      "\u001b[0;31mTypeError\u001b[0m: 'tuple' object does not support item assignment"
     ]
    }
   ],
   "source": [
    "t[0] = 'Naver' # 변경 불가능하므로, Error 발생"
   ]
  },
  {
   "cell_type": "markdown",
   "metadata": {},
   "source": [
    "## 딕셔너리 (dict)\n",
    "\n",
    "- Key-Value 데이터 구조 (Java의 `Map`과 유사)\n",
    "-  '{'와 '}' 기호를 사용"
   ]
  },
  {
   "cell_type": "markdown",
   "metadata": {},
   "source": [
    "### Dict 생성 및 아이템 추가"
   ]
  },
  {
   "cell_type": "code",
   "execution_count": 32,
   "metadata": {},
   "outputs": [
    {
     "name": "stdout",
     "output_type": "stream",
     "text": [
      "<class 'dict'>\n",
      "{'daeshin': 30000}\n",
      "{'daeshin': 30000, 'KAKAO': 80000}\n"
     ]
    }
   ],
   "source": [
    "cur_price = {}\n",
    "print(type(cur_price))\n",
    "\n",
    "cur_price['daeshin'] = 30000 ; print(cur_price)\n",
    "cur_price['KAKAO'] = 80000 ; print(cur_price)"
   ]
  },
  {
   "cell_type": "code",
   "execution_count": 33,
   "metadata": {},
   "outputs": [
    {
     "data": {
      "text/plain": [
       "{'KAKAO': 80000, 'daeshin': 30000}"
      ]
     },
     "execution_count": 33,
     "metadata": {},
     "output_type": "execute_result"
    }
   ],
   "source": [
    "cur_price2 = {'daeshin': 30000, 'KAKAO': 80000}\n",
    "cur_price2"
   ]
  },
  {
   "cell_type": "markdown",
   "metadata": {},
   "source": [
    "### Dict 아이템 삭제"
   ]
  },
  {
   "cell_type": "code",
   "execution_count": 34,
   "metadata": {},
   "outputs": [
    {
     "name": "stdout",
     "output_type": "stream",
     "text": [
      "{'naver': 800000, 'KAKAO': 80000}\n"
     ]
    }
   ],
   "source": [
    "cur_price = {'KAKAO': 80000, 'naver':800000, 'daeshin':30000}\n",
    "del cur_price['daeshin']\n",
    "print(cur_price)"
   ]
  },
  {
   "cell_type": "markdown",
   "metadata": {},
   "source": [
    "### Key, Value 목록 구하기"
   ]
  },
  {
   "cell_type": "code",
   "execution_count": 35,
   "metadata": {},
   "outputs": [
    {
     "data": {
      "text/plain": [
       "dict_keys(['naver', 'Daum KAKAO', 'daeshin'])"
      ]
     },
     "execution_count": 35,
     "metadata": {},
     "output_type": "execute_result"
    }
   ],
   "source": [
    "cur_price = {'Daum KAKAO': 80000, 'naver':800000, 'daeshin':30000}\n",
    "cur_price.keys()"
   ]
  },
  {
   "cell_type": "code",
   "execution_count": 36,
   "metadata": {},
   "outputs": [
    {
     "data": {
      "text/plain": [
       "dict_values([800000, 80000, 30000])"
      ]
     },
     "execution_count": 36,
     "metadata": {},
     "output_type": "execute_result"
    }
   ],
   "source": [
    "cur_price.values()"
   ]
  },
  {
   "cell_type": "code",
   "execution_count": 37,
   "metadata": {},
   "outputs": [
    {
     "name": "stdout",
     "output_type": "stream",
     "text": [
      "['naver', 'Daum KAKAO', 'daeshin']\n"
     ]
    }
   ],
   "source": [
    "keys = list(cur_price.keys())\n",
    "print(keys)"
   ]
  },
  {
   "cell_type": "code",
   "execution_count": 38,
   "metadata": {},
   "outputs": [
    {
     "data": {
      "text/plain": [
       "False"
      ]
     },
     "execution_count": 38,
     "metadata": {},
     "output_type": "execute_result"
    }
   ],
   "source": [
    "'Samsung' in keys"
   ]
  },
  {
   "cell_type": "code",
   "execution_count": 39,
   "metadata": {},
   "outputs": [
    {
     "data": {
      "text/plain": [
       "True"
      ]
     },
     "execution_count": 39,
     "metadata": {},
     "output_type": "execute_result"
    }
   ],
   "source": [
    "'naver' in keys"
   ]
  },
  {
   "cell_type": "code",
   "execution_count": 40,
   "metadata": {},
   "outputs": [
    {
     "ename": "KeyError",
     "evalue": "'Samsung'",
     "output_type": "error",
     "traceback": [
      "\u001b[0;31m---------------------------------------------------------------------------\u001b[0m",
      "\u001b[0;31mKeyError\u001b[0m                                  Traceback (most recent call last)",
      "\u001b[0;32m<ipython-input-40-f6371d9e80df>\u001b[0m in \u001b[0;36m<module>\u001b[0;34m()\u001b[0m\n\u001b[0;32m----> 1\u001b[0;31m \u001b[0mcur_price\u001b[0m\u001b[0;34m[\u001b[0m\u001b[0;34m'Samsung'\u001b[0m\u001b[0;34m]\u001b[0m \u001b[0;31m# Error!\u001b[0m\u001b[0;34m\u001b[0m\u001b[0m\n\u001b[0m",
      "\u001b[0;31mKeyError\u001b[0m: 'Samsung'"
     ]
    }
   ],
   "source": [
    "cur_price['Samsung'] # Error!"
   ]
  }
 ],
 "metadata": {
  "kernelspec": {
   "display_name": "Python 3",
   "language": "python",
   "name": "python3"
  },
  "language_info": {
   "codemirror_mode": {
    "name": "ipython",
    "version": 3
   },
   "file_extension": ".py",
   "mimetype": "text/x-python",
   "name": "python",
   "nbconvert_exporter": "python",
   "pygments_lexer": "ipython3",
   "version": "3.4.5"
  }
 },
 "nbformat": 4,
 "nbformat_minor": 2
}
